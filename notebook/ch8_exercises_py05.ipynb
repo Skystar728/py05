{
  "nbformat": 4,
  "nbformat_minor": 0,
  "metadata": {
    "colab": {
      "name": "ch8_exercises_py05.ipynb",
      "provenance": [],
      "collapsed_sections": [],
      "include_colab_link": true
    },
    "kernelspec": {
      "name": "python3",
      "display_name": "Python 3"
    }
  },
  "cells": [
    {
      "cell_type": "markdown",
      "metadata": {
        "id": "view-in-github",
        "colab_type": "text"
      },
      "source": [
        "<a href=\"https://colab.research.google.com/github/Skystar728/py05/blob/master/notebook/ch8_exercises_py05.ipynb\" target=\"_parent\"><img src=\"https://colab.research.google.com/assets/colab-badge.svg\" alt=\"Open In Colab\"/></a>"
      ]
    },
    {
      "cell_type": "markdown",
      "metadata": {
        "id": "ovY5jkD5dpxE",
        "colab_type": "text"
      },
      "source": [
        "# ch8_exercises_py05.ipynb"
      ]
    },
    {
      "cell_type": "markdown",
      "metadata": {
        "id": "SZw6UnxQWYBe",
        "colab_type": "text"
      },
      "source": [
        "Q1. 문자열 바꾸기\n",
        "> 다음과 같은 문자열이 있다.\n",
        "\n",
        "```\n",
        "a:b:c:d\n",
        "```\n",
        "\n",
        "> 문자열의 split와 join 함수를 사용하여 위 문자열을 다음과 같이 고치시오.\n",
        "\n",
        "```\n",
        "a#b#c#d\n",
        "```\n"
      ]
    },
    {
      "cell_type": "code",
      "metadata": {
        "id": "rUNNaqJPdg7B",
        "colab_type": "code",
        "colab": {
          "base_uri": "https://localhost:8080/",
          "height": 35
        },
        "outputId": "aa368795-e5d5-4ebb-b155-e6b63024db96"
      },
      "source": [
        "# [Q1] Code-1 split,join 사용\n",
        "a = \"a:b:c:d\"   # a에 주어진 조건인 \"a:b:c:d\"를 입력한다.\n",
        "b = a.split(\":\")  # split 함수를 이용해서 \":\"를 기준으로 나눈다. b = ['a', 'b', 'c', 'd']\n",
        "\n",
        "c = \"#\".join(b)   # 나눠진 b의 각각의 문자 사이에 \"#\"을 넣어준다. c = \"a#b#c#d\"\n",
        "c   # c를 출력하면 \"a#b#c#d\"가 나오게 된다."
      ],
      "execution_count": null,
      "outputs": [
        {
          "output_type": "execute_result",
          "data": {
            "text/plain": [
              "'a#b#c#d'"
            ]
          },
          "metadata": {
            "tags": []
          },
          "execution_count": 3
        }
      ]
    },
    {
      "cell_type": "code",
      "metadata": {
        "colab_type": "code",
        "id": "x0OIIHRmDwtd",
        "colab": {
          "base_uri": "https://localhost:8080/",
          "height": 35
        },
        "outputId": "eea30e2c-d582-4817-a750-4ba669e8d1d6"
      },
      "source": [
        "# [Q1] Code-2 split,join 사용\n",
        "def split_join(str, split_str, join_str):  # 문자열을 나누고 삽입하는 함수를 만든다.\n",
        "    return join_str.join(str.split(split_str))   # str에 입력된 문자열을 split_str에 입력된 문자열을 기준으로 나눈다. 그 다음으로 join_str에 입력된 문자열을 나눈 문자열의 문자 사이사이에 삽입한다.\n",
        "\n",
        "split_join(\"a:b:c:d\", \":\", \"#\")   # \"a:b:c:d\".split(\":\") = ['a', 'b', 'c', 'd'], \"#\".join(['a', 'b', 'c', 'd']) = 'a#b#c#d'"
      ],
      "execution_count": null,
      "outputs": [
        {
          "output_type": "execute_result",
          "data": {
            "text/plain": [
              "'a#b#c#d'"
            ]
          },
          "metadata": {
            "tags": []
          },
          "execution_count": 2
        }
      ]
    },
    {
      "cell_type": "code",
      "metadata": {
        "id": "d8ZQg_ldd0Bt",
        "colab_type": "code",
        "colab": {
          "base_uri": "https://localhost:8080/",
          "height": 35
        },
        "outputId": "1f4e1e25-bdf1-4a7c-a630-e8e735ae5bd2"
      },
      "source": [
        "# [Q1] Code-3 split,join 사용\n",
        "a = \"a:b:c:d\"   # a에 주어진 조건인 \"a:b:c:d\"를 입력한다.\n",
        "colon = \":\"   # \":\"를 변수 colon에 넣는다.\n",
        "b = a.split(colon)  # split 함수를 이용해서 변수 colon에 입력된 \":\"을 기준으로 나눈다. b = ['a', 'b', 'c', 'd']\n",
        "\n",
        "sharp = \"#\"   # \"#\"를 변수 sharp에 넣는다.\n",
        "c = sharp.join(b)   # 나눠진 b의 각각의 문자 사이에 변수 sharp에 입력된 \"#\"을 넣어준다. c = \"a#b#c#d\"\n",
        "c   # c를 출력하면 \"a#b#c#d\"가 나오게 된다."
      ],
      "execution_count": null,
      "outputs": [
        {
          "output_type": "execute_result",
          "data": {
            "text/plain": [
              "'a#b#c#d'"
            ]
          },
          "metadata": {
            "tags": []
          },
          "execution_count": 4
        }
      ]
    },
    {
      "cell_type": "code",
      "metadata": {
        "id": "Ddhji3McgqiU",
        "colab_type": "code",
        "colab": {
          "base_uri": "https://localhost:8080/",
          "height": 35
        },
        "outputId": "ed425a13-6ec1-4090-faae-f16ced894972"
      },
      "source": [
        "# [Q1] Code-4 replace 사용\n",
        "a = \"a:b:c:d\"   # a에 주어진 조건인 \"a:b:c:d\"를 입력한다.\n",
        "b = a.replace(\":\", \"#\")   # replace 함수를 이용해 문자열의 \":\"을 \"#\"으로 바꾼다. b = \"a#b#c#d\"\n",
        "b   # b를 출력하면 \"a#b#c#d\"가 나오게 된다."
      ],
      "execution_count": null,
      "outputs": [
        {
          "output_type": "execute_result",
          "data": {
            "text/plain": [
              "'a#b#c#d'"
            ]
          },
          "metadata": {
            "tags": []
          },
          "execution_count": 5
        }
      ]
    },
    {
      "cell_type": "code",
      "metadata": {
        "id": "rxwOQWw6hBrw",
        "colab_type": "code",
        "colab": {
          "base_uri": "https://localhost:8080/",
          "height": 35
        },
        "outputId": "68397ddd-b187-4785-f5da-cd1c4df516ff"
      },
      "source": [
        "# [Q1] Code-5 replace 사용\n",
        "def rep(str, std_str, chg_str):  # 문자열을 바꾸는 함수를 만든다.\n",
        "    return str.replace(std_str, chg_str)  # str에 입력된 문자열에서 바꿀 문자열 std_str을 새문자열인 chg_str로 변경하여 되돌려준다. \n",
        "\n",
        "rep(\"a:b:c:d\", \":\", \"#\")  # 따라서 \"a:b:c:d\"에서 \":\"을 \"#\"으로 변경한 값을 돌려받아 출력하게 된다."
      ],
      "execution_count": null,
      "outputs": [
        {
          "output_type": "execute_result",
          "data": {
            "text/plain": [
              "'a#b#c#d'"
            ]
          },
          "metadata": {
            "tags": []
          },
          "execution_count": 6
        }
      ]
    },
    {
      "cell_type": "markdown",
      "metadata": {
        "colab_type": "text",
        "id": "re2-XrUYXF1m"
      },
      "source": [
        "## Q2. 딕셔너리 값 추출하기\n",
        "> 다음은 딕셔너리의 a에서 'C'라는 key에 해당하는 value를 출력하는 프로그램이다.\n",
        "```\n",
        ">>> a = {'A':90, 'B':80}\n",
        ">>> a['C']\n",
        "Traceback (most recent call last):\n",
        "  File \"<stdin>\", line 1, in <module>\n",
        "KeyError: 'C'\n",
        "```\n",
        ">> a 딕셔너리에는 'C'라는 key가 없으므로 위와 같은 오류가 발생한다.  \n",
        ">>'C'에 해당하는 key 값이 없을 경우 오류 대신 70을 얻을 수 있도록 수정하시오."
      ]
    },
    {
      "cell_type": "code",
      "metadata": {
        "colab_type": "code",
        "id": "5MBLUZ5WXF1q",
        "colab": {
          "base_uri": "https://localhost:8080/",
          "height": 35
        },
        "outputId": "1635a576-ae06-4e26-d58a-844cb79dcb6f"
      },
      "source": [
        "# [Q2] Code-1\n",
        "a = {'A':90, 'B':80}\n",
        "a.get('C', 70)  # get 함수를 이용하여 딕셔너리 안에 찾으려는 key 값이 없을 경우 미리 정해둔 디폴트 값을 대신 가져오게 한다. 따라서 'C'라는 key 값이 없기 때문에 디폴트 값인 70을 가져온다."
      ],
      "execution_count": null,
      "outputs": [
        {
          "output_type": "execute_result",
          "data": {
            "text/plain": [
              "70"
            ]
          },
          "metadata": {
            "tags": []
          },
          "execution_count": 1
        }
      ]
    },
    {
      "cell_type": "code",
      "metadata": {
        "colab_type": "code",
        "id": "viVk7IDSEQZX",
        "colab": {
          "base_uri": "https://localhost:8080/",
          "height": 35
        },
        "outputId": "d49af76f-e9a5-4112-ef37-0cbc0fcfaf67"
      },
      "source": [
        "# [Q2] Code-2\n",
        "a = {'A':90, 'B':80}\n",
        "a['C'] = 70   # a 딕셔너리 안에 key 값이 'C'이고 value 값이 70인 쌍을 추가한다.\n",
        "print(a['C']) # 추가한 후 a 딕셔너리 안에 있는 'C' key의 value 값인 70을 출력한다."
      ],
      "execution_count": null,
      "outputs": [
        {
          "output_type": "stream",
          "text": [
            "70\n"
          ],
          "name": "stdout"
        }
      ]
    },
    {
      "cell_type": "code",
      "metadata": {
        "id": "b48QuFW8zd_i",
        "colab_type": "code",
        "colab": {
          "base_uri": "https://localhost:8080/",
          "height": 35
        },
        "outputId": "0a486bef-f92c-4ea0-8dfe-36bcbd3e8404"
      },
      "source": [
        "# [Q2] Code-3\n",
        "a = {'A':90, 'B':80}\n",
        "try:  # try 블록 수행 중 오류가 발생하면 except 블록이 수행된다. 하지만 try 블록에서 오류가 발생하지 않는다면 except 블록은 수행되지 않는다.\n",
        "    a['C']  # 하지만 딕셔너리의 'C'라는 key 값이 없기 때문에 오류 메시지 변수가 C 인 KeyError가 발생한다.\n",
        "except KeyError as C:  # 오류 메시지 변수가 C 인 KeyError가 발생한 경우 70을 출력하는 오류 예외 처리를 만든다.\n",
        "    print(70)"
      ],
      "execution_count": null,
      "outputs": [
        {
          "output_type": "stream",
          "text": [
            "70\n"
          ],
          "name": "stdout"
        }
      ]
    },
    {
      "cell_type": "markdown",
      "metadata": {
        "colab_type": "text",
        "id": "UZy8lu_BXGnT"
      },
      "source": [
        "## Q3. 리스트의 더하기와 extend 함수\n",
        "> 다음과 같은 리스트 a가 있다.\n",
        "```\n",
        "a = [1, 2, 3]\n",
        "```\n",
        "> 리스트 a에 [4, 5]를 + 기호를 사용하여 더한 결과는 다음과 같다.\n",
        "```\n",
        ">>> a = [1, 2, 3]\n",
        ">>> a = a + [4,5]\n",
        ">>> a\n",
        "[1, 2, 3, 4, 5]\n",
        "```\n",
        "> 리스트 a에 [4,5]를 extend를 사용하여 더한 결과는 다음과 같다.\n",
        "```\n",
        ">>> a = [1, 2, 3]\n",
        ">>> a.extend([4, 5])\n",
        ">>> a\n",
        "[1, 2, 3, 4, 5]\n",
        "```\n",
        "\n",
        "> ### + 기호를 사용하여 더한 것과 extend한 것의 차이점이 있을까? 있다면 그 차이점을 설명하시오."
      ]
    },
    {
      "cell_type": "code",
      "metadata": {
        "colab_type": "code",
        "id": "H9T_sXHzXGnW",
        "colab": {
          "base_uri": "https://localhost:8080/",
          "height": 70
        },
        "outputId": "f0a0487e-aa9b-4ce5-8f6c-c9bf51a8c6de"
      },
      "source": [
        "# [Q3] Explain - 1 (코드와 주석으로 설명하시오)\n",
        "a = [1, 2, 3]\n",
        "print(id(a))  # 리스트 a의 주소값은 139947795417416 이다.\n",
        "a = a + [4, 5] # 리스트 a에 [4, 5]를 기본 연산자 + 로 더한다.\n",
        "print(a)  # 리스트 a는 [1, 2, 3, 4, 5]로 바뀌게 된다.\n",
        "print(id(a))  # 하지만 바뀐 리스트의 주소값은 139947794367112 로 처음 리스트 a와 주소값이 다르다. 정리하면 첫 리스트와 다른 새로운 리스트가 반환되었다."
      ],
      "execution_count": null,
      "outputs": [
        {
          "output_type": "stream",
          "text": [
            "139947795417416\n",
            "[1, 2, 3, 4, 5]\n",
            "139947794367112\n"
          ],
          "name": "stdout"
        }
      ]
    },
    {
      "cell_type": "code",
      "metadata": {
        "id": "YU7-92s13rY4",
        "colab_type": "code",
        "colab": {
          "base_uri": "https://localhost:8080/",
          "height": 70
        },
        "outputId": "018cf93c-42d1-4753-f18f-c622436b2f2c"
      },
      "source": [
        "# [Q3] Explain - 2 (코드와 주석으로 설명하시오)\n",
        "a = [1, 2, 3]\n",
        "print(id(a))  # 리스트 a의 주소값은 139947794689736 이다.\n",
        "a.extend([4, 5])  # 리스트 a에 extend를 이용하여 [4, 5]를 더한다.\n",
        "print(a)  # 리스트 a는 [1, 2, 3, 4, 5]로 바뀌게 된다.\n",
        "print(id(a))  # 바뀐 리스트의 주소값은 139947794689736 으로 처음 리스트 a와 주소값이 같다. 정리하면 바뀐 리스트는 첫 리스트와 같고 값만 다른 리스트이다."
      ],
      "execution_count": null,
      "outputs": [
        {
          "output_type": "stream",
          "text": [
            "139947794689736\n",
            "[1, 2, 3, 4, 5]\n",
            "139947794689736\n"
          ],
          "name": "stdout"
        }
      ]
    },
    {
      "cell_type": "markdown",
      "metadata": {
        "colab_type": "text",
        "id": "fqypxxqTXHY7"
      },
      "source": [
        "## Q4. 리스트 총합 구하기\n",
        "> 다음은 A학급 학생의 점수를 나타내는 리스트이다. 다음 리스트에서 50점 이상 점수의 총합을 구하시오.\n",
        "```\n",
        "A = [20, 55, 67, 82, 45, 33, 90, 87, 100, 25]\n",
        "```"
      ]
    },
    {
      "cell_type": "code",
      "metadata": {
        "colab_type": "code",
        "id": "oQ5UnmayXHY-",
        "colab": {
          "base_uri": "https://localhost:8080/",
          "height": 35
        },
        "outputId": "f80eb923-c4ba-444b-9d5c-54824ae542ef"
      },
      "source": [
        "# [Q4] Code-1\n",
        "A = [20, 55, 67, 82, 45, 33, 90, 87, 100, 25]\n",
        "result = 0\n",
        "while A:  # A 리스트에 값이 있는 동안 반복된다.\n",
        "    mark = A.pop()  # A 리스트의 가장 마지막 항목을 뽑아 변수 mark에 넣는다.\n",
        "    if mark >= 50:  # 만약 mark가 50 이상이면,\n",
        "        result += mark  # result에 mark 값을 더한다.\n",
        "\n",
        "print(result) # 리스트 A에 50이상인 수만 모두 더해진 결과값이 나온다."
      ],
      "execution_count": null,
      "outputs": [
        {
          "output_type": "stream",
          "text": [
            "481\n"
          ],
          "name": "stdout"
        }
      ]
    },
    {
      "cell_type": "code",
      "metadata": {
        "colab_type": "code",
        "id": "pMQ1e6jpFomt",
        "colab": {
          "base_uri": "https://localhost:8080/",
          "height": 35
        },
        "outputId": "45d15742-960d-42b6-8888-378b9735707d"
      },
      "source": [
        "# [Q4] Code-2\n",
        "A = [20, 55, 67, 82, 45, 33, 90, 87, 100, 25]\n",
        "result = 0\n",
        "for mark in A:  # A에 있는 리스트의 요소를 리스트가 비어질 때까지 하나씩 mark에 넣는 것을 반복한다. \n",
        "    if mark >= 50:  # 만약 mark가 50 이상이면,\n",
        "        result += mark  # result에 mark 값을 더한다.\n",
        "\n",
        "print(result) # 리스트 A에 50이상인 수만 모두 더해진 결과값이 나온다."
      ],
      "execution_count": null,
      "outputs": [
        {
          "output_type": "stream",
          "text": [
            "481\n"
          ],
          "name": "stdout"
        }
      ]
    },
    {
      "cell_type": "code",
      "metadata": {
        "id": "B567x-rEEaAZ",
        "colab_type": "code",
        "colab": {
          "base_uri": "https://localhost:8080/",
          "height": 52
        },
        "outputId": "a44576ec-7ff7-463e-c186-087fec4c777b"
      },
      "source": [
        "# [Q4] Code-3\n",
        "A = [20, 55, 67, 82, 45, 33, 90, 87, 100, 25]\n",
        "B = []  # B 라는 빈 리스트를 만든다.\n",
        "for mark in A:  # A에 있는 리스트의 요소를 리스트가 비어질 때까지 하나씩 mark에 넣는 것을 반복한다.\n",
        "    if mark >= 50:  # 만약 mark가 50 이상이면,\n",
        "        B.append(mark)  # 리스트 B에 append 함수를 이용해 mark를 추가한다.\n",
        "\n",
        "print(B)  # B 리스트에는 A 리스트의 요소 중 50 이상인 요소만 있는 리스트가 생긴다. B = [55, 67, 82, 90, 87, 100]\n",
        "print(sum(B)) # sum 함수를 이용해 B 리스트의 모든 요소를 합한다."
      ],
      "execution_count": null,
      "outputs": [
        {
          "output_type": "stream",
          "text": [
            "[55, 67, 82, 90, 87, 100]\n",
            "481\n"
          ],
          "name": "stdout"
        }
      ]
    },
    {
      "cell_type": "code",
      "metadata": {
        "id": "65ZfkZbLHYRX",
        "colab_type": "code",
        "colab": {
          "base_uri": "https://localhost:8080/",
          "height": 35
        },
        "outputId": "b064544a-c2cc-4bbc-a5e3-5c7080eb6949"
      },
      "source": [
        "# [Q4] Code-4\n",
        "A = [20, 55, 67, 82, 45, 33, 90, 87, 100, 25]\n",
        "result = 0  \n",
        "count = -1  \n",
        "while count < 9:  # count가 8일 경우까지만 반복한다.\n",
        "    count += 1  # count += 1 -> count = count + 1, count를 1씩 올린다.\n",
        "    if A[count] < 50: continue  # A[count]가 50미만일 경우 반복문 처음으로 돌아간다.\n",
        "    result += A[count]  # 앞선 if문 때문에 50이상인 수들만 result에 더해진다.\n",
        "print(result) # 리스트 A에 50이상인 수만 모두 더해진 결과값이 나온다."
      ],
      "execution_count": null,
      "outputs": [
        {
          "output_type": "stream",
          "text": [
            "481\n"
          ],
          "name": "stdout"
        }
      ]
    },
    {
      "cell_type": "markdown",
      "metadata": {
        "colab_type": "text",
        "id": "NKsvciXZXIL-"
      },
      "source": [
        "## Q5. 피보나치 함수\n",
        "> 첫 번째 항의 값이 0이고 두 번째 항의 값이 1일 때, 이후에 이어지는 항은 이전의 두 항을 더한 값으로 이루어지는 수열을 피보나치 수열이라고 한다.\n",
        "```\n",
        "0, 1, 1, 2, 3, 5, 8, 13, 21, ...\n",
        "```\n",
        "> 입력을 정수 n으로 받았을 때, n 이하까지의 피보나치 수열을 출력하는 함수를 작성해 보자.\n"
      ]
    },
    {
      "cell_type": "code",
      "metadata": {
        "colab_type": "code",
        "id": "5MZQYOVjXIL_",
        "colab": {
          "base_uri": "https://localhost:8080/",
          "height": 212
        },
        "outputId": "f3d5f052-4ef7-44da-e380-3ead96986035"
      },
      "source": [
        "# [Q5] Code-1\n",
        "def fib(n):\n",
        "    if n == 0: return 0 # n이 0일 때는 0을 반환한다.\n",
        "    if n == 1: return 1 # n이 1일 때는 1을 반환한다.\n",
        "    return fib(n-2) + fib(n-1)  # n이 2 이상일때는 그 이전의 두 값을 더하여 반환한다.\n",
        "\n",
        "for i in range(11): # 0부터 10까지 반복해서 수열을 출력한다.\n",
        "    print(i, fib(i))"
      ],
      "execution_count": null,
      "outputs": [
        {
          "output_type": "stream",
          "text": [
            "0 0\n",
            "1 1\n",
            "2 1\n",
            "3 2\n",
            "4 3\n",
            "5 5\n",
            "6 8\n",
            "7 13\n",
            "8 21\n",
            "9 34\n",
            "10 55\n"
          ],
          "name": "stdout"
        }
      ]
    },
    {
      "cell_type": "code",
      "metadata": {
        "colab_type": "code",
        "id": "JH2Rm_TkF_eu",
        "colab": {
          "base_uri": "https://localhost:8080/",
          "height": 212
        },
        "outputId": "157e415f-ee4b-4eee-975a-00e61172170f"
      },
      "source": [
        "# [Q5] Code-2\n",
        "def fib(n):\n",
        "    return fib(n-1) + fib(n-2) if n >= 2 else n # n이 2이상이면 바로 앞 두 식을 더한 값을 반환하고, 2미만이면 자기 자신을 반환한다. \n",
        "\n",
        "for n in range(11): # 0부터 10까지 반복해서 수열을 출력한다.\n",
        "    print(n, fib(n))"
      ],
      "execution_count": null,
      "outputs": [
        {
          "output_type": "stream",
          "text": [
            "0 0\n",
            "1 1\n",
            "2 1\n",
            "3 2\n",
            "4 3\n",
            "5 5\n",
            "6 8\n",
            "7 13\n",
            "8 21\n",
            "9 34\n",
            "10 55\n"
          ],
          "name": "stdout"
        }
      ]
    },
    {
      "cell_type": "code",
      "metadata": {
        "id": "rbsiANAHWDLU",
        "colab_type": "code",
        "colab": {
          "base_uri": "https://localhost:8080/",
          "height": 212
        },
        "outputId": "1530941c-da1b-4815-e643-425c00aa59ee"
      },
      "source": [
        "# [Q5] Code-3\n",
        "def fib(n):\n",
        "    if n < 2:\n",
        "        return n  # n이 2미만일 때는 자기자신을 반환한다. 0은 0을 반환하고, 1은 1을 반환한다.\n",
        "    a, b = 0, 1\n",
        "    for i in range(n-1):\n",
        "        a, b = b, a + b # n이 2이상일 때는 n-1번 주어진 식을 반복한다. ex) (0, 1 = 1, 1), (1, 1 = 1, 2), (1, 2 = 2, 3), (2, 3 = 3, 5)...\n",
        "    return b   # 마지막으로 반복된 식의 b를 출력한다.\n",
        "\n",
        "\n",
        "for n in range(11): # 0부터 10까지 반복해서 수열을 출력한다.\n",
        "    print(n, fib(n))"
      ],
      "execution_count": null,
      "outputs": [
        {
          "output_type": "stream",
          "text": [
            "0 0\n",
            "1 1\n",
            "2 1\n",
            "3 2\n",
            "4 3\n",
            "5 5\n",
            "6 8\n",
            "7 13\n",
            "8 21\n",
            "9 34\n",
            "10 55\n"
          ],
          "name": "stdout"
        }
      ]
    },
    {
      "cell_type": "code",
      "metadata": {
        "id": "lUtw7RY1dAkU",
        "colab_type": "code",
        "colab": {
          "base_uri": "https://localhost:8080/",
          "height": 212
        },
        "outputId": "36a9e682-8e7c-437d-b29f-2e9ebf0b3624"
      },
      "source": [
        "# [Q5] Code-4\n",
        "def fib(n): \n",
        "    answer = 0; f0 = 0; f1 = 1  # answer은 n번째 피보나치 수열값을 나타내기 위해 0으로 놔둔다. f0과 f1은 각각 0번째와 1번째 피보나치 수열값을 나타낸다.\n",
        "    if n < 2: \n",
        "        return n  # n이 2미만일 때는 자기자신을 반환한다. 0은 0을 반환하고, 1은 1을 반환한다.\n",
        "    else: \n",
        "        for i in range(1,n): \n",
        "            answer = f1 + f0  \n",
        "            f0 = f1\n",
        "            f1 = answer ## n이 2이상일 때는 n-1번 주어진 식을 반복한다. ex) answer = 1+0 = 1, f0 = f1 = 1, f1 = answer = 1 / answer = 1+1 = 2, f0 = f1 = 1, f1 = answer = 2...\n",
        "    return answer # 마지막으로 반복된 식의 answer를 출력한다\n",
        "\n",
        "for n in range(11): # 0부터 10까지 반복해서 수열을 출력한다.\n",
        "    print(n, fib(n))"
      ],
      "execution_count": null,
      "outputs": [
        {
          "output_type": "stream",
          "text": [
            "0 0\n",
            "1 1\n",
            "2 1\n",
            "3 2\n",
            "4 3\n",
            "5 5\n",
            "6 8\n",
            "7 13\n",
            "8 21\n",
            "9 34\n",
            "10 55\n"
          ],
          "name": "stdout"
        }
      ]
    },
    {
      "cell_type": "markdown",
      "metadata": {
        "colab_type": "text",
        "id": "-3KHtOOoXJBV"
      },
      "source": [
        "## Q6. 숫자의 총합 구하기\n",
        "> 사용자로부터 다음과 같은 숫자를 입력받아 입력받은 숫자의 총합을 구하는 프로그램을 작성하시오. (단 숫자는 콤마로 구분하여 입력한다.)\n",
        "\n",
        "```\n",
        "65,45,2,3,45,8\n",
        "```\n"
      ]
    },
    {
      "cell_type": "code",
      "metadata": {
        "colab_type": "code",
        "id": "AjYR0lUaXJBa",
        "colab": {
          "base_uri": "https://localhost:8080/",
          "height": 52
        },
        "outputId": "3d1b6643-367a-45b1-a39b-4115c916fa3c"
      },
      "source": [
        "# [Q6] Code-1\n",
        "user_input = input(\"숫자를 입력하세요: \")\n",
        "numbers = user_input.split(\",\") # 입력 받은 숫자들을 \",\"를 기준으로 나눈다.\n",
        "total = 0\n",
        "for n in numbers:\n",
        "    total += int(n)   # 입력은 문자열이므로 int를 이용해 숫자로 변환 후 total에 더해준다.\n",
        "print(total)"
      ],
      "execution_count": 13,
      "outputs": [
        {
          "output_type": "stream",
          "text": [
            "숫자를 입력하세요: 65,45,2,3,45,8\n",
            "168\n"
          ],
          "name": "stdout"
        }
      ]
    },
    {
      "cell_type": "code",
      "metadata": {
        "colab_type": "code",
        "id": "JpkVe0zxGTK1",
        "colab": {
          "base_uri": "https://localhost:8080/",
          "height": 52
        },
        "outputId": "0cdf04a1-3b2d-48a8-9ad9-11547a3772a9"
      },
      "source": [
        "# [Q6] Code-2\n",
        "user_input = input(\"숫자를 입력하세요: \")\n",
        "numbers = user_input.split(\",\") # 입력 받은 숫자들을 \",\"를 기준으로 나눈다.\n",
        "\n",
        "def sum_total(numbers, total = 0):  # 입력 받은 숫자들을 계산하는 함수를 만든다.\n",
        "    for n in numbers:\n",
        "      total += int(n)   # 입력은 문자열이므로 int를 이용해 숫자로 변환 후 total에 더해준다.\n",
        "    return total\n",
        "\n",
        "print(sum_total(numbers))"
      ],
      "execution_count": 3,
      "outputs": [
        {
          "output_type": "stream",
          "text": [
            "숫자를 입력하세요: 65,45,2,3,45,8\n",
            "168\n"
          ],
          "name": "stdout"
        }
      ]
    },
    {
      "cell_type": "code",
      "metadata": {
        "id": "JxM7bPiWWwkq",
        "colab_type": "code",
        "colab": {
          "base_uri": "https://localhost:8080/",
          "height": 52
        },
        "outputId": "8c330a59-1fdb-4d93-e609-4aa248aa4e38"
      },
      "source": [
        "# [Q6] Code-3\n",
        "numbers = map(int, input(\"숫자를 입력하세요: \").split(\",\"))   # map 함수를 이용해 받은 숫자들을 리스트에 입력한다. int를 이용해서 입력을 문자열이 아닌 숫자로 받는다.\n",
        "total = 0\n",
        "for n in numbers:\n",
        "    total += n\n",
        "print(total)"
      ],
      "execution_count": 42,
      "outputs": [
        {
          "output_type": "stream",
          "text": [
            "숫자를 입력하세요: 65,45,2,3,45,8\n",
            "168\n"
          ],
          "name": "stdout"
        }
      ]
    },
    {
      "cell_type": "code",
      "metadata": {
        "id": "aPxaMKxEXjpq",
        "colab_type": "code",
        "colab": {
          "base_uri": "https://localhost:8080/",
          "height": 52
        },
        "outputId": "fb387a39-fe9b-455b-b29b-aa09c1d95c15"
      },
      "source": [
        "# [Q6] Code-4\n",
        "numbers = map(int, input(\"숫자를 입력하세요: \").split(\",\"))  # map 함수를 이용해 받은 숫자들을 리스트에 입력한다. int를 이용해서 입력을 문자열이 아닌 숫자로 받는다.\n",
        "total = sum(numbers)  # sum을 이용하여 리스트의 있는 모든 요소들을 합하여 total에 넣는다.\n",
        "print(total)"
      ],
      "execution_count": 12,
      "outputs": [
        {
          "output_type": "stream",
          "text": [
            "숫자를 입력하세요: 65,45,2,3,45,8\n",
            "168\n"
          ],
          "name": "stdout"
        }
      ]
    },
    {
      "cell_type": "code",
      "metadata": {
        "id": "BaTq2qppYnNy",
        "colab_type": "code",
        "colab": {
          "base_uri": "https://localhost:8080/",
          "height": 52
        },
        "outputId": "0356b408-fafc-4dfe-98f7-f685eb7a9daf"
      },
      "source": [
        "# [Q6] Code-5\n",
        "list_number = []  # 빈 리스트를 하나 만든다.\n",
        "user_input = input(\"숫자를 입력하세요: \")\n",
        "numbers = user_input.split(\",\") # 입력 받은 숫자들을 \",\"를 기준으로 나눈다.\n",
        "for n in numbers:\n",
        "    list_number.append(int(n))  # \",\"를 기준으로 나눈 입력 받은 숫자를 리스트 list_number에 하나씩 추가한다.\n",
        "print(sum(list_number)) # sum을 이용하여 리스트 list_number의 있는 모든 요소들을 합하여 출력한다."
      ],
      "execution_count": 15,
      "outputs": [
        {
          "output_type": "stream",
          "text": [
            "숫자를 입력하세요: 65,45,2,3,45,8\n",
            "168\n"
          ],
          "name": "stdout"
        }
      ]
    },
    {
      "cell_type": "markdown",
      "metadata": {
        "colab_type": "text",
        "id": "CiMJjZQ_GdyV"
      },
      "source": [
        "## Q7. 한 줄 구구단\n",
        "> 사용자로부터 2~9의 숫자 중 하나를 입력받아 해당 숫자의 구구단을 한 줄로 출력하는 프로그램을 작성하시오.\n",
        "\n",
        "> 실행 예)\n",
        "```\n",
        "구구단을 출력할 숫자를 입력하세요(2~9): 2\n",
        "2 4 6 8 10 12 14 16 18\n",
        "```\n"
      ]
    },
    {
      "cell_type": "code",
      "metadata": {
        "colab_type": "code",
        "id": "_8TQZNIwGdyo",
        "colab": {
          "base_uri": "https://localhost:8080/",
          "height": 52
        },
        "outputId": "74217cf5-f49c-45fe-8e65-e736b0af435e"
      },
      "source": [
        "# [Q7] Code-1\n",
        "user_input = input(\"구구단을 출력할 숫자를 입력하세요(2~9):\")\n",
        "dan = int(user_input)  # 입력은 문자열이므로 int를 이용해 숫자로 변환한다.\n",
        "for i in range(1, 10):  # 1부터 9까지 진행을 반복한다.\n",
        "    print(i*dan, end= ' ')  # 곱셈한 값을 한 줄로 출력하기 위해 줄 바꿈 문자 대신 공백 문자를 마지막에 출력한다."
      ],
      "execution_count": 16,
      "outputs": [
        {
          "output_type": "stream",
          "text": [
            "구구단을 출력할 숫자를 입력하세요(2~9):2\n",
            "2 4 6 8 10 12 14 16 18 "
          ],
          "name": "stdout"
        }
      ]
    },
    {
      "cell_type": "code",
      "metadata": {
        "colab_type": "code",
        "id": "HRX-wvenGdyx",
        "colab": {
          "base_uri": "https://localhost:8080/",
          "height": 52
        },
        "outputId": "d1c224dc-8fa1-49b4-ec3b-902c1d1ff14d"
      },
      "source": [
        "# [Q7] Code-2\n",
        "user_input = input(\"구구단을 출력할 숫자를 입력하세요(2~9):\")\n",
        "dan = int(user_input)  # 입력은 문자열이므로 int를 이용해 숫자로 변환한다.\n",
        "\n",
        "def times_table(a): # 구구단을 진행하는 함수를 만든다.\n",
        "    for i in range(1, 10):  # 1부터 9까지 진행을 반복한다.\n",
        "      print(i*a, end= ' ')  # 곱셈한 값을 한 줄로 출력하기 위해 줄 바꿈 문자 대신 공백 문자를 마지막에 출력한다.\n",
        "\n",
        "times_table(dan)  # 곱셈한 값을 출력한다."
      ],
      "execution_count": 17,
      "outputs": [
        {
          "output_type": "stream",
          "text": [
            "구구단을 출력할 숫자를 입력하세요(2~9):2\n",
            "2 4 6 8 10 12 14 16 18 "
          ],
          "name": "stdout"
        }
      ]
    },
    {
      "cell_type": "code",
      "metadata": {
        "id": "BCS9m8keaVow",
        "colab_type": "code",
        "colab": {
          "base_uri": "https://localhost:8080/",
          "height": 52
        },
        "outputId": "c4fa7ebc-04d2-4ce1-a430-55791ad1a640"
      },
      "source": [
        "# [Q7] Code-3\n",
        "user_input = input(\"구구단을 출력할 숫자를 입력하세요(2~9):\")\n",
        "dan = int(user_input)  # 입력은 문자열이므로 int를 이용해 숫자로 변환한다.\n",
        "i = 1   # 1부터 곱셈을 시작하기 때문에 기본값을 1로 잡아준다.\n",
        "\n",
        "while(i<10):\n",
        "    print(i*dan, end= ' ')  # 곱셈한 값을 한 줄로 출력하기 위해 줄 바꿈 문자 대신 공백 문자를 마지막에 출력한다.\n",
        "    i += 1  # 출력 이후 반복을 위해 i의 값을 1씩 올려준다."
      ],
      "execution_count": 20,
      "outputs": [
        {
          "output_type": "stream",
          "text": [
            "구구단을 출력할 숫자를 입력하세요(2~9):2\n",
            "2 4 6 8 10 12 14 16 18 "
          ],
          "name": "stdout"
        }
      ]
    },
    {
      "cell_type": "code",
      "metadata": {
        "id": "C9mm4Oc-b1Z0",
        "colab_type": "code",
        "colab": {
          "base_uri": "https://localhost:8080/",
          "height": 52
        },
        "outputId": "4c23c855-a2d5-4f62-f4d9-1574875d4429"
      },
      "source": [
        "# [Q7] Code-4\n",
        "user_input = input(\"구구단을 출력할 숫자를 입력하세요(2~9):\")\n",
        "dan = int(user_input)  # 입력은 문자열이므로 int를 이용해 숫자로 변환한다.\n",
        "num_list = [1, 2, 3, 4, 5, 6, 7, 8, 9]  # 리스트로 곱할 값을 만들어 준다.\n",
        "for i in num_list:  # 리스트의 있는 숫자 하나하나씩 i에 넣고 반복한다.\n",
        "    print(i*dan, end= ' ')  # 곱셈한 값을 한 줄로 출력하기 위해 줄 바꿈 문자 대신 공백 문자를 마지막에 출력한다."
      ],
      "execution_count": 21,
      "outputs": [
        {
          "output_type": "stream",
          "text": [
            "구구단을 출력할 숫자를 입력하세요(2~9):2\n",
            "2 4 6 8 10 12 14 16 18 "
          ],
          "name": "stdout"
        }
      ]
    },
    {
      "cell_type": "code",
      "metadata": {
        "id": "l2BhZ1UGdcvB",
        "colab_type": "code",
        "colab": {
          "base_uri": "https://localhost:8080/",
          "height": 52
        },
        "outputId": "faf6b42b-9f67-4f88-99c7-6e2a75420158"
      },
      "source": [
        "# [Q7] Code-5\n",
        "import numpy as np  # numpy 모듈을 불러오고 np 라고 칭한다.\n",
        "user_input = input(\"구구단을 출력할 숫자를 입력하세요(2~9):\")\n",
        "dan = int(user_input)  # 입력은 문자열이므로 int를 이용해 숫자로 변환한다.\n",
        "num_list = np.arange(1, 10) # numpy의 arange 함수를 이용해 1부터 9까지 리스트에 넣는다.\n",
        "\n",
        "for i in num_list:  # 리스트의 있는 숫자 하나하나씩 i에 넣고 반복한다.\n",
        "    print(i*dan, end= ' ')  # 곱셈한 값을 한 줄로 출력하기 위해 줄 바꿈 문자 대신 공백 문자를 마지막에 출력한다."
      ],
      "execution_count": 26,
      "outputs": [
        {
          "output_type": "stream",
          "text": [
            "구구단을 출력할 숫자를 입력하세요(2~9):2\n",
            "2 4 6 8 10 12 14 16 18 "
          ],
          "name": "stdout"
        }
      ]
    },
    {
      "cell_type": "code",
      "metadata": {
        "id": "wbZqd2Byedwb",
        "colab_type": "code",
        "colab": {
          "base_uri": "https://localhost:8080/",
          "height": 52
        },
        "outputId": "dd928bf2-d838-469b-c29e-596635ac1694"
      },
      "source": [
        "# [Q7] Code-6\n",
        "dan = int(input(\"구구단을 출력할 숫자를 입력하세요(2~9):\"))  # 입력은 문자열이므로 int를 이용해 숫자로 변환한다.\n",
        "temp = [n*dan for n in range(1,10)] # 반복문을 한줄 코드로 바꾼 것이다. 리스트 temp에 곱셈한 값들을 요소로 넣는다.\n",
        "for i in temp: # 리스트의 요소를 i에 하나씩 넣고 요소가 없어질 때까지 반복한다.\n",
        "    print(i, end= ' ')  # 곱셈한 값을 한 줄로 출력하기 위해 줄 바꿈 문자 대신 공백 문자를 마지막에 출력한다."
      ],
      "execution_count": 30,
      "outputs": [
        {
          "output_type": "stream",
          "text": [
            "구구단을 출력할 숫자를 입력하세요(2~9):2\n",
            "2 4 6 8 10 12 14 16 18 "
          ],
          "name": "stdout"
        }
      ]
    },
    {
      "cell_type": "markdown",
      "metadata": {
        "colab_type": "text",
        "id": "YrS3b88QbmKo"
      },
      "source": [
        "## Q8. 역순 저장\n",
        "> 다음과 같은 내용의 파일 abc.txt가 있다.\n",
        "```\n",
        "AAA\n",
        "BBB\n",
        "CCC\n",
        "DDD\n",
        "EEE\n",
        "```\n",
        "> 이 파일의 내용을 다음과 같이 역순으로 바꾸어 저장하시오.\n",
        "```\n",
        "EEE\n",
        "DDD\n",
        "CCC\n",
        "BBB\n",
        "AAA\n",
        "```"
      ]
    },
    {
      "cell_type": "code",
      "metadata": {
        "id": "gx_gYygFhPc2",
        "colab_type": "code",
        "colab": {
          "base_uri": "https://localhost:8080/",
          "height": 106
        },
        "outputId": "18709812-4cb7-4322-9356-fbddc719bab5"
      },
      "source": [
        "# [Q8] Code-Requirement\n",
        "f = open(\"abc.txt\", 'r')  # abc.txt를 읽기모드로 연다.\n",
        "data = f.read()           # 텍스트 파일의 모든 라인을 data에 읽힌다.\n",
        "print(data)               # 읽은 데이터를 출력한다.\n",
        "f.close()                 # 파일을 닫는다."
      ],
      "execution_count": 32,
      "outputs": [
        {
          "output_type": "stream",
          "text": [
            "AAA\n",
            "BBB\n",
            "CCC\n",
            "DDD\n",
            "EEE\n"
          ],
          "name": "stdout"
        }
      ]
    },
    {
      "cell_type": "code",
      "metadata": {
        "colab_type": "code",
        "id": "Ll_2InMWbmKq",
        "colab": {
          "base_uri": "https://localhost:8080/",
          "height": 52
        },
        "outputId": "51e74c89-10f1-4eab-c7d1-05d3746a6ea6"
      },
      "source": [
        "# [Q8] Code-1\n",
        "f = open(\"abc.txt\", 'r')  # abc.txt를 읽기모드로 연다.\n",
        "lines = f.readlines()     # 모든 라인을 읽는다.\n",
        "f.close()                 # 파일을 닫는다.\n",
        "\n",
        "lines.reverse()           # 읽은 라인을 역순으로 정렬한다.\n",
        "\n",
        "f = open(\"abc.txt\", 'w')  # abc.txt를 쓰기모드로 연다.\n",
        "for line in lines: \n",
        "    line = line.strip()   # 포함되어 있는 줄 바꿈 문자를 제거한다.\n",
        "    f.write(line)\n",
        "    f.write('\\n')         # 마지막에 줄 바꿈 문자를 삽입한다.\n",
        "f.close()                 # 파일을 닫는다.\n",
        "\n",
        "f = open(\"abc.txt\", 'r')  # abc.txt를 읽기모드로 연다.\n",
        "data = f.read()           # 텍스트 파일의 모든 라인을 data에 읽힌다.\n",
        "print(data)               # 읽은 데이터를 출력한다.\n",
        "f.close()                 # 파일을 닫는다."
      ],
      "execution_count": 54,
      "outputs": [
        {
          "output_type": "stream",
          "text": [
            "AAA/nBBB/nCCC/nDDD/nEEE/n\n",
            "\n"
          ],
          "name": "stdout"
        }
      ]
    },
    {
      "cell_type": "code",
      "metadata": {
        "colab_type": "code",
        "id": "N3uG53JsHIYX",
        "colab": {
          "base_uri": "https://localhost:8080/",
          "height": 106
        },
        "outputId": "e89cde7f-5792-4868-db9d-e551f2c96f91"
      },
      "source": [
        "# [Q8] Code-2 \n",
        "f = open(\"abc2.txt\", 'r')         # abc.txt = abc2.txt를 읽기모드로 연다\n",
        "for line in f.readlines()[::-1]:  # 모든 라인을 읽는데 처음부터 끝 라인까지 역순으로 읽어서 line에 넣는다. line이 없을때까지 반복한다.\n",
        "    line = line.strip()           # 포함되어 있는 줄 바꿈 문자를 제거한다.\n",
        "    print (line)                  # 받은 라인을 출력한다."
      ],
      "execution_count": 37,
      "outputs": [
        {
          "output_type": "stream",
          "text": [
            "EEE\n",
            "DDD\n",
            "CCC\n",
            "BBB\n",
            "AAA\n"
          ],
          "name": "stdout"
        }
      ]
    },
    {
      "cell_type": "code",
      "metadata": {
        "id": "1r5nFOstnAlF",
        "colab_type": "code",
        "colab": {
          "base_uri": "https://localhost:8080/",
          "height": 106
        },
        "outputId": "14d441fc-8db3-4879-c55c-b3a91f20e94c"
      },
      "source": [
        "# [Q8] Code-3\n",
        "for line in reversed(list(open(\"abc2.txt\", 'r'))):   # reversed 함수를 이용해 읽은 파일을 역순으로 바꾸고 line에 저장한다. line이 없을때까지 반복한다.\n",
        "    print(line.strip())                              # 줄 바꿈 문자를 제거한 line을 출력한다."
      ],
      "execution_count": 41,
      "outputs": [
        {
          "output_type": "stream",
          "text": [
            "EEE\n",
            "DDD\n",
            "CCC\n",
            "BBB\n",
            "AAA\n"
          ],
          "name": "stdout"
        }
      ]
    },
    {
      "cell_type": "markdown",
      "metadata": {
        "colab_type": "text",
        "id": "OcSDHHYkK6lZ"
      },
      "source": [
        "## Q9. 평균값 구하기\n",
        "> 다음과 같이 총 10줄로 이루어진 sample.txt 파일이 있다. sample.txt 파일의 숫자 값을 모두 읽어 총합과 평균 값을 구한 후 평균 값을 result.txt 파일에 쓰는 프로그램을 작성하시오.\n",
        "```\n",
        "70\n",
        "60\n",
        "55\n",
        "75\n",
        "95\n",
        "90\n",
        "80\n",
        "80\n",
        "85\n",
        "100\n",
        "```\n"
      ]
    },
    {
      "cell_type": "code",
      "metadata": {
        "id": "umLMofYereWx",
        "colab_type": "code",
        "colab": {
          "base_uri": "https://localhost:8080/",
          "height": 195
        },
        "outputId": "10e670d5-650c-46f8-cefb-eee8d4764db1"
      },
      "source": [
        "# [Q9] Code-Requirement\n",
        "f = open(\"sample.txt\", 'r')  # sample.txt를 읽기모드로 연다.\n",
        "data = f.read() # 텍스트 파일의 모든 라인을 data에 읽힌다.\n",
        "print(data)  # 읽은 데이터를 출력한다.\n",
        "f.close()  # 파일을 닫는다."
      ],
      "execution_count": 43,
      "outputs": [
        {
          "output_type": "stream",
          "text": [
            "70\n",
            "60\n",
            "55\n",
            "75\n",
            "95\n",
            "90\n",
            "80\n",
            "80\n",
            "85\n",
            "100\n"
          ],
          "name": "stdout"
        }
      ]
    },
    {
      "cell_type": "code",
      "metadata": {
        "colab_type": "code",
        "id": "GmaaVGqrK6le",
        "colab": {
          "base_uri": "https://localhost:8080/",
          "height": 35
        },
        "outputId": "d7d355f0-96c6-47ce-b6b0-8e348a0d307b"
      },
      "source": [
        "# [Q9] Code-1\n",
        "f = open(\"sample.txt\")  # sample.txt를 연다.\n",
        "lines = f.readlines()   # sample.txt를 줄 단위로 모두 읽는다.\n",
        "f.close()\n",
        "\n",
        "total = 0\n",
        "for line in lines:\n",
        "    score = int(line) # 줄에 적힌 정수를 숫자형으로 변환한다.\n",
        "    total += score  # total에 숫자형으로 바뀐 정수들을 더한다,\n",
        "average = total / len(lines)  # 평균값을 구하기 위해 total에서 라인의 갯수를 나눠준다.\n",
        "\n",
        "f = open(\"result.txt\", 'w') # result.txt를 쓰기모드로 연다.\n",
        "f.write(str(average)) # 입력은 문자열이기 때문에 숫자형인 평균값을 str로 문자열로 바꾼다.\n",
        "f.close()\n",
        "\n",
        "f = open(\"result.txt\", 'r')  # result.txt를 읽기모드로 연다.\n",
        "data = f.read() # 텍스트 파일의 모든 라인을 data에 읽힌다.\n",
        "print(data)  # 읽은 데이터를 출력한다.\n",
        "f.close()  # 파일을 닫는다."
      ],
      "execution_count": 45,
      "outputs": [
        {
          "output_type": "stream",
          "text": [
            "79.0\n"
          ],
          "name": "stdout"
        }
      ]
    },
    {
      "cell_type": "code",
      "metadata": {
        "colab_type": "code",
        "id": "kgMy9LVYHfRF",
        "colab": {
          "base_uri": "https://localhost:8080/",
          "height": 35
        },
        "outputId": "8e7fa6a9-9d43-46c6-f2ef-b3acb8b5f990"
      },
      "source": [
        "# [Q9] Code-2\n",
        "f = open(\"sample.txt\")  # sample.txt를 연다.\n",
        "lines = f.readlines()   # sample.txt를 줄 단위로 모두 읽는다.\n",
        "f.close()\n",
        "\n",
        "score = list(map(int, lines)) # map 함수를 이용해 받은 라인들을 int를 이용해 숫자형으로 바꾼 후 score 리스트의 요소로 추가한다.\n",
        "total = sum(score)  # 리스트 score의 총합을 sum을 이용해 구한 후, total에 넣는다.\n",
        "average = total / len (lines)  # 평균값을 구하기 위해 total에서 라인의 갯수를 나눠준다.\n",
        "\n",
        "f = open(\"result2.txt\", 'w') # result2.txt를 쓰기모드로 연다.\n",
        "f.write(str(average)) # 입력은 문자열이기 때문에 숫자형인 평균값을 str로 문자열로 바꾼다.\n",
        "f.close()\n",
        "\n",
        "f = open(\"result2.txt\", 'r')  # result2.txt를 읽기모드로 연다.\n",
        "data = f.read() # 텍스트 파일의 모든 라인을 data에 읽힌다.\n",
        "print(data)  # 읽은 데이터를 출력한다.\n",
        "f.close()  # 파일을 닫는다."
      ],
      "execution_count": 47,
      "outputs": [
        {
          "output_type": "stream",
          "text": [
            "79.0\n"
          ],
          "name": "stdout"
        }
      ]
    },
    {
      "cell_type": "code",
      "metadata": {
        "id": "boyW8jq4u1ka",
        "colab_type": "code",
        "colab": {
          "base_uri": "https://localhost:8080/",
          "height": 35
        },
        "outputId": "b7098bbf-afdc-4689-af4d-03255ac5aa17"
      },
      "source": [
        "# [Q9] Code-3\n",
        "f = open(\"sample.txt\")  # sample.txt를 연다.\n",
        "lines = f.readlines()   # sample.txt를 줄 단위로 모두 읽는다.\n",
        "f.close()\n",
        "\n",
        "scores = list(map(int, lines)) # map 함수를 이용해 받은 라인들을 int를 이용해 숫자형으로 바꾼 후 scores 리스트의 요소로 추가한다.\n",
        "total = 0\n",
        "for score in scores:  # scores의 있는 요소들 하나하나를 score에 넣는다. 더 넣을 요소가 없을 때까지 반복한다.\n",
        "    total += score  # total에 score를 계속 합해주면 scores의 요소 score들의 총합이 된다.\n",
        "average = total / len (lines)  # 평균값을 구하기 위해 total에서 라인의 갯수를 나눠준다.\n",
        "\n",
        "f = open(\"result3.txt\", 'w') # result3.txt를 쓰기모드로 연다.\n",
        "f.write(str(average)) # 입력은 문자열이기 때문에 숫자형인 평균값을 str로 문자열로 바꾼다.\n",
        "f.close()\n",
        "\n",
        "f = open(\"result3.txt\", 'r')  # result3.txt를 읽기모드로 연다.\n",
        "data = f.read() # 텍스트 파일의 모든 라인을 data에 읽힌다.\n",
        "print(data)  # 읽은 데이터를 출력한다.\n",
        "f.close()  # 파일을 닫는다."
      ],
      "execution_count": 49,
      "outputs": [
        {
          "output_type": "stream",
          "text": [
            "79.0\n"
          ],
          "name": "stdout"
        }
      ]
    },
    {
      "cell_type": "markdown",
      "metadata": {
        "colab_type": "text",
        "id": "anwB_DjuK60j"
      },
      "source": [
        "## Q10. 사칙연산 계산기\n",
        "> 다음과 같이 동작하는 클래스 Calculator를 작성하시오.\n",
        "```\n",
        ">>> cal1 = Calculator([1,2,3,4,5])\n",
        ">>> cal1.sum() # 합계\n",
        "15\n",
        ">>> cal1.avg() # 평균\n",
        "3.0\n",
        ">>> cal2 = Calculator([6,7,8,9,10])\n",
        ">>> cal2.sum() # 합계\n",
        "40\n",
        ">>> cal2.avg() # 평균\n",
        "8.0\n",
        "```\n"
      ]
    },
    {
      "cell_type": "code",
      "metadata": {
        "colab_type": "code",
        "id": "QJTNoSqtMrIM",
        "colab": {
          "base_uri": "https://localhost:8080/",
          "height": 88
        },
        "outputId": "21456854-aed2-43dd-9296-2f761a114103"
      },
      "source": [
        "# [Q10] Code-1\n",
        "class Calculator: # Calculator 클래스를 생성한다\n",
        "    def __init__(self, numberList): # init 메서드는 클래스 객체 초기화한다. self는 클래식 객체 자신을 의미한다.\n",
        "        self.numberList = numberList\n",
        "    \n",
        "    def sum(self):  # 리스트의 값을 모두 더하는 함수를 만든다.\n",
        "        result = 0\n",
        "        for num in self.numberList:\n",
        "            result += num\n",
        "        return result\n",
        "    \n",
        "    def avg(self):  # 리스트의 값의 평균을 구하는 함수를 만든다.\n",
        "        total = self.sum()\n",
        "        return total / len(self.numberList)\n",
        "\n",
        "cal1 = Calculator([1,2,3,4,5])  # cal1 객체를 이용해 Calculator 클래스를 호출한다.\n",
        "print(cal1.sum()) # cal1의 Calculator의 sum 메서드를 호출한다.\n",
        "print(cal1.avg()) # cal1의 Calculator의 avg 메서드를 호출한다.\n",
        "\n",
        "cal2 = Calculator([6,7,8,9,10]) # cal2 객체를 이용해 Calculator 클래스를 호출한다.\n",
        "print(cal2.sum()) # cal2의 Calculator의 sum 메서드를 호출한다.\n",
        "print(cal2.avg()) # cal2의 Calculator의 avg 메서드를 호출한다."
      ],
      "execution_count": 50,
      "outputs": [
        {
          "output_type": "stream",
          "text": [
            "15\n",
            "3.0\n",
            "40\n",
            "8.0\n"
          ],
          "name": "stdout"
        }
      ]
    },
    {
      "cell_type": "code",
      "metadata": {
        "colab_type": "code",
        "id": "91hia3WgH2gW",
        "colab": {
          "base_uri": "https://localhost:8080/",
          "height": 88
        },
        "outputId": "a1c89509-7093-4f82-a239-8a7db84e3302"
      },
      "source": [
        "# [Q10] Code-2\n",
        "class Calculator:  # Calculator 클래스를 생성한다.\n",
        "    def __init__(self, numberList): # init 메서드는 클래스 객체 초기화한다. self는 클래식 객체 자신을 의미한다.\n",
        "        self.numberList = numberList\n",
        " \n",
        "    def sum(self):  # 리스트의 값을 모두 더하는 함수를 만든다.\n",
        "        result = 0\n",
        "        for num in self.numberList: \n",
        "            result += num\n",
        "        return result\n",
        "\n",
        "class UpgradeCalculator(Calculator):  # 클래스를 상속하기 위해서는 클래스 이름 뒤 괄호 안에 상속할 클래스 이름을 넣어준다. 여기서는 Calculator를 상속하기 때문에 괄호 안에 Calculator를 넣어준다.\n",
        "    def avg(self):  # 리스트의 값의 평균을 구하는 함수를 만든다.\n",
        "        total = self.sum()\n",
        "        return total / len(self.numberList)\n",
        "\n",
        "cal1 = UpgradeCalculator([1,2,3,4,5])   # cal1 객체를 이용해 UpgradeCalculator 클래스를 호출한다.\n",
        "print(cal1.sum()) # cal1의 UpgradeCalculator의 sum 메서드를 호출한다.\n",
        "print(cal1.avg()) # cal1의 UpgradeCalculator의 avg 메서드를 호출한다.\n",
        "cal2 = UpgradeCalculator([6,7,8,9,10])  # cal2 객체를 이용해 UpgradeCalculator 클래스를 호출한다.\n",
        "print(cal2.sum()) # cal2의 UpgradeCalculator의 sum 메서드를 호출한다.\n",
        "print(cal2.avg()) # cal2의 UpgradeCalculator의 avg 메서드를 호출한다."
      ],
      "execution_count": 51,
      "outputs": [
        {
          "output_type": "stream",
          "text": [
            "15\n",
            "3.0\n",
            "40\n",
            "8.0\n"
          ],
          "name": "stdout"
        }
      ]
    },
    {
      "cell_type": "markdown",
      "metadata": {
        "id": "gNnjBaJvH_51",
        "colab_type": "text"
      },
      "source": [
        "\n",
        "\n",
        "---\n",
        "\n",
        "\n"
      ]
    },
    {
      "cell_type": "markdown",
      "metadata": {
        "colab_type": "text",
        "id": "8xQf6xJ4K7M_"
      },
      "source": [
        "## Q11. 모듈 사용 방법\n",
        "> ./doit 디렉터리에 mymod.py 파이썬 모듈이 있다고 가정해 보자. 명령 프롬프트 창에서 파이썬 셸을 열어 이 모듈을 import해서 사용할 수 있는 방법을 모두 기술하시오. (즉 다음과 같이 import mymod를 수행할 때 오류가 없어야 한다.)\n",
        "```\n",
        ">>> import mymod\n",
        ">>>\n",
        "```"
      ]
    },
    {
      "cell_type": "code",
      "metadata": {
        "colab_type": "code",
        "id": "4zv7LXPjJiCH",
        "colab": {}
      },
      "source": [
        "!mkdir doit\n",
        "# 실행 후 새로 고침!\n",
        "# mymod.py 를 업로드한다."
      ],
      "execution_count": 2,
      "outputs": []
    },
    {
      "cell_type": "code",
      "metadata": {
        "colab_type": "code",
        "id": "JA_3n4g8JiB7",
        "colab": {}
      },
      "source": [
        "!mv mymod.py ./doit\n",
        "# 실행 후 새로 고침!"
      ],
      "execution_count": 3,
      "outputs": []
    },
    {
      "cell_type": "code",
      "metadata": {
        "colab_type": "code",
        "id": "UCO7aRh5Msx6",
        "colab": {}
      },
      "source": [
        "# [Q11] Code-1 sys 모듈 사용\n",
        "# 다음과 같이 sys.path에 /content/doit 이라는 디렉터리를 추가하면 /content/doit 이라는 디렉터리에 있는 mymod 모듈을 사용할 수 있게 된다.\n",
        "import sys\n",
        "sys.path.append(\"/content/doit\")\n",
        "import mymod"
      ],
      "execution_count": 4,
      "outputs": []
    },
    {
      "cell_type": "code",
      "metadata": {
        "id": "jXB-tX3l4C--",
        "colab_type": "code",
        "colab": {
          "base_uri": "https://localhost:8080/",
          "height": 35
        },
        "outputId": "9239cd09-7a8a-4723-8f1b-5b7af0e0b5b5"
      },
      "source": [
        "# [Q11] Code-2 경로 이동 후 import\n",
        "# pwd 나 os.getcwd를 통해 경로를 파악한다. 현재 디렉터리의 위치는 /content 이므로 /content/doit 으로 바꿔주고 mymod 모듈을 import한다.\n",
        "import os\n",
        "print(os.getcwd())\n",
        "os.chdir(\"/content/doit\")\n",
        "import mymod"
      ],
      "execution_count": 11,
      "outputs": [
        {
          "output_type": "stream",
          "text": [
            "/content\n"
          ],
          "name": "stdout"
        }
      ]
    },
    {
      "cell_type": "code",
      "metadata": {
        "colab_type": "code",
        "id": "aX_wLb53IgUl",
        "colab": {}
      },
      "source": [
        "# [Q11] Code-3 from을 이용해 경로 이동 후 import\n",
        "# 하위 경로의 파일은 from 하위 폴더 처럼 폴더를 지정해주어 import할 수 있다.\n",
        "from doit import mymod"
      ],
      "execution_count": 22,
      "outputs": []
    },
    {
      "cell_type": "markdown",
      "metadata": {
        "colab_type": "text",
        "id": "Q6QYCZ9HM3DW"
      },
      "source": [
        "## Q12. 오류와 예외 처리\n",
        "> 다음 코드의 실행 결과를 예측하고 그 이유에 대해 설명하시오.\n",
        "\n",
        "```\n",
        "result = 0\n",
        "\n",
        "try:\n",
        "    [1, 2, 3][3]\n",
        "    \"a\"+1\n",
        "    4 / 0\n",
        "except TypeError:\n",
        "    result += 1\n",
        "except ZeroDivisionError:\n",
        "    result += 2\n",
        "except IndexError:\n",
        "    result += 3\n",
        "finally:\n",
        "    result += 4\n",
        "\n",
        "print(result)\n",
        "```\n"
      ]
    },
    {
      "cell_type": "code",
      "metadata": {
        "id": "UStyUZQo7ief",
        "colab_type": "code",
        "colab": {
          "base_uri": "https://localhost:8080/",
          "height": 241
        },
        "outputId": "8482ba53-11a1-49af-b6a2-1fe8ad0764be"
      },
      "source": [
        "# [Q12] Explain-1\n",
        "result = 0\n",
        " \n",
        "try:\n",
        "    [1, 2, 3][3]\n",
        "    \"a\"+1\n",
        "    4 / 0\n",
        "\n",
        "finally:\n",
        "    result += 4\n",
        "\n",
        "print(result)"
      ],
      "execution_count": 27,
      "outputs": [
        {
          "output_type": "error",
          "ename": "IndexError",
          "evalue": "ignored",
          "traceback": [
            "\u001b[0;31m---------------------------------------------------------------------------\u001b[0m",
            "\u001b[0;31mIndexError\u001b[0m                                Traceback (most recent call last)",
            "\u001b[0;32m<ipython-input-27-bdcdd256a925>\u001b[0m in \u001b[0;36m<module>\u001b[0;34m()\u001b[0m\n\u001b[1;32m      3\u001b[0m \u001b[0;34m\u001b[0m\u001b[0m\n\u001b[1;32m      4\u001b[0m \u001b[0;32mtry\u001b[0m\u001b[0;34m:\u001b[0m\u001b[0;34m\u001b[0m\u001b[0;34m\u001b[0m\u001b[0m\n\u001b[0;32m----> 5\u001b[0;31m     \u001b[0;34m[\u001b[0m\u001b[0;36m1\u001b[0m\u001b[0;34m,\u001b[0m \u001b[0;36m2\u001b[0m\u001b[0;34m,\u001b[0m \u001b[0;36m3\u001b[0m\u001b[0;34m]\u001b[0m\u001b[0;34m[\u001b[0m\u001b[0;36m3\u001b[0m\u001b[0;34m]\u001b[0m\u001b[0;34m\u001b[0m\u001b[0;34m\u001b[0m\u001b[0m\n\u001b[0m\u001b[1;32m      6\u001b[0m     \u001b[0;34m\"a\"\u001b[0m\u001b[0;34m+\u001b[0m\u001b[0;36m1\u001b[0m\u001b[0;34m\u001b[0m\u001b[0;34m\u001b[0m\u001b[0m\n\u001b[1;32m      7\u001b[0m     \u001b[0;36m4\u001b[0m \u001b[0;34m/\u001b[0m \u001b[0;36m0\u001b[0m\u001b[0;34m\u001b[0m\u001b[0;34m\u001b[0m\u001b[0m\n",
            "\u001b[0;31mIndexError\u001b[0m: list index out of range"
          ]
        }
      ]
    },
    {
      "cell_type": "code",
      "metadata": {
        "id": "hDf0Js4KLOrl",
        "colab_type": "code",
        "colab": {
          "base_uri": "https://localhost:8080/",
          "height": 35
        },
        "outputId": "d84e850d-1ae2-449f-aa0f-fbcf0eed79bc"
      },
      "source": [
        "# [Q12] Explain-2 (코드와 주석으로 설명하시오)\n",
        "result = 0  # result의 초깃값은 0이다.\n",
        " \n",
        "try:  # try문 안의 [1, 2, 3][3] 이라는 문장 수행시 IndexError가 발생하여 except IndexError: 구문으로 이동하게 된다.\n",
        "    [1, 2, 3][3]\n",
        "    \"a\"+1\n",
        "    4 / 0\n",
        "except TypeError:\n",
        "    result += 1\n",
        "except ZeroDivisionError:\n",
        "    result += 2\n",
        "except IndexError:  # 위 이유로 구문이 실행되어 result에 3이 더해져 3이 된다.\n",
        "    result += 3\n",
        "finally:  # 최종적으로 finally 구문이 실행되어 result에 4가 더해져 7이 된다.\n",
        "    result += 4\n",
        " \n",
        "print(result) # 구문이 수행되어 최종 값인 7이 출력된다."
      ],
      "execution_count": 23,
      "outputs": [
        {
          "output_type": "stream",
          "text": [
            "7\n"
          ],
          "name": "stdout"
        }
      ]
    },
    {
      "cell_type": "markdown",
      "metadata": {
        "colab_type": "text",
        "id": "x2IYgozSM3gd"
      },
      "source": [
        "## Q13. DashInsert 함수\n",
        "> DashInsert 함수는 숫자로 구성된 문자열을 입력받은 뒤 문자열 안에서 홀수가 연속되면 두 수 사이에 - 를 추가하고, 짝수가 연속되면 * 를 추가하는 기능을 갖고 있다. DashInsert 함수를 완성하시오.\n",
        "```\n",
        "입력 예시: 4546793\n",
        "출력 예시: 454*67-9-3\n",
        "```\n"
      ]
    },
    {
      "cell_type": "code",
      "metadata": {
        "colab_type": "code",
        "id": "FiKNOu9HM3DX",
        "colab": {
          "base_uri": "https://localhost:8080/",
          "height": 52
        },
        "outputId": "a478f8ab-3e63-4230-bda2-84b1af243cad"
      },
      "source": [
        "# [Q13] Code-1\n",
        "data = input(\"숫자를 입력하세요: \")\n",
        "\n",
        "numbers = list(map(int, data))  # 숫자 문자열을 숫자 리스트로 변경한다.\n",
        "result = []\n",
        "\n",
        "for i, num in enumerate(numbers):\n",
        "    result.append(str(num))\n",
        "    if i < len(numbers)-1:  # 만약 다음 수가 있다면 실행한다.\n",
        "        is_odd = num % 2 == 1 # 현재 수가 홀수인지 판별한다.\n",
        "        is_next_odd = numbers[i+1] % 2 == 1 # 다음 수가 홀수인지 판별한다.\n",
        "        if is_odd and is_next_odd:  # 만약 연속으로 홀수라면\n",
        "            result.append(\"-\")  # \"-\"를 추가한다.\n",
        "        elif not is_odd and not is_next_odd:  # 만약 연속으로 짝수라면\n",
        "            result.append(\"*\")  # \"*\"를 추가한다.\n",
        "\n",
        "print(\"\".join(result))"
      ],
      "execution_count": 34,
      "outputs": [
        {
          "output_type": "stream",
          "text": [
            "숫자를 입력하세요: 4546793\n",
            "454*67-9-3\n"
          ],
          "name": "stdout"
        }
      ]
    },
    {
      "cell_type": "code",
      "metadata": {
        "colab_type": "code",
        "id": "d_hmy1RZLqBg",
        "colab": {
          "base_uri": "https://localhost:8080/",
          "height": 52
        },
        "outputId": "54872f4f-a13b-4f56-86c0-35ecdcd90e94"
      },
      "source": [
        "# [Q13] Code-2\n",
        "data = input(\"숫자를 입력하세요: \")\n",
        "\n",
        "numbers = list(map(int, data))  # 숫자 문자열을 숫자 리스트로 변경한다.\n",
        "result = []\n",
        "\n",
        "def DashInsert(numbers):\n",
        "    for i, num in enumerate(numbers):\n",
        "        result.append(str(num))\n",
        "        if i < len(numbers)-1:  # 만약 다음 수가 있다면 실행한다.\n",
        "            is_odd = num % 2 == 1 # 현재 수가 홀수인지 판별한다.\n",
        "            is_next_odd = numbers[i+1] % 2 == 1 # 다음 수가 홀수인지 판별한다.\n",
        "            if is_odd and is_next_odd:  # 만약 연속으로 홀수라면\n",
        "                result.append(\"-\")  # \"-\"를 추가한다.\n",
        "            elif not is_odd and not is_next_odd:  # 만약 연속으로 짝수라면\n",
        "                result.append(\"*\")  # \"*\"를 추가한다.\n",
        "    print(\"\".join(result))\n",
        "\n",
        "DashInsert(numbers)"
      ],
      "execution_count": 49,
      "outputs": [
        {
          "output_type": "stream",
          "text": [
            "숫자를 입력하세요: 4546793\n",
            "454*67-9-3\n"
          ],
          "name": "stdout"
        }
      ]
    },
    {
      "cell_type": "code",
      "metadata": {
        "id": "rcDlFxsKEsPp",
        "colab_type": "code",
        "colab": {
          "base_uri": "https://localhost:8080/",
          "height": 52
        },
        "outputId": "d8d8a944-328e-42b7-981f-8487c1d3dca7"
      },
      "source": [
        "# [Q13] Code-3\n",
        "a=input(\"숫자를 입력하세요: \")\n",
        "b=[]\n",
        "\n",
        "for i in range(0,len(a)-1):\n",
        "    if (int(a[i])%2==0 and int(a[i+1])%2==0) : # 짝수가 연속으로 나오면\n",
        "        b.append(a[i]+\"*\")  # \"*\"를 추가한다.\n",
        "    elif (int(a[i])%2==1 and int(a[i+1])%2==1) : # 홀수가 연속으로 나오면\n",
        "        b.append(a[i]+\"-\")  # \"-\"를 추가한다.\n",
        "    else :\n",
        "        b.append(a[i])\n",
        "\n",
        "print(\"\".join(b)+a[len(a)-1])"
      ],
      "execution_count": 48,
      "outputs": [
        {
          "output_type": "stream",
          "text": [
            "숫자를 입력하세요: 4546793\n",
            "454*67-9-3\n"
          ],
          "name": "stdout"
        }
      ]
    },
    {
      "cell_type": "code",
      "metadata": {
        "id": "NZXf0NnkFNSa",
        "colab_type": "code",
        "colab": {
          "base_uri": "https://localhost:8080/",
          "height": 52
        },
        "outputId": "0c87b88d-cb54-4968-b1b0-13e2125932e8"
      },
      "source": [
        "# [Q13] Code-4\n",
        "is_even = lambda a, b: int(a)%2==0 and int(b)%2==0  # 연속으로 짝수라면\n",
        "is_odd = lambda a, b: int(a)%2 != 0 and int(b)%2 != 0 # 연속으로 홀수라면\n",
        "\n",
        "def DashInsert(s):\n",
        "    c = s[0]\n",
        "    for a, b in zip(s, s[1:]):\n",
        "        if is_even(a, b):   # 짝수가 연속으로 나오면\n",
        "            c += '*' + b    # \"*\"를 추가한다.\n",
        "        elif is_odd(a, b):  # 홀수가 연속으로 나오면\n",
        "            c += '-' + b    # \"-\"를 추가한다.\n",
        "        else:\n",
        "            c += b\n",
        "\n",
        "    return c\n",
        "\n",
        "a = input(\"숫자를 입력하세요: \")\n",
        "print(DashInsert(a))"
      ],
      "execution_count": 51,
      "outputs": [
        {
          "output_type": "stream",
          "text": [
            "숫자를 입력하세요: 4546793\n",
            "454*67-9-3\n"
          ],
          "name": "stdout"
        }
      ]
    },
    {
      "cell_type": "markdown",
      "metadata": {
        "colab_type": "text",
        "id": "HDbz71sNL2Qt"
      },
      "source": [
        "## Q14. 문자열 압축하기\n",
        "> 문자열을 입력받아 같은 문자가 연속적으로 반복되는 경우에 그 반복 횟수를 표시해 문자열을 압축하여 표시하시오.\n",
        "```\n",
        "입력 예시: aaabbcccccca\n",
        "출력 예시: a3b2c6a1\n",
        "```\n",
        "\n"
      ]
    },
    {
      "cell_type": "code",
      "metadata": {
        "colab_type": "code",
        "id": "Hs88sVjjL2Qw",
        "colab": {
          "base_uri": "https://localhost:8080/",
          "height": 35
        },
        "outputId": "0ed1995a-36ae-407c-c866-7932f6f85cdf"
      },
      "source": [
        "# [Q14] Code-1\n",
        "def compress_string(s):\n",
        "    _c = \"\"\n",
        "    cnt = 0\n",
        "    result = \"\"\n",
        "    for c in s:\n",
        "      if c!=_c:\n",
        "          _c = c\n",
        "          if cnt: result += str(cnt)\n",
        "          result += c\n",
        "          cnt = 1\n",
        "      else:\n",
        "          cnt += 1\n",
        "    if cnt: result += str(cnt)\n",
        "    return result\n",
        "\n",
        "print(compress_string(\"aaabbcccccca\"))"
      ],
      "execution_count": 32,
      "outputs": [
        {
          "output_type": "stream",
          "text": [
            "a3b2c6a1\n"
          ],
          "name": "stdout"
        }
      ]
    },
    {
      "cell_type": "code",
      "metadata": {
        "colab_type": "code",
        "id": "XF4F0DW0L2Q1",
        "colab": {
          "base_uri": "https://localhost:8080/",
          "height": 52
        },
        "outputId": "65aaa7b1-8c64-44cb-8d7a-4c224cf84d46"
      },
      "source": [
        "# [Q14] Code-2\n",
        "s = input(\"압축할 문자열을 입력하세요: \") #초기값을 설정한다.\n",
        "result = s[0] #반복문 실행되는 동안 문자열 형태로 반환되는 결과들을 담을 변수\n",
        "count = 0 #반복되서 나오는 문자 수만큼 카운팅되는 값을 담을 변수\n",
        "\n",
        "for i in s:\n",
        "    if i == result[-1]: #result변수 마지막 문자와 비교한다. else에서 result변수에 값이 추가되기 때문에 마지막 문자[-1]와 비교한다.\n",
        "        count += 1\n",
        "    else:\n",
        "        result += str(count) + i #마지막 글자와 i가 다를 경우 카운팅된 값을 문자열 형태로 result 변수 마지막에 추가 해주고 i를 마지막 문자로 추가한다.\n",
        "        count = 1\n",
        "result += str(count) #결과들이 담긴 변수에 마지막으로 카운팅된 값을 문자열 형태로 추가한다.\n",
        "\n",
        "print(result)"
      ],
      "execution_count": 39,
      "outputs": [
        {
          "output_type": "stream",
          "text": [
            "압축할 문자열을 입력하세요: aaabbcccccca\n",
            "a3b2c6a1\n"
          ],
          "name": "stdout"
        }
      ]
    },
    {
      "cell_type": "code",
      "metadata": {
        "id": "o35JR-kACUbW",
        "colab_type": "code",
        "colab": {
          "base_uri": "https://localhost:8080/",
          "height": 52
        },
        "outputId": "e4fafb20-57f8-43b6-8dd9-15664cce15c7"
      },
      "source": [
        "# [Q14] Code-3\n",
        "a = str(input(\"압축할 문자열을 입력하세요: \")) + chr(32)\n",
        "b = ''\n",
        "count = 1\n",
        "for i in range(len(a) - 1):\n",
        "    if a[i] == a[i + 1]:\n",
        "        count += 1\n",
        "    else:\n",
        "        b += a[i] + str(count)\n",
        "        count = 1\n",
        "print(b)"
      ],
      "execution_count": 52,
      "outputs": [
        {
          "output_type": "stream",
          "text": [
            "압축할 문자열을 입력하세요: aaabbcccccca\n",
            "a3b2c6a1\n"
          ],
          "name": "stdout"
        }
      ]
    },
    {
      "cell_type": "code",
      "metadata": {
        "id": "yiAAFUk3GeKN",
        "colab_type": "code",
        "colab": {
          "base_uri": "https://localhost:8080/",
          "height": 52
        },
        "outputId": "2f3cd0ed-654a-4f35-d456-02268c6b3e69"
      },
      "source": [
        "# [Q14] Code-4\n",
        "i=input(\"압축할 문자열을 입력하세요: \")\n",
        "elst=[i[0]]\n",
        "c=1\n",
        "for n in range(len(i)-1):\n",
        "    if i[n]==i[n+1]:\n",
        "        c+=1\n",
        "    else:\n",
        "        elst.append(str(c))\n",
        "        elst.append(i[n+1])\n",
        "        c=1\n",
        "elst.append(str(c))\n",
        "print(\"\".join(elst))"
      ],
      "execution_count": 53,
      "outputs": [
        {
          "output_type": "stream",
          "text": [
            "압축할 문자열을 입력하세요: aaabbcccccca\n",
            "a3b2c6a1\n"
          ],
          "name": "stdout"
        }
      ]
    },
    {
      "cell_type": "code",
      "metadata": {
        "id": "qy72JxHuG7Wn",
        "colab_type": "code",
        "colab": {
          "base_uri": "https://localhost:8080/",
          "height": 52
        },
        "outputId": "9e5569e5-0494-4e75-aa34-c778d9372cb6"
      },
      "source": [
        "# [Q15] Code-5\n",
        "Str=input(\"압축할 문자열을 입력하세요: \")\n",
        "count=1\n",
        "for i in range(len(Str)-1):\n",
        "    if Str[i]==Str[i+1]:\n",
        "        count+=1\n",
        "    else:\n",
        "        print(\"{}{}\".format(Str[i-1],count),end=\"\")\n",
        "        count=1\n",
        "print(\"{}{}\".format(Str[len(Str)-1],count))"
      ],
      "execution_count": 54,
      "outputs": [
        {
          "output_type": "stream",
          "text": [
            "압축할 문자열을 입력하세요: aaabbcccccca\n",
            "a3b2c6a1\n"
          ],
          "name": "stdout"
        }
      ]
    },
    {
      "cell_type": "markdown",
      "metadata": {
        "colab_type": "text",
        "id": "tCF274jtL3Vk"
      },
      "source": [
        "## Q15. Duplicate Numbers\n",
        "> 0 ~ 9의 문자로 된 숫자를 입력받았을 때, 이 입력값이 0 ~ 9의 모든 숫자를 각각 한 번씩만 사용한 것인지 확인하는 함수를 작성하시오.\n",
        "```\n",
        "입력 예시: 0123456789 01234 01234567890 6789012345 012322456789\n",
        "출력 예시: true false false true false\n",
        "```\n"
      ]
    },
    {
      "cell_type": "code",
      "metadata": {
        "colab_type": "code",
        "id": "3uQFw6jGL3Vm",
        "colab": {
          "base_uri": "https://localhost:8080/",
          "height": 106
        },
        "outputId": "ecc866e1-fe8e-4a85-90dd-e85d0b1e796c"
      },
      "source": [
        "# [Q15] Code-1\n",
        "def chkDupNum(s):\n",
        "    result = []\n",
        "    for num in s:\n",
        "        if num not in result:\n",
        "            result.append(num)\n",
        "        else:\n",
        "            return False\n",
        "    return len(result) == 10\n",
        "print(chkDupNum(\"0123456789\"))      # True 리턴\n",
        "print(chkDupNum(\"01234\"))           # False 리턴\n",
        "print(chkDupNum(\"01234567890\"))     # False 리턴\n",
        "print(chkDupNum(\"6789012345\"))      # True 리턴\n",
        "print(chkDupNum(\"012322456789\"))    # False 리턴"
      ],
      "execution_count": 33,
      "outputs": [
        {
          "output_type": "stream",
          "text": [
            "True\n",
            "False\n",
            "False\n",
            "True\n",
            "False\n"
          ],
          "name": "stdout"
        }
      ]
    },
    {
      "cell_type": "code",
      "metadata": {
        "id": "zq1VdXkuDbmI",
        "colab_type": "code",
        "colab": {
          "base_uri": "https://localhost:8080/",
          "height": 35
        },
        "outputId": "051c2027-2b33-4af1-f0c6-119f05a3b29e"
      },
      "source": [
        "# [Q15] Code-2\n",
        "def chkDupNum(string):\n",
        "    num_set = set(string) # 중복된 숫자를 제거한다.\n",
        "    if len(string) == len(num_set) == 10:   # 중복 제거 한 후의 갯수와 같고 그 갯수가 10이라면\n",
        "        return \"True\" # True를 리턴한다.\n",
        "    else: # 아니라면\n",
        "        return \"False\"  # False를 리턴한다.\n",
        "\n",
        "input_string = \"0123456789 01234 01234567890 6789012345 012322456789\"\n",
        "for s in input_string.split(\" \"):\n",
        "    print(chkDupNum(s), end=' ')"
      ],
      "execution_count": 47,
      "outputs": [
        {
          "output_type": "stream",
          "text": [
            "True False False True False "
          ],
          "name": "stdout"
        }
      ]
    },
    {
      "cell_type": "code",
      "metadata": {
        "colab_type": "code",
        "id": "Bdt_UGgZL3Vr",
        "colab": {
          "base_uri": "https://localhost:8080/",
          "height": 35
        },
        "outputId": "a48206dd-112d-46c5-ee95-fea8412320cc"
      },
      "source": [
        "# [Q15] Code-3\n",
        "print (list(map(lambda n:len(set(n))==10 and len(n) ==10 ,\"0123456789 01234 01234567890 6789012345 012322456789\".split()))) # 위 코드2를 한줄로 바꾼 것이다."
      ],
      "execution_count": 45,
      "outputs": [
        {
          "output_type": "stream",
          "text": [
            "[True, False, False, True, False]\n"
          ],
          "name": "stdout"
        }
      ]
    },
    {
      "cell_type": "code",
      "metadata": {
        "id": "j7G9DQCTHK-Z",
        "colab_type": "code",
        "colab": {
          "base_uri": "https://localhost:8080/",
          "height": 106
        },
        "outputId": "0e0ce911-40fc-4754-ee0c-24e16cdd6e1c"
      },
      "source": [
        "# [Q15] Code-4\n",
        "input_list = \"0123456789 01234 01234567890 6789012345 012322456789\"\n",
        "\n",
        "for input in input_list.split(\" \"):\n",
        "    if len(input) != 10 or len(input) != len(set(input)):\n",
        "        print(\"False\")\n",
        "    else:\n",
        "        print(\"True\")"
      ],
      "execution_count": 56,
      "outputs": [
        {
          "output_type": "stream",
          "text": [
            "True\n",
            "False\n",
            "False\n",
            "True\n",
            "False\n"
          ],
          "name": "stdout"
        }
      ]
    },
    {
      "cell_type": "markdown",
      "metadata": {
        "colab_type": "text",
        "id": "QdPWKi1gL4UE"
      },
      "source": [
        "## Q16. 모스 부호 해독\n",
        "> 문자열 형식으로 입력받은 모스 부호(dot:. dash:-)를 해독하여 영어 문장으로 출력하는 프로그램을 작성하시오.\n",
        "\n",
        "- 글자와 글자 사이는 공백 1개, 단어와 단어 사이는 공백 2개로 구분한다.\n",
        "- 예를 들어 다음 모스 부호는 \"HE SLEEPS EARLY\"로 해석해야 한다.\n",
        "```\n",
        ".... .  ... .-.. . . .--. ...  . .- .-. .-.. -.--\n",
        "```\n",
        "> 모스부호 규칙 표\n",
        "```\n",
        "문자 부호\t문자   부호\n",
        "A\t .-\t    N\t    -.\n",
        "B\t -...\tO\t    ---\n",
        "C\t -.-.\tP\t    .--.\n",
        "D\t -..\tQ\t    --.-\n",
        "E\t .\t    R\t    .-.\n",
        "F\t ..-.\tS\t    ...\n",
        "G\t --.\tT\t    -\n",
        "H\t ....\tU\t    ..-\n",
        "I\t ..\t    V\t    ...-\n",
        "J\t .---\tW\t    .--\n",
        "K\t -.-\tX\t    -..-\n",
        "L\t .-..\tY\t    -.--\n",
        "M\t --\t    Z\t    --..\n",
        "```"
      ]
    },
    {
      "cell_type": "code",
      "metadata": {
        "colab_type": "code",
        "id": "ciZbyRFrL4UF",
        "colab": {
          "base_uri": "https://localhost:8080/",
          "height": 35
        },
        "outputId": "4553999a-c5d2-4bab-81ff-c762a4fb163f"
      },
      "source": [
        "# [Q16] Code-1\n",
        "dic = {\n",
        "    '.-':'A','-...':'B','-.-.':'C','-..':'D','.':'E','..-.':'F',\n",
        "    '--.':'G','....':'H','..':'I','.---':'J','-.-':'K','.-..':'L',\n",
        "    '--':'M','-.':'N','---':'O','.--.':'P','--.-':'Q','.-.':'R',\n",
        "    '...':'S','-':'T','..-':'U','...-':'V','.--':'W','-..-':'X',\n",
        "    '-.--':'Y','--..':'Z'\n",
        "}\n",
        "\n",
        "def morse(src):\n",
        "    result =[]\n",
        "    for word in src.split(\"  \"):\n",
        "        for char in word.split(\" \"):\n",
        "            result.append(dic[char])\n",
        "        result.append(\" \")\n",
        "    return \"\".join(result)\n",
        "\n",
        "print(morse('.... .  ... .-.. . . .--. ...  . .- .-. .-.. -.--'))"
      ],
      "execution_count": 5,
      "outputs": [
        {
          "output_type": "stream",
          "text": [
            "HE SLEEPS EARLY \n"
          ],
          "name": "stdout"
        }
      ]
    },
    {
      "cell_type": "code",
      "metadata": {
        "colab_type": "code",
        "id": "x9-Qq3mVL4UJ",
        "colab": {
          "base_uri": "https://localhost:8080/",
          "height": 35
        },
        "outputId": "3d17d337-3082-4efb-a9b6-3570a359bbf7"
      },
      "source": [
        "# [Q16] Code-2\n",
        "dic = {\n",
        "    '.-':'A','-...':'B','-.-.':'C','-..':'D','.':'E','..-.':'F',\n",
        "    '--.':'G','....':'H','..':'I','.---':'J','-.-':'K','.-..':'L',\n",
        "    '--':'M','-.':'N','---':'O','.--.':'P','--.-':'Q','.-.':'R',\n",
        "    '...':'S','-':'T','..-':'U','...-':'V','.--':'W','-..-':'X',\n",
        "    '-.--':'Y','--..':'Z', '':' '\n",
        "}\n",
        "morse=\".... .  ... .-.. . . .--. ...  . .- .-. .-.. -.--\"\n",
        "word=morse.split(\" \")\n",
        "for i in word:\n",
        "    print(dic[i],end=\"\")"
      ],
      "execution_count": 18,
      "outputs": [
        {
          "output_type": "stream",
          "text": [
            "HE SLEEPS EARLY"
          ],
          "name": "stdout"
        }
      ]
    },
    {
      "cell_type": "code",
      "metadata": {
        "id": "52_Q2qFcNxq0",
        "colab_type": "code",
        "colab": {
          "base_uri": "https://localhost:8080/",
          "height": 35
        },
        "outputId": "ac83b6ed-36f3-436a-ee41-0b79c468ae77"
      },
      "source": [
        "# [Q16] Code-3\n",
        "dic = {\n",
        "    '.-':'A','-...':'B','-.-.':'C','-..':'D','.':'E','..-.':'F',\n",
        "    '--.':'G','....':'H','..':'I','.---':'J','-.-':'K','.-..':'L',\n",
        "    '--':'M','-.':'N','---':'O','.--.':'P','--.-':'Q','.-.':'R',\n",
        "    '...':'S','-':'T','..-':'U','...-':'V','.--':'W','-..-':'X',\n",
        "    '-.--':'Y','--..':'Z', '':' '\n",
        "}\n",
        "m = '.... .  ... .-.. . . .--. ...  . .- .-. .-.. -.--'\n",
        "morse = m.split(' ')\n",
        "s = ''\n",
        "for m in morse:\n",
        "    s += dic[m]\n",
        "print(s)"
      ],
      "execution_count": 19,
      "outputs": [
        {
          "output_type": "stream",
          "text": [
            "HE SLEEPS EARLY\n"
          ],
          "name": "stdout"
        }
      ]
    },
    {
      "cell_type": "code",
      "metadata": {
        "id": "vJNI_xP4N4dR",
        "colab_type": "code",
        "colab": {
          "base_uri": "https://localhost:8080/",
          "height": 52
        },
        "outputId": "a1eeccf3-5bd4-4137-e9da-58b968c4d369"
      },
      "source": [
        "# [Q16] Code-4\n",
        "dic = {\n",
        "    '.-':'A','-...':'B','-.-.':'C','-..':'D','.':'E','..-.':'F',\n",
        "    '--.':'G','....':'H','..':'I','.---':'J','-.-':'K','.-..':'L',\n",
        "    '--':'M','-.':'N','---':'O','.--.':'P','--.-':'Q','.-.':'R',\n",
        "    '...':'S','-':'T','..-':'U','...-':'V','.--':'W','-..-':'X',\n",
        "    '-.--':'Y','--..':'Z'\n",
        "}\n",
        "dic['']=' '\n",
        "output=''\n",
        "\n",
        "message=input('모스 부호를 입력하시오')\n",
        "message_trans=message.split(' ')\n",
        "for i in message_trans:\n",
        "    output += dic[i]\n",
        "print(output)"
      ],
      "execution_count": 21,
      "outputs": [
        {
          "output_type": "stream",
          "text": [
            "모스 부호를 입력하시오.... .  ... .-.. . . .--. ...  . .- .-. .-.. -.--\n",
            "HE SLEEPS EARLY\n"
          ],
          "name": "stdout"
        }
      ]
    },
    {
      "cell_type": "markdown",
      "metadata": {
        "id": "om4sRiRhMosn",
        "colab_type": "text"
      },
      "source": [
        "\n",
        "\n",
        "---\n",
        "\n",
        "# 다음 정규식 문제는 기말고사 후에 도전해 보세요."
      ]
    },
    {
      "cell_type": "markdown",
      "metadata": {
        "id": "nazB2KXYOm5R",
        "colab_type": "text"
      },
      "source": [
        "## Regular Expression\n",
        "- import re"
      ]
    },
    {
      "cell_type": "markdown",
      "metadata": {
        "colab_type": "text",
        "id": "AN8kEO30L5NE"
      },
      "source": [
        "## Q17. 기초 메타 문자\n",
        "> 다음 중 정규식 a[.]{3,}b과 매치되는 문자열은 무엇일까?\n",
        "\n",
        "\n",
        "```\n",
        "acccb\n",
        "a....b\n",
        "aaab\n",
        "a.cccb\n",
        "```\n"
      ]
    },
    {
      "cell_type": "code",
      "metadata": {
        "colab_type": "code",
        "id": "uKQWoUqhL5NG",
        "colab": {}
      },
      "source": [
        "# [Q17] Code\n",
        "\n"
      ],
      "execution_count": null,
      "outputs": []
    },
    {
      "cell_type": "markdown",
      "metadata": {
        "colab_type": "text",
        "id": "0dEWfwATL6DE"
      },
      "source": [
        "## Q18. 문자열 검색\n",
        "> 다음 코드의 결괏값은 무엇일까?\n",
        "\n",
        "```\n",
        ">>> import re\n",
        ">>> p = re.compile(\"[a-z]+\")\n",
        ">>> m = p.search(\"5 python\")\n",
        ">>> m.start() + m.end()\n",
        "```\n"
      ]
    },
    {
      "cell_type": "code",
      "metadata": {
        "colab_type": "code",
        "id": "Ip11Dmo7L6DH",
        "colab": {}
      },
      "source": [
        "# [Q18] Code\n",
        "\n"
      ],
      "execution_count": null,
      "outputs": []
    },
    {
      "cell_type": "markdown",
      "metadata": {
        "colab_type": "text",
        "id": "8QizaqrUL62E"
      },
      "source": [
        "## Q19. 그루핑\n",
        "> 다음과 같은 문자열에서 휴대폰 번호 뒷자리인 숫자 4개를 ####로 바꾸는 프로그램을 정규식을 사용하여 작성하시오.\n",
        "\n",
        "```\n",
        "park 010-9999-9988\n",
        "kim 010-9909-7789\n",
        "lee 010-8789-7768\n",
        "```\n"
      ]
    },
    {
      "cell_type": "code",
      "metadata": {
        "colab_type": "code",
        "id": "bfRvchIlL62H",
        "colab": {}
      },
      "source": [
        "# [Q19] Code\n",
        "\n"
      ],
      "execution_count": null,
      "outputs": []
    },
    {
      "cell_type": "markdown",
      "metadata": {
        "colab_type": "text",
        "id": "0DumiUQoL7jk"
      },
      "source": [
        "## Q20. 전방 탐색\n",
        "> 다음은 이메일 주소를 나타내는 정규식이다. 이 정규식은 park@naver.com, kim@daum.net, lee@myhome.co.kr 등과 매치된다. 긍정형 전방 탐색 기법을 사용하여 .com, .net이 아닌 이메일 주소는 제외시키는 정규식을 작성하시오.\n",
        "\n",
        "```\n",
        ".*[@].*[.].*$\n",
        "```\n"
      ]
    },
    {
      "cell_type": "code",
      "metadata": {
        "colab_type": "code",
        "id": "9S9UUOkFL7jl",
        "colab": {}
      },
      "source": [
        "# [Q20] Code\n",
        "\n"
      ],
      "execution_count": null,
      "outputs": []
    },
    {
      "cell_type": "markdown",
      "metadata": {
        "id": "2ljBDShkbqZO",
        "colab_type": "text"
      },
      "source": [
        "## 코딩 연습 결과를 github에 올리기\n",
        "> 완성된 ipython 노트북 파일을 각자의 github에 올리시오.\n",
        "\n",
        "- github 계정 만들기 (계정이 없는 학생)\n",
        "    1. github에 sign up (Google gmail 계정을 이용해서 만드시오.)\n",
        "- github에 노트 올리기\n",
        "    2. github에 각자의 id로 repo를 만드시오. (한번 만들면 계속 재사용)\n",
        "    3. github repo에 연습결과 노트를 올리시오.\n",
        "        - 제출노트: ch8_exercises_id.ipynb\n"
      ]
    },
    {
      "cell_type": "code",
      "metadata": {
        "id": "OnCR-YNCc8B6",
        "colab_type": "code",
        "colab": {}
      },
      "source": [
        ""
      ],
      "execution_count": null,
      "outputs": []
    }
  ]
}