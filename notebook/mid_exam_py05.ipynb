{
  "nbformat": 4,
  "nbformat_minor": 0,
  "metadata": {
    "colab": {
      "name": "mid_exam_py05.ipynb",
      "provenance": [],
      "collapsed_sections": [],
      "authorship_tag": "ABX9TyM61J0juUj9PuxBFLZtL1Xg",
      "include_colab_link": true
    },
    "kernelspec": {
      "name": "python3",
      "display_name": "Python 3"
    }
  },
  "cells": [
    {
      "cell_type": "markdown",
      "metadata": {
        "id": "view-in-github",
        "colab_type": "text"
      },
      "source": [
        "<a href=\"https://colab.research.google.com/github/Skystar728/py05/blob/master/notebook/mid_exam_py05.ipynb\" target=\"_parent\"><img src=\"https://colab.research.google.com/assets/colab-badge.svg\" alt=\"Open In Colab\"/></a>"
      ]
    },
    {
      "cell_type": "markdown",
      "metadata": {
        "id": "0jooXdtQvt5T",
        "colab_type": "text"
      },
      "source": [
        "## mid_exam_py05"
      ]
    },
    {
      "cell_type": "markdown",
      "metadata": {
        "id": "5G66Y9yZv4F7",
        "colab_type": "text"
      },
      "source": [
        "### 1. 다음식의 연산 결과는?\n",
        "1. a = 5\n",
        "2. b = 3\n",
        "3. a**b"
      ]
    },
    {
      "cell_type": "code",
      "metadata": {
        "id": "ZoZb3awGv3D-",
        "colab_type": "code",
        "outputId": "8fc84a80-1212-4b7e-acd0-2962af8591de",
        "colab": {
          "base_uri": "https://localhost:8080/",
          "height": 34
        }
      },
      "source": [
        "a = 5\n",
        "b = 3\n",
        "a**b\n",
        "# **은 지수연산자이다. 따라서 a**b 는 a^b로 나타낼 수 있다. a는 5이고 b는 3이므로, a**b 는 5^3이므로 125가 된다. "
      ],
      "execution_count": 1,
      "outputs": [
        {
          "output_type": "execute_result",
          "data": {
            "text/plain": [
              "125"
            ]
          },
          "metadata": {
            "tags": []
          },
          "execution_count": 1
        }
      ]
    },
    {
      "cell_type": "markdown",
      "metadata": {
        "id": "T78P0eNcxEI_",
        "colab_type": "text"
      },
      "source": [
        "### 2. 다음 문자열 a 에 대하여 슬라이싱을 한 결과는?\n",
        "- a = \"Life is too short, You need Python!\""
      ]
    },
    {
      "cell_type": "code",
      "metadata": {
        "id": "y6uXptelxVHO",
        "colab_type": "code",
        "outputId": "d0388fff-4107-4691-a58c-478f8a847988",
        "colab": {
          "base_uri": "https://localhost:8080/",
          "height": 34
        }
      },
      "source": [
        "a = \"Life is too short, You need Python!\"\n",
        "#                     -16      -8     -1\n",
        "a[-16:-8]\n",
        "# -16의 위치에 있는 문자는 \"Y\"이고, -8의 위치에 있는 문자는 \"d\" 바로 뒤 \" \"이다. 따라서 슬라이싱 결과는 \"Y\"부터 \" \" 앞인 \"d\"까지 문자열인 'You need' 가 출력된다."
      ],
      "execution_count": 2,
      "outputs": [
        {
          "output_type": "execute_result",
          "data": {
            "text/plain": [
              "'You need'"
            ]
          },
          "metadata": {
            "tags": []
          },
          "execution_count": 2
        }
      ]
    },
    {
      "cell_type": "markdown",
      "metadata": {
        "id": "jP5gxVanyvn_",
        "colab_type": "text"
      },
      "source": [
        "### 3. 다음 list a의 인덱싱 결과는?\n",
        "- a = [1, 2, (3,4), ['a', 'b', ['My', 'Life', 'Good']]]\n",
        "- a[3][-1][0]\n"
      ]
    },
    {
      "cell_type": "code",
      "metadata": {
        "id": "T5VarppAysVI",
        "colab_type": "code",
        "outputId": "e62e71de-b785-4140-ca81-2d810122c8e4",
        "colab": {
          "base_uri": "https://localhost:8080/",
          "height": 34
        }
      },
      "source": [
        "a = [1, 2, (3,4), ['a', 'b', ['My', 'Life', 'Good']]]\n",
        "a[3][-1][0]\n",
        "# 리스트 a의 삼중 인덱싱이다. 앞에서 부터 차례대로 인덱싱을 해보면 a[3]는 ['a', 'b', ['My', 'Life', 'Good']] 이고, 이를 b라고 칭한다.\n",
        "# 다음으로 b[-1]은 ['My', 'Life', 'Good'] 이고, 이를 c라고 칭한다. 마지막으로 c[0]는 'My' 이다. 따라서 a[3][-1][0]의 결과값은 마지막 c[0]인 'My'가 출력된다."
      ],
      "execution_count": 3,
      "outputs": [
        {
          "output_type": "execute_result",
          "data": {
            "text/plain": [
              "'My'"
            ]
          },
          "metadata": {
            "tags": []
          },
          "execution_count": 3
        }
      ]
    },
    {
      "cell_type": "markdown",
      "metadata": {
        "id": "mTdYYKBj0Ps9",
        "colab_type": "text"
      },
      "source": [
        "### 4. 다음 tuple t1의 슬라이싱 결과는?\n",
        "- t1 = (0, 1, \"s\", \"t\", \"u\")\n",
        "- t1[2:-2]"
      ]
    },
    {
      "cell_type": "code",
      "metadata": {
        "id": "psavfFAR0hax",
        "colab_type": "code",
        "outputId": "9943bbfd-81fa-4c3b-c1b0-255224827062",
        "colab": {
          "base_uri": "https://localhost:8080/",
          "height": 34
        }
      },
      "source": [
        "t1 = (0, 1, \"s\", \"t\", \"u\")\n",
        "#     0  1   2    3    4 \n",
        "#    -5 -4  -3   -2   -1\n",
        "t1[2:-2]\n",
        "# 튜플 t1을 인덱싱 해보면 t1[2]는 's'이다. 마찬가지로 t1[-2] 인덱싱하면 't'이다. t1[2:-2]의 슬라이싱 결과는 's'부터 't'전까지 이므로 's' 하나이다.\n",
        "# 그러나 튜플은 1개의 요소만을 가질때는 요소 뒤에 콤마를 반드시 붙여야한다. 따라서 t1[2:-2]의 결과값은 ('s',)가 출력된다."
      ],
      "execution_count": 4,
      "outputs": [
        {
          "output_type": "execute_result",
          "data": {
            "text/plain": [
              "('s',)"
            ]
          },
          "metadata": {
            "tags": []
          },
          "execution_count": 4
        }
      ]
    },
    {
      "cell_type": "markdown",
      "metadata": {
        "id": "KKBAR5iK5ZuY",
        "colab_type": "text"
      },
      "source": [
        "## 5. 다음 bool값 출력 중 정확한 것은?\n",
        "- bool([0, 1, 2]), bool([0]), bool((0)), bool((0,))"
      ]
    },
    {
      "cell_type": "code",
      "metadata": {
        "id": "xuTKxzXI5tGY",
        "colab_type": "code",
        "outputId": "3a5c7be6-f910-4575-b170-bae691a4c744",
        "colab": {
          "base_uri": "https://localhost:8080/",
          "height": 34
        }
      },
      "source": [
        "bool([0, 1, 2]), bool([0]), bool((0)), bool((0,))\n",
        "# bool([0, 1, 2]): [0, 1, 2] 리스트는 빈 리스트가 아니므로 bool 연산의 결과로 bool 자료형인 True를 돌려준다.\n",
        "# bool([0]): [0] 리스트는 빈 리스트가 아니므로 bool 연산의 결과로 bool 자료형인 True를 돌려준다.\n",
        "# bool((0)): (0)은 튜플이 아닌 숫자형 0을 나타낸다. 따라서 bool 연산의 결과로 bool 자료형인 False를 돌려준다.\n",
        "# bool((0,)): (0,) 튜플은 빈 튜플이 아니므로 bool 연산의 결과로 bool 자료형인 True를 돌려준다.\n",
        "# 따라서 bool([0, 1, 2]), bool([0]), bool((0)), bool((0,))의 결과값은 (True, True, False, True)가 출력된다."
      ],
      "execution_count": 5,
      "outputs": [
        {
          "output_type": "execute_result",
          "data": {
            "text/plain": [
              "(True, True, False, True)"
            ]
          },
          "metadata": {
            "tags": []
          },
          "execution_count": 5
        }
      ]
    },
    {
      "cell_type": "markdown",
      "metadata": {
        "id": "FDQA-u4_zB_9",
        "colab_type": "text"
      },
      "source": [
        "### 6. 다음 조건문을 1줄 코드로 변경하시오."
      ]
    },
    {
      "cell_type": "code",
      "metadata": {
        "id": "2R3cF4bRzBLt",
        "colab_type": "code",
        "colab": {
          "base_uri": "https://localhost:8080/",
          "height": 34
        },
        "outputId": "023c0a6c-2035-4982-b583-5c5f2bb410e6"
      },
      "source": [
        "score = 80\n",
        "if score >= 60:\n",
        "    message = \"success\"\n",
        "else:\n",
        "    message = \"failure\"\n",
        "print(message)"
      ],
      "execution_count": 6,
      "outputs": [
        {
          "output_type": "stream",
          "text": [
            "success\n"
          ],
          "name": "stdout"
        }
      ]
    },
    {
      "cell_type": "code",
      "metadata": {
        "id": "5ZfujeXb00IL",
        "colab_type": "code",
        "colab": {
          "base_uri": "https://localhost:8080/",
          "height": 34
        },
        "outputId": "98d8e66d-7281-4979-da3b-2856ec4e8a78"
      },
      "source": [
        "# 변수 message에 값을 할당할 때 if-else 문을 단축 코드로 만들게 되면 조건문의 자리는 수행할 문장의 뒤가 된다. 따라서 코드를 만들어보면\n",
        "score = 80\n",
        "message = \"success\" if score >= 60 else \"failure\" #이러한 코드가 된다. 위 조건문과 같은 식이 된다.\n",
        "print(message)"
      ],
      "execution_count": 7,
      "outputs": [
        {
          "output_type": "stream",
          "text": [
            "success\n"
          ],
          "name": "stdout"
        }
      ]
    },
    {
      "cell_type": "markdown",
      "metadata": {
        "id": "bNrgMXVx37CJ",
        "colab_type": "text"
      },
      "source": [
        "### 7. 다음 코드의 실행 결과는?"
      ]
    },
    {
      "cell_type": "code",
      "metadata": {
        "id": "uQUYySD54FoR",
        "colab_type": "code",
        "colab": {
          "base_uri": "https://localhost:8080/",
          "height": 34
        },
        "outputId": "b633d3e1-5844-4f62-e345-26d25832f386"
      },
      "source": [
        "games = [\"A\", \"B\", \"C\"]\n",
        "\n",
        "for cnt in range(len(games)): # 리스트 games의 길이는 3이다. range(3)은 range(0,3)와 같다. 그래서 이 식은 for cnt in range(0,3)과 같다.\n",
        "# cnt는 0,1,2 순으로 진행된다.\n",
        "  print(cnt, games[cnt], end = ',')\n",
        "# 첫 번째 시행에선 0 A, 가 출력되고, 두 번째 시행에선 1 B, 가 출력되고, 세 번째 시행에선 2 C, 가 출력된다.\n",
        "# 따라서 이 코드의 결과값은 0 A,1 B,2 C, 가 된다."
      ],
      "execution_count": 8,
      "outputs": [
        {
          "output_type": "stream",
          "text": [
            "0 A,1 B,2 C,"
          ],
          "name": "stdout"
        }
      ]
    },
    {
      "cell_type": "markdown",
      "metadata": {
        "id": "g1M-rcnN66dO",
        "colab_type": "text"
      },
      "source": [
        "### 8. 다음의 결과가 출력되지 않는 것은?\n",
        "- 'I ate 10 apples. so I was sick for three days.'"
      ]
    },
    {
      "cell_type": "code",
      "metadata": {
        "id": "16smba_R7ZDk",
        "colab_type": "code",
        "colab": {}
      },
      "source": [
        "# code start\n",
        "number = 10\n",
        "day = \"three\""
      ],
      "execution_count": 0,
      "outputs": []
    },
    {
      "cell_type": "code",
      "metadata": {
        "id": "Sw7e_dCE7fZz",
        "colab_type": "code",
        "colab": {
          "base_uri": "https://localhost:8080/",
          "height": 34
        },
        "outputId": "80e24149-6b7b-4445-fb3e-500bb962f348"
      },
      "source": [
        "\"I ate {0} apples. so I was sick for {1} days.\".format(10, day)\n",
        "# {0}은 format 함수의 첫 번째 입력값인 숫자 10으로 바뀌고 {1}은 format 함수의 두 번째 입력값인 day의 변수값 three로 바뀐다.\n",
        "# 따라서 코드의 결과값은 'I ate 10 apples. so I was sick for three days.' 가 출력된다."
      ],
      "execution_count": 10,
      "outputs": [
        {
          "output_type": "execute_result",
          "data": {
            "text/plain": [
              "'I ate 10 apples. so I was sick for three days.'"
            ]
          },
          "metadata": {
            "tags": []
          },
          "execution_count": 10
        }
      ]
    },
    {
      "cell_type": "code",
      "metadata": {
        "id": "3uhc8qPa7y__",
        "colab_type": "code",
        "colab": {
          "base_uri": "https://localhost:8080/",
          "height": 34
        },
        "outputId": "fd21b9fc-89ca-4cbc-e127-bbd2f2d330fb"
      },
      "source": [
        "f\"I ate {number} apples. so I was sick for {day} days.\"\n",
        "# f 문자열 포매팅 기능으로 {number}는 number의 변수값 10으로 바뀌고 {day}는 day의 변수값 three로 바뀐다.\n",
        "# 따라서 코드의 결과값은 'I ate 10 apples. so I was sick for three days.' 가 출력된다."
      ],
      "execution_count": 11,
      "outputs": [
        {
          "output_type": "execute_result",
          "data": {
            "text/plain": [
              "'I ate 10 apples. so I was sick for three days.'"
            ]
          },
          "metadata": {
            "tags": []
          },
          "execution_count": 11
        }
      ]
    },
    {
      "cell_type": "code",
      "metadata": {
        "id": "iXcQRXiY7-IU",
        "colab_type": "code",
        "colab": {
          "base_uri": "https://localhost:8080/",
          "height": 34
        },
        "outputId": "a1de2528-b54a-4c69-fd7b-517e832b7fb6"
      },
      "source": [
        "f\"I ate {number} apples. so I was sick for {'three'} days.\"\n",
        "# f 문자열 포매팅 기능으로 {number}는 number의 변수값 10으로 바뀌고 {'three'}는 그대로 three가 출력된다.\n",
        "# 따라서 코드의 결과값은 'I ate 10 apples. so I was sick for three days.' 가 출력된다."
      ],
      "execution_count": 12,
      "outputs": [
        {
          "output_type": "execute_result",
          "data": {
            "text/plain": [
              "'I ate 10 apples. so I was sick for three days.'"
            ]
          },
          "metadata": {
            "tags": []
          },
          "execution_count": 12
        }
      ]
    },
    {
      "cell_type": "code",
      "metadata": {
        "id": "VEFvhIak7-bx",
        "colab_type": "code",
        "colab": {
          "base_uri": "https://localhost:8080/",
          "height": 134
        },
        "outputId": "8dc187af-272f-4d8a-fa65-33f6090132df"
      },
      "source": [
        "\"I ate {0} apples. so I was sick for {1} days.\".format(number = 10, day)\n",
        "# number = 10 형태의 입력값을 사용할 경우 format 함수에는 반드시 name = value와 같은 형태의 입력값만 있어야만 해서 day 또한 같은 형태가 되어야한다. \n",
        "# 또한 name = value 형태를 이용하려면, {0}, {1}이 아닌 {number}, {day}와 같은 형태를 사용해야한다.\n",
        "# 따라서 코드는 오류가 나며 출력이 되지 않는다."
      ],
      "execution_count": 13,
      "outputs": [
        {
          "output_type": "error",
          "ename": "SyntaxError",
          "evalue": "ignored",
          "traceback": [
            "\u001b[0;36m  File \u001b[0;32m\"<ipython-input-13-7630cd5f7abf>\"\u001b[0;36m, line \u001b[0;32m1\u001b[0m\n\u001b[0;31m    \"I ate {0} apples. so I was sick for {1} days.\".format(number = 10, day)\u001b[0m\n\u001b[0m                                                                       ^\u001b[0m\n\u001b[0;31mSyntaxError\u001b[0m\u001b[0;31m:\u001b[0m positional argument follows keyword argument\n"
          ]
        }
      ]
    },
    {
      "cell_type": "markdown",
      "metadata": {
        "id": "e5o_7P-vGPKY",
        "colab_type": "text"
      },
      "source": [
        "### 9. 리스트 내포를 사용해 1부터 1000이하의 자연수 중 5의 배수의 합을 구하는 한 줄 코드를 작성하시오.\n",
        "- 5 + 10 + 15 + 20 + 25 + … + 955 + 960 + 965 + 970 + 975 + … + 995 + 1000 = ?"
      ]
    },
    {
      "cell_type": "code",
      "metadata": {
        "id": "4kc2RsexHehx",
        "colab_type": "code",
        "colab": {
          "base_uri": "https://localhost:8080/",
          "height": 34
        },
        "outputId": "9b4c714f-a57d-4509-fd79-6ec061def645"
      },
      "source": [
        "sum([num for num in range(1,1000) if num % 5 == 0])\n",
        "# range(1,1000)은 1에서 999까지이다. 1부터 999 까지의 숫자 중 5로 나눴을 때 나머지가 0인 숫자들만 모두 더하는 코드이다.\n",
        "# 그러므로 1000이 포함되지 않으므로 계산하면 주어진 값보다 1000이 낮은 99500이 출력된다."
      ],
      "execution_count": 14,
      "outputs": [
        {
          "output_type": "execute_result",
          "data": {
            "text/plain": [
              "99500"
            ]
          },
          "metadata": {
            "tags": []
          },
          "execution_count": 14
        }
      ]
    },
    {
      "cell_type": "code",
      "metadata": {
        "id": "oGNkrHjXH2MA",
        "colab_type": "code",
        "colab": {
          "base_uri": "https://localhost:8080/",
          "height": 34
        },
        "outputId": "3a42bb08-7a3b-427d-b6a0-4dca7bc005ae"
      },
      "source": [
        "len([num for num in range(1,1000) if num % 5 == 0])\n",
        "# len은 리스트 길이를 구하는 함수이다. 따라서 주어진 코드는 1부터 999 까지의 숫자 중 5로 나눴을 때 나머지가 0인 숫자들의 갯수를 구하는 코드이다.\n",
        "# 그러므로 1부터 999 까지의 5의 배수의 수인 199가 출력된다."
      ],
      "execution_count": 15,
      "outputs": [
        {
          "output_type": "execute_result",
          "data": {
            "text/plain": [
              "199"
            ]
          },
          "metadata": {
            "tags": []
          },
          "execution_count": 15
        }
      ]
    },
    {
      "cell_type": "code",
      "metadata": {
        "id": "2R-q2DlaH4s8",
        "colab_type": "code",
        "colab": {
          "base_uri": "https://localhost:8080/",
          "height": 34
        },
        "outputId": "006e31f4-1579-4fc8-cc48-59d2dcb67298"
      },
      "source": [
        "sum([num for num in range(1,1001) if num % 5 == 0])\n",
        "# range(1,1001)은 1에서 1000까지이다. 1부터 1000 까지의 숫자 중 5로 나눴을 때 나머지가 0인 숫자들만 모두 더하는 코드이다. 그러므로 조건과 맞기에 100500이 출력된다."
      ],
      "execution_count": 16,
      "outputs": [
        {
          "output_type": "execute_result",
          "data": {
            "text/plain": [
              "100500"
            ]
          },
          "metadata": {
            "tags": []
          },
          "execution_count": 16
        }
      ]
    },
    {
      "cell_type": "code",
      "metadata": {
        "id": "oXeRXmLTH59Q",
        "colab_type": "code",
        "colab": {
          "base_uri": "https://localhost:8080/",
          "height": 34
        },
        "outputId": "567580cc-1848-4164-c41b-9e772956b3c8"
      },
      "source": [
        "len([num for num in range(1,1001) if num % 5 == 0])\n",
        "# len은 리스트 길이를 구하는 함수이다. 따라서 주어진 코드는 1부터 1000 까지의 숫자 중 5로 나눴을 때 나머지가 0인 숫자들의 갯수를 구하는 코드이다.\n",
        "# 그러므로 1부터 999 까지의 5의 배수의 수인 200이 출력된다."
      ],
      "execution_count": 17,
      "outputs": [
        {
          "output_type": "execute_result",
          "data": {
            "text/plain": [
              "200"
            ]
          },
          "metadata": {
            "tags": []
          },
          "execution_count": 17
        }
      ]
    },
    {
      "cell_type": "markdown",
      "metadata": {
        "id": "M2PC5lWQJS5R",
        "colab_type": "text"
      },
      "source": [
        "### 10. 4개 과목의 평균 성적을 구하시오. [a],[b]에 적합한 코드는?\n",
        "- subjects = ['python', 'english', 'math', 'science']\n",
        "- scores = [88, 77, 66, 95]\n",
        "- total = 0\n",
        "- \n",
        "- for subject, score in [a]._____(subjects, scores):\n",
        "    - total += score\n",
        "    - print(subject, score)\n",
        "\n",
        "- print(\"평균 점수 = {0}\".format([b]._____))"
      ]
    },
    {
      "cell_type": "code",
      "metadata": {
        "id": "lfmRYKVPJjCD",
        "colab_type": "code",
        "colab": {
          "base_uri": "https://localhost:8080/",
          "height": 239
        },
        "outputId": "93665b3f-c423-41f8-94d2-838d1273ae34"
      },
      "source": [
        "subjects = ['python', 'english', 'math', 'science']\n",
        "scores = [88, 77, 66, 95]\n",
        "total = 0\n",
        "\n",
        "for subject, score in enumerate(subjects, scores): # enumerate는 한 개의 자료형만 사용 가능하기에 오류가 발생한다.\n",
        "    total += score\n",
        "    print(subject, score)\n",
        "\n",
        "print(\"평균 점수 = {0}\".format(scores/len(subjects)))"
      ],
      "execution_count": 18,
      "outputs": [
        {
          "output_type": "error",
          "ename": "TypeError",
          "evalue": "ignored",
          "traceback": [
            "\u001b[0;31m---------------------------------------------------------------------------\u001b[0m",
            "\u001b[0;31mTypeError\u001b[0m                                 Traceback (most recent call last)",
            "\u001b[0;32m<ipython-input-18-eecd8eaf6475>\u001b[0m in \u001b[0;36m<module>\u001b[0;34m()\u001b[0m\n\u001b[1;32m      3\u001b[0m \u001b[0mtotal\u001b[0m \u001b[0;34m=\u001b[0m \u001b[0;36m0\u001b[0m\u001b[0;34m\u001b[0m\u001b[0;34m\u001b[0m\u001b[0m\n\u001b[1;32m      4\u001b[0m \u001b[0;34m\u001b[0m\u001b[0m\n\u001b[0;32m----> 5\u001b[0;31m \u001b[0;32mfor\u001b[0m \u001b[0msubject\u001b[0m\u001b[0;34m,\u001b[0m \u001b[0mscore\u001b[0m \u001b[0;32min\u001b[0m \u001b[0menumerate\u001b[0m\u001b[0;34m(\u001b[0m\u001b[0msubjects\u001b[0m\u001b[0;34m,\u001b[0m \u001b[0mscores\u001b[0m\u001b[0;34m)\u001b[0m\u001b[0;34m:\u001b[0m \u001b[0;31m# enumerate는 한 개의 자료형만 사용 가능하기에 오류가 발생한다.\u001b[0m\u001b[0;34m\u001b[0m\u001b[0;34m\u001b[0m\u001b[0m\n\u001b[0m\u001b[1;32m      6\u001b[0m     \u001b[0mtotal\u001b[0m \u001b[0;34m+=\u001b[0m \u001b[0mscore\u001b[0m\u001b[0;34m\u001b[0m\u001b[0;34m\u001b[0m\u001b[0m\n\u001b[1;32m      7\u001b[0m     \u001b[0mprint\u001b[0m\u001b[0;34m(\u001b[0m\u001b[0msubject\u001b[0m\u001b[0;34m,\u001b[0m \u001b[0mscore\u001b[0m\u001b[0;34m)\u001b[0m\u001b[0;34m\u001b[0m\u001b[0;34m\u001b[0m\u001b[0m\n",
            "\u001b[0;31mTypeError\u001b[0m: 'list' object cannot be interpreted as an integer"
          ]
        }
      ]
    },
    {
      "cell_type": "code",
      "metadata": {
        "id": "PBpj7pVfL4ii",
        "colab_type": "code",
        "colab": {
          "base_uri": "https://localhost:8080/",
          "height": 274
        },
        "outputId": "4ed1dbb5-0e48-4770-8587-f328aafc8770"
      },
      "source": [
        "subjects = ['python', 'english', 'math', 'science']\n",
        "scores = [88, 77, 66, 95]\n",
        "total = 0\n",
        "\n",
        "for subject, score in zip(subjects, scores):\n",
        "    total += score\n",
        "    print(subject, score)\n",
        "\n",
        "print(\"평균 점수 = {0}\".format(scores/len(subjects))) # scores가 리스트이기 때문에 계산이 진행되지 않는다."
      ],
      "execution_count": 19,
      "outputs": [
        {
          "output_type": "stream",
          "text": [
            "python 88\n",
            "english 77\n",
            "math 66\n",
            "science 95\n"
          ],
          "name": "stdout"
        },
        {
          "output_type": "error",
          "ename": "TypeError",
          "evalue": "ignored",
          "traceback": [
            "\u001b[0;31m---------------------------------------------------------------------------\u001b[0m",
            "\u001b[0;31mTypeError\u001b[0m                                 Traceback (most recent call last)",
            "\u001b[0;32m<ipython-input-19-3c331d748fdb>\u001b[0m in \u001b[0;36m<module>\u001b[0;34m()\u001b[0m\n\u001b[1;32m      7\u001b[0m     \u001b[0mprint\u001b[0m\u001b[0;34m(\u001b[0m\u001b[0msubject\u001b[0m\u001b[0;34m,\u001b[0m \u001b[0mscore\u001b[0m\u001b[0;34m)\u001b[0m\u001b[0;34m\u001b[0m\u001b[0;34m\u001b[0m\u001b[0m\n\u001b[1;32m      8\u001b[0m \u001b[0;34m\u001b[0m\u001b[0m\n\u001b[0;32m----> 9\u001b[0;31m \u001b[0mprint\u001b[0m\u001b[0;34m(\u001b[0m\u001b[0;34m\"평균 점수 = {0}\"\u001b[0m\u001b[0;34m.\u001b[0m\u001b[0mformat\u001b[0m\u001b[0;34m(\u001b[0m\u001b[0mscores\u001b[0m\u001b[0;34m/\u001b[0m\u001b[0mlen\u001b[0m\u001b[0;34m(\u001b[0m\u001b[0msubjects\u001b[0m\u001b[0;34m)\u001b[0m\u001b[0;34m)\u001b[0m\u001b[0;34m)\u001b[0m \u001b[0;31m# scores가 리스트이기 때문에 계산이 진행되지 않는다.\u001b[0m\u001b[0;34m\u001b[0m\u001b[0;34m\u001b[0m\u001b[0m\n\u001b[0m",
            "\u001b[0;31mTypeError\u001b[0m: unsupported operand type(s) for /: 'list' and 'int'"
          ]
        }
      ]
    },
    {
      "cell_type": "code",
      "metadata": {
        "id": "i-iciPG3L5CQ",
        "colab_type": "code",
        "colab": {
          "base_uri": "https://localhost:8080/",
          "height": 239
        },
        "outputId": "64a0e486-8c18-4d58-c823-5df8d6913393"
      },
      "source": [
        "subjects = ['python', 'english', 'math', 'science']\n",
        "scores = [88, 77, 66, 95]\n",
        "total = 0\n",
        "\n",
        "for subject, score in enumerate(subjects, scores):\n",
        "    total += score\n",
        "    print(subject, score)\n",
        "# enumerate는 한 개의 자료형만 사용 가능하기에 오류가 발생한다. enumerate를 사용하려면 for 문에서 subject와 subjects를 제거하고, print문에도 subjects를 지워야한다.\n",
        "print(\"평균 점수 = {0}\".format(total/len(subjects)))\n",
        "# 위 방식을 이용한다면, total에 리스트 score 요소들의 합이 들어가고, total을 리스트 subjects의 길이인 4로 나눠 평균 값이 나오게 된다. "
      ],
      "execution_count": 20,
      "outputs": [
        {
          "output_type": "error",
          "ename": "TypeError",
          "evalue": "ignored",
          "traceback": [
            "\u001b[0;31m---------------------------------------------------------------------------\u001b[0m",
            "\u001b[0;31mTypeError\u001b[0m                                 Traceback (most recent call last)",
            "\u001b[0;32m<ipython-input-20-b8642f5e1cba>\u001b[0m in \u001b[0;36m<module>\u001b[0;34m()\u001b[0m\n\u001b[1;32m      3\u001b[0m \u001b[0mtotal\u001b[0m \u001b[0;34m=\u001b[0m \u001b[0;36m0\u001b[0m\u001b[0;34m\u001b[0m\u001b[0;34m\u001b[0m\u001b[0m\n\u001b[1;32m      4\u001b[0m \u001b[0;34m\u001b[0m\u001b[0m\n\u001b[0;32m----> 5\u001b[0;31m \u001b[0;32mfor\u001b[0m \u001b[0msubject\u001b[0m\u001b[0;34m,\u001b[0m \u001b[0mscore\u001b[0m \u001b[0;32min\u001b[0m \u001b[0menumerate\u001b[0m\u001b[0;34m(\u001b[0m\u001b[0msubjects\u001b[0m\u001b[0;34m,\u001b[0m \u001b[0mscores\u001b[0m\u001b[0;34m)\u001b[0m\u001b[0;34m:\u001b[0m\u001b[0;34m\u001b[0m\u001b[0;34m\u001b[0m\u001b[0m\n\u001b[0m\u001b[1;32m      6\u001b[0m     \u001b[0mtotal\u001b[0m \u001b[0;34m+=\u001b[0m \u001b[0mscore\u001b[0m\u001b[0;34m\u001b[0m\u001b[0;34m\u001b[0m\u001b[0m\n\u001b[1;32m      7\u001b[0m     \u001b[0mprint\u001b[0m\u001b[0;34m(\u001b[0m\u001b[0msubject\u001b[0m\u001b[0;34m,\u001b[0m \u001b[0mscore\u001b[0m\u001b[0;34m)\u001b[0m\u001b[0;34m\u001b[0m\u001b[0;34m\u001b[0m\u001b[0m\n",
            "\u001b[0;31mTypeError\u001b[0m: 'list' object cannot be interpreted as an integer"
          ]
        }
      ]
    },
    {
      "cell_type": "code",
      "metadata": {
        "id": "Yn9FBTe7L5mx",
        "colab_type": "code",
        "colab": {
          "base_uri": "https://localhost:8080/",
          "height": 105
        },
        "outputId": "20cf230b-2485-43f2-c4a7-e3f25687c0dc"
      },
      "source": [
        "subjects = ['python', 'english', 'math', 'science']\n",
        "scores = [88, 77, 66, 95]\n",
        "total = 0\n",
        "\n",
        "for subject, score in zip(subjects, scores):\n",
        "    total += score\n",
        "    print(subject, score)\n",
        "\n",
        "print(\"평균 점수 = {0}\".format(total/len(subjects)))\n",
        "# 아무 오류없이 정상적으로 작동한다."
      ],
      "execution_count": 21,
      "outputs": [
        {
          "output_type": "stream",
          "text": [
            "python 88\n",
            "english 77\n",
            "math 66\n",
            "science 95\n",
            "평균 점수 = 81.5\n"
          ],
          "name": "stdout"
        }
      ]
    }
  ]
}