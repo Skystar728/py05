{
  "nbformat": 4,
  "nbformat_minor": 0,
  "metadata": {
    "colab": {
      "name": "ch4_exercises_py05.ipynb",
      "provenance": [],
      "collapsed_sections": [],
      "include_colab_link": true
    },
    "kernelspec": {
      "name": "python3",
      "display_name": "Python 3"
    }
  },
  "cells": [
    {
      "cell_type": "markdown",
      "metadata": {
        "id": "view-in-github",
        "colab_type": "text"
      },
      "source": [
        "<a href=\"https://colab.research.google.com/github/Skystar728/py05/blob/master/notebook/ch4_exercises_py05.ipynb\" target=\"_parent\"><img src=\"https://colab.research.google.com/assets/colab-badge.svg\" alt=\"Open In Colab\"/></a>"
      ]
    },
    {
      "cell_type": "markdown",
      "metadata": {
        "id": "ovY5jkD5dpxE",
        "colab_type": "text"
      },
      "source": [
        "## ch4_exercises_py05.ipynb"
      ]
    },
    {
      "cell_type": "markdown",
      "metadata": {
        "id": "SZw6UnxQWYBe",
        "colab_type": "text"
      },
      "source": [
        "## Q1.\n",
        "> 주어진 자연수가 홀수인지 짝수인지 판별해 주는 함수(is_odd)를 작성해 보자.\n"
      ]
    },
    {
      "cell_type": "code",
      "metadata": {
        "id": "rUNNaqJPdg7B",
        "colab_type": "code",
        "outputId": "5dfedacd-cf5a-4004-a0ee-95e4fa037462",
        "colab": {
          "base_uri": "https://localhost:8080/",
          "height": 34
        }
      },
      "source": [
        "# [Q1] Code - 1\n",
        "def is_odd(num):\n",
        "    if(num % 2 == 0): # num의 값이 2로 나눴을 때, 나머지가 0이면 짝수이다.\n",
        "        return (\"{0} 은(는) 짝수입니다.\".format(num))\n",
        "    else: # num의 값이 2로 나눴을 때, 나머지가 1이면 홀수이다.\n",
        "        return (\"{0} 은(는) 홀수입니다.\".format(num))\n",
        "is_odd(1),is_odd(2)"
      ],
      "execution_count": 1,
      "outputs": [
        {
          "output_type": "execute_result",
          "data": {
            "text/plain": [
              "('1 은(는) 홀수입니다.', '2 은(는) 짝수입니다.')"
            ]
          },
          "metadata": {
            "tags": []
          },
          "execution_count": 1
        }
      ]
    },
    {
      "cell_type": "code",
      "metadata": {
        "id": "KZGiSNtAYHNm",
        "colab_type": "code",
        "colab": {
          "base_uri": "https://localhost:8080/",
          "height": 34
        },
        "outputId": "69c3270f-202e-46db-e6e4-fb54bea3d6ec"
      },
      "source": [
        "# [Q1] Code - 2\n",
        "is_odd = lambda num: (\"{0} 은(는) 짝수입니다.\".format(num)) if(num % 2 == 0) else (\"{0} 은(는) 홀수입니다.\".format(num))\n",
        "is_odd(1),is_odd(2)"
      ],
      "execution_count": 2,
      "outputs": [
        {
          "output_type": "execute_result",
          "data": {
            "text/plain": [
              "('1 은(는) 홀수입니다.', '2 은(는) 짝수입니다.')"
            ]
          },
          "metadata": {
            "tags": []
          },
          "execution_count": 2
        }
      ]
    },
    {
      "cell_type": "code",
      "metadata": {
        "id": "NkLzd7vAbRys",
        "colab_type": "code",
        "colab": {
          "base_uri": "https://localhost:8080/",
          "height": 34
        },
        "outputId": "888c584d-00d3-4a2b-cd5d-6a86c477424e"
      },
      "source": [
        "# [Q1] Code - 3\n",
        "def is_odd(num):\n",
        "    remainder = num % 2\n",
        "    if(bool(remainder) == False): # 나머지가 1이면 remainder의 bool 값은 True가 되고, 0이면 False가 된다.\n",
        "        return (\"{0} 은(는) 짝수입니다.\".format(num))\n",
        "    else:\n",
        "        return (\"{0} 은(는) 홀수입니다.\".format(num))\n",
        "is_odd(1),is_odd(2)"
      ],
      "execution_count": 3,
      "outputs": [
        {
          "output_type": "execute_result",
          "data": {
            "text/plain": [
              "('1 은(는) 홀수입니다.', '2 은(는) 짝수입니다.')"
            ]
          },
          "metadata": {
            "tags": []
          },
          "execution_count": 3
        }
      ]
    },
    {
      "cell_type": "code",
      "metadata": {
        "id": "gGgVpwZ4daKD",
        "colab_type": "code",
        "colab": {
          "base_uri": "https://localhost:8080/",
          "height": 34
        },
        "outputId": "89640828-60be-4f8c-9d31-e9965cc50af2"
      },
      "source": [
        "# [Q1] Code - 4\n",
        "def is_odd(num):\n",
        "    if(num & 1 == 0): # 비트 and 연산자를 사용해 짝수이면 비트 연산 결과가 0이 되고 홀수이면 1이 되는 방식을 이용한다.\n",
        "        return (\"{0} 은(는) 짝수입니다.\".format(num))\n",
        "    else:\n",
        "        return (\"{0} 은(는) 홀수입니다.\".format(num))\n",
        "is_odd(1),is_odd(2) # 1의 2진수 = 1, 1 & 1 = 1(홀수), 2의 2진수 = 10, 10 & 01 = 00(짝수), 3의 2진수 = 11, 11 & 01 = 01(홀수)"
      ],
      "execution_count": 4,
      "outputs": [
        {
          "output_type": "execute_result",
          "data": {
            "text/plain": [
              "('1 은(는) 홀수입니다.', '2 은(는) 짝수입니다.')"
            ]
          },
          "metadata": {
            "tags": []
          },
          "execution_count": 4
        }
      ]
    },
    {
      "cell_type": "markdown",
      "metadata": {
        "colab_type": "text",
        "id": "re2-XrUYXF1m"
      },
      "source": [
        "## Q2.\n",
        "> 입력으로 들어오는 모든 수의 평균 값을 계산해 주는 함수를 작성해 보자. \n",
        "- (단 입력으로 들어오는 수의 개수는 정해져 있지 않다.)\n",
        "- ※ 평균 값을 구할 때 len 함수를 사용해 보자.\n"
      ]
    },
    {
      "cell_type": "code",
      "metadata": {
        "colab_type": "code",
        "id": "5MBLUZ5WXF1q",
        "colab": {
          "base_uri": "https://localhost:8080/",
          "height": 52
        },
        "outputId": "9ae31bc6-a4b1-426d-9646-ce695b5507ec"
      },
      "source": [
        "# [Q2] Code\n",
        "args = eval(input())  # eval() 함수를 이용해 입력값을 문자열이 아닌 튜플로 받는다\n",
        "def avg(*args):\n",
        "    result = 0\n",
        "    for i in args:\n",
        "      result += i\n",
        "    return (result / len(args))\n",
        "avg(*args)"
      ],
      "execution_count": 5,
      "outputs": [
        {
          "output_type": "stream",
          "text": [
            "(1,2,3,4,5)\n"
          ],
          "name": "stdout"
        },
        {
          "output_type": "execute_result",
          "data": {
            "text/plain": [
              "3.0"
            ]
          },
          "metadata": {
            "tags": []
          },
          "execution_count": 5
        }
      ]
    },
    {
      "cell_type": "markdown",
      "metadata": {
        "colab_type": "text",
        "id": "UZy8lu_BXGnT"
      },
      "source": [
        "## Q3.\n",
        "> 다음은 두 개의 숫자를 입력받아 더하여 돌려주는 프로그램이다.\n",
        "\n",
        "```\n",
        "input1 = input(\"첫번째 숫자를 입력하세요:\")\n",
        "input2 = input(\"두번째 숫자를 입력하세요:\")\n",
        "\n",
        "total = input1 + input2\n",
        "print(\"두 수의 합은 %s 입니다\" % total)\n",
        "\n",
        "```\n",
        "---\n",
        "> 이 프로그램을 수행해 보자.\n",
        "\n",
        ">> 첫번째 숫자를 입력하세요:3  \n",
        ">> 두번째 숫자를 입력하세요:6\n",
        "- 두 수의 합은 36 입니다\n",
        "- 3과 6을 입력했을 때 9가 아닌 36이라는 결괏값을 돌려주었다.  \n",
        "이 프로그램의 오류를 수정해 보자."
      ]
    },
    {
      "cell_type": "code",
      "metadata": {
        "colab_type": "code",
        "id": "H9T_sXHzXGnW",
        "colab": {
          "base_uri": "https://localhost:8080/",
          "height": 70
        },
        "outputId": "2a66f7d7-5e1f-42bc-f00e-0f2ccd8212c2"
      },
      "source": [
        "# [Q3] Code - 1\n",
        "input1 = input(\"첫번째 숫자를 입력하세요:\")\n",
        "input2 = input(\"두번째 숫자를 입력하세요:\")\n",
        " \n",
        "total = input1 + input2\n",
        "print(\"두 수의 합은 %s 입니다\" % total)"
      ],
      "execution_count": 6,
      "outputs": [
        {
          "output_type": "stream",
          "text": [
            "첫번째 숫자를 입력하세요:3\n",
            "두번째 숫자를 입력하세요:6\n",
            "두 수의 합은 36 입니다\n"
          ],
          "name": "stdout"
        }
      ]
    },
    {
      "cell_type": "code",
      "metadata": {
        "id": "uMFCjg-HiiOL",
        "colab_type": "code",
        "colab": {
          "base_uri": "https://localhost:8080/",
          "height": 34
        },
        "outputId": "e69ff329-4b6d-415b-e252-8e88564d5537"
      },
      "source": [
        "type(input1),type(input2)\n",
        "# input1과 input2 결과의 type이 문자열로 되어있기에 문자열의 합으로 붙어서 나온다."
      ],
      "execution_count": 7,
      "outputs": [
        {
          "output_type": "execute_result",
          "data": {
            "text/plain": [
              "(str, str)"
            ]
          },
          "metadata": {
            "tags": []
          },
          "execution_count": 7
        }
      ]
    },
    {
      "cell_type": "code",
      "metadata": {
        "id": "xB7BSAdJiCdZ",
        "colab_type": "code",
        "colab": {
          "base_uri": "https://localhost:8080/",
          "height": 70
        },
        "outputId": "f8dd3f85-d33c-4ece-b071-515e784c5deb"
      },
      "source": [
        "# [Q3] Code - 2\n",
        "input1 = int (input(\"첫번째 숫자를 입력하세요:\"))\n",
        "input2 = int (input(\"두번째 숫자를 입력하세요:\"))\n",
        "# 그러므로 input 함수 앞에 int를 이용해 문자열을 숫자(정수)로 바꿔주면 제대로 작동한다.\n",
        " \n",
        "total = input1 + input2\n",
        "print(\"두 수의 합은 %s 입니다\" % total)"
      ],
      "execution_count": 8,
      "outputs": [
        {
          "output_type": "stream",
          "text": [
            "첫번째 숫자를 입력하세요:3\n",
            "두번째 숫자를 입력하세요:6\n",
            "두 수의 합은 9 입니다\n"
          ],
          "name": "stdout"
        }
      ]
    },
    {
      "cell_type": "markdown",
      "metadata": {
        "colab_type": "text",
        "id": "fqypxxqTXHY7"
      },
      "source": [
        "## Q4.\n",
        "> 다음 중 출력 결과가 다른 것 한 개를 골라 보자.\n",
        "\n",
        "```\n",
        "print(\"you\" \"need\" \"python\")\n",
        "print(\"you\"+\"need\"+\"python\")\n",
        "print(\"you\", \"need\", \"python\")\n",
        "print(\"\".join([\"you\", \"need\", \"python\"]))\n",
        "```"
      ]
    },
    {
      "cell_type": "code",
      "metadata": {
        "colab_type": "code",
        "id": "oQ5UnmayXHY-",
        "colab": {
          "base_uri": "https://localhost:8080/",
          "height": 52
        },
        "outputId": "bd1fc3fb-10fb-46ab-89a7-1534ccbe6d60"
      },
      "source": [
        "# [Q4] Code\n",
        "print(\"you\" \"need\" \"python\")\n",
        "print(\"you\"+\"need\"+\"python\")\n",
        "# 큰따옴표로 둘러싸인 문자열은 + 연산과 동일하다. 따라서 위 두 식은 같다."
      ],
      "execution_count": 9,
      "outputs": [
        {
          "output_type": "stream",
          "text": [
            "youneedpython\n",
            "youneedpython\n"
          ],
          "name": "stdout"
        }
      ]
    },
    {
      "cell_type": "code",
      "metadata": {
        "id": "qt6ZmBB2mxFf",
        "colab_type": "code",
        "colab": {
          "base_uri": "https://localhost:8080/",
          "height": 34
        },
        "outputId": "502f72e0-aebf-401d-8616-8e5fb8dfe166"
      },
      "source": [
        "print(\"you\", \"need\", \"python\")  # 문자열의 띄어쓰기는 콤마로 하기 때문에 출력시 자동적으로 띄어쓰기가 된다."
      ],
      "execution_count": 10,
      "outputs": [
        {
          "output_type": "stream",
          "text": [
            "you need python\n"
          ],
          "name": "stdout"
        }
      ]
    },
    {
      "cell_type": "code",
      "metadata": {
        "id": "S9kcMBMCmzJk",
        "colab_type": "code",
        "colab": {
          "base_uri": "https://localhost:8080/",
          "height": 34
        },
        "outputId": "8721923b-845d-43dc-e478-527c46fa0485"
      },
      "source": [
        "print(\"\".join([\"you\", \"need\", \"python\"])) # join 함수 앞 큰따옴표에 공백이나 문자가 없으므로 리스트 문자열 요소값이 그대로 출력된다."
      ],
      "execution_count": 11,
      "outputs": [
        {
          "output_type": "stream",
          "text": [
            "youneedpython\n"
          ],
          "name": "stdout"
        }
      ]
    },
    {
      "cell_type": "markdown",
      "metadata": {
        "colab_type": "text",
        "id": "NKsvciXZXIL-"
      },
      "source": [
        "## Q5.\n",
        "> 다음은 \"test.txt\"라는 파일에 \"Life is too short\" 문자열을 저장한 후 다시 그 파일을 읽어서 출력하는 프로그램이다.\n",
        "\n",
        "```\n",
        "f1 = open(\"test.txt\", 'w')\n",
        "f1.write(\"Life is too short\")\n",
        "\n",
        "f2 = open(\"test.txt\", 'r')\n",
        "print(f2.read())\n",
        "\n",
        "```\n",
        ">> 이 프로그램은 우리가 예상한 \"Life is too short\"라는 문장을 출력하지 않는다.\n",
        "\n",
        ">> 우리가 예상한 값을 출력할 수 있도록 프로그램을 수정해 보자."
      ]
    },
    {
      "cell_type": "code",
      "metadata": {
        "colab_type": "code",
        "id": "5MZQYOVjXIL_",
        "colab": {
          "base_uri": "https://localhost:8080/",
          "height": 34
        },
        "outputId": "590a5d81-9214-4ae2-e896-8eb09ed2a6d0"
      },
      "source": [
        "# [Q5] Code - 1\n",
        "f1 = open(\"test.txt\", 'w')\n",
        "f1.write(\"Life is too short\") # 쓰기 모드로 파일을 열었을 경우 close()로 닫지 않고 다시 사용하려고 하면 오류가 발생한다.\n",
        " \n",
        "f2 = open(\"test.txt\", 'r')\n",
        "print(f2.read())"
      ],
      "execution_count": 12,
      "outputs": [
        {
          "output_type": "stream",
          "text": [
            "\n"
          ],
          "name": "stdout"
        }
      ]
    },
    {
      "cell_type": "code",
      "metadata": {
        "id": "d2VgTnlInm7f",
        "colab_type": "code",
        "colab": {
          "base_uri": "https://localhost:8080/",
          "height": 34
        },
        "outputId": "ce2bb1eb-a821-4862-b05c-f600001e9eaa"
      },
      "source": [
        "# [Q5] Code - 2\n",
        "f1 = open(\"test.txt\", 'w')\n",
        "f1.write(\"Life is too short\")\n",
        "f1.close()\n",
        " \n",
        "f2 = open(\"test.txt\", 'r')\n",
        "print(f2.read())"
      ],
      "execution_count": 13,
      "outputs": [
        {
          "output_type": "stream",
          "text": [
            "Life is too short\n"
          ],
          "name": "stdout"
        }
      ]
    },
    {
      "cell_type": "code",
      "metadata": {
        "id": "V1_G5jMsobr8",
        "colab_type": "code",
        "colab": {
          "base_uri": "https://localhost:8080/",
          "height": 34
        },
        "outputId": "600977ea-3ce2-4ba7-cc09-9f2932ea0191"
      },
      "source": [
        "# [Q5] Code - 3\n",
        "# close를 사용하지 않아도 되는 with구문을 사용해도 된다.\n",
        "with open(\"test.txt\", 'w') as f1:\n",
        "    f1.write(\"Life is too short\")\n",
        "with open(\"test.txt\", 'r') as f2:\n",
        "    print(f2.read())"
      ],
      "execution_count": 14,
      "outputs": [
        {
          "output_type": "stream",
          "text": [
            "Life is too short\n"
          ],
          "name": "stdout"
        }
      ]
    },
    {
      "cell_type": "markdown",
      "metadata": {
        "colab_type": "text",
        "id": "-3KHtOOoXJBV"
      },
      "source": [
        "## Q6.\n",
        "> 사용자의 입력을 파일(test.txt)에 저장하는 프로그램을 작성해 보자. \n",
        "- (단 프로그램을 다시 실행하더라도 기존에 작성한 내용을 유지하고 새로 입력한 내용을 추가해야 한다.)\n"
      ]
    },
    {
      "cell_type": "code",
      "metadata": {
        "colab_type": "code",
        "id": "AjYR0lUaXJBa",
        "colab": {
          "base_uri": "https://localhost:8080/",
          "height": 34
        },
        "outputId": "bcf81380-2d29-48a1-e09e-1249beba6ffe"
      },
      "source": [
        "# [Q6] Code\n",
        "user_input = input(\"저장할 내용을 입력하세요:\")\n",
        "f = open('test.txt', 'a') # 추가 모드인 'a'를 이용해 기존 내용을 유지한다.\n",
        "f.write(user_input)\n",
        "f.write(\"\\n\") # 입력된 내용을 줄 단위로 구분하기 위해 줄 바꿈 문자를 넣는다.\n",
        "f.close()"
      ],
      "execution_count": 15,
      "outputs": [
        {
          "output_type": "stream",
          "text": [
            "저장할 내용을 입력하세요:Life is too short\n"
          ],
          "name": "stdout"
        }
      ]
    },
    {
      "cell_type": "markdown",
      "metadata": {
        "colab_type": "text",
        "id": "YrS3b88QbmKo"
      },
      "source": [
        "## Q7.\n",
        "> 다음과 같은 내용을 지닌 파일 foo1.txt가 있다. 이 파일의 내용 중 \"java\"라는 문자열을 \"python\"으로 바꾸어서 저장해 보자.\n",
        "\n",
        ">> Life is too short  \n",
        ">> you need java\n",
        "\n",
        "- ※ replace 함수를 사용해 보자.\n"
      ]
    },
    {
      "cell_type": "code",
      "metadata": {
        "id": "ZqgcfzvGrXjB",
        "colab_type": "code",
        "colab": {
          "base_uri": "https://localhost:8080/",
          "height": 52
        },
        "outputId": "39268ee3-026e-4718-ebf6-5442672adbf7"
      },
      "source": [
        "# [Q7] Code - 1\n",
        "f = open('foo1.txt', 'r')\n",
        "data = f.read()\n",
        "print(data)\n",
        "f.close()\n",
        "# 파일에는 아직 Life is too short you need java가 저장되어있다."
      ],
      "execution_count": 16,
      "outputs": [
        {
          "output_type": "stream",
          "text": [
            "Life is too short\n",
            "you need java\n"
          ],
          "name": "stdout"
        }
      ]
    },
    {
      "cell_type": "code",
      "metadata": {
        "colab_type": "code",
        "id": "Ll_2InMWbmKq",
        "colab": {}
      },
      "source": [
        "# [Q7] Code - 2\n",
        "f = open('foo1.txt', 'r')\n",
        "body = f.read()\n",
        "f.close() # foo1.txt 파일을 모두 읽는다.\n",
        "\n",
        "body = body.replace('java', 'python') # 그 후 문자열의 replace 함수를 사용하여 java 문자열을 python으로 변경한다.\n",
        "\n",
        "f = open('foo1.txt', 'w')\n",
        "f.write(body)\n",
        "f.close() # 마지막으로 변경한 내용을 저장한다."
      ],
      "execution_count": 0,
      "outputs": []
    },
    {
      "cell_type": "code",
      "metadata": {
        "id": "PLpRPmjTrvWV",
        "colab_type": "code",
        "colab": {
          "base_uri": "https://localhost:8080/",
          "height": 52
        },
        "outputId": "b94720c3-bb3d-4729-d6ac-316872d68cca"
      },
      "source": [
        "# [Q7] Code - 3\n",
        "f = open('foo1.txt', 'r')\n",
        "data = f.read()\n",
        "print(data)\n",
        "f.close()\n",
        "# 파일에 java가 python으로 바뀌어서 Life is too short you need python으로 저장되어있다."
      ],
      "execution_count": 18,
      "outputs": [
        {
          "output_type": "stream",
          "text": [
            "Life is too short\n",
            "you need python\n"
          ],
          "name": "stdout"
        }
      ]
    },
    {
      "cell_type": "markdown",
      "metadata": {
        "id": "2ljBDShkbqZO",
        "colab_type": "text"
      },
      "source": [
        "## 코딩 연습 결과를 github에 올리기\n",
        "> 완성된 ipython 노트북 파일을 각자의 github에 올리시오.\n",
        "\n",
        "- github 계정 만들기 (계정이 없는 학생)\n",
        "    1. github에 sign up (Google gmail 계정을 이용해서 만드시오.)\n",
        "- github에 노트 올리기\n",
        "    2. github에 각자의 id로 repo를 만드시오. (한번 만들면 계속 재사용)\n",
        "    3. github repo에 연습결과 노트를 올리시오.\n",
        "        - 제출노트: ch4_exercises_id.ipynb\n"
      ]
    }
  ]
}