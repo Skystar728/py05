{
  "nbformat": 4,
  "nbformat_minor": 0,
  "metadata": {
    "colab": {
      "name": "ch5_exercises_py05.ipynb",
      "provenance": [],
      "collapsed_sections": [],
      "include_colab_link": true
    },
    "kernelspec": {
      "name": "python3",
      "display_name": "Python 3"
    }
  },
  "cells": [
    {
      "cell_type": "markdown",
      "metadata": {
        "id": "view-in-github",
        "colab_type": "text"
      },
      "source": [
        "<a href=\"https://colab.research.google.com/github/Skystar728/py05/blob/master/notebook/ch5_exercises_py05.ipynb\" target=\"_parent\"><img src=\"https://colab.research.google.com/assets/colab-badge.svg\" alt=\"Open In Colab\"/></a>"
      ]
    },
    {
      "cell_type": "markdown",
      "metadata": {
        "id": "ovY5jkD5dpxE",
        "colab_type": "text"
      },
      "source": [
        "## ch5_exercises_py05.ipynb"
      ]
    },
    {
      "cell_type": "markdown",
      "metadata": {
        "id": "SZw6UnxQWYBe",
        "colab_type": "text"
      },
      "source": [
        "## Q1.\n",
        "> 다음은 Calculator 클래스이다.\n",
        "\n",
        "```\n",
        "class Calculator:\n",
        "    def __init__(self):\n",
        "        self.value = 0\n",
        "\n",
        "    def add(self, val):\n",
        "        self.value += val\n",
        "```\n",
        "---\n",
        "> 위 클래스를 상속하는 UpgradeCalculator를 만들고 값을 뺄 수 있는 minus 메서드를 추가해 보자. \n",
        ">> 즉 다음과 같이 동작하는 클래스를 만들어야 한다.\n",
        "```\n",
        "cal = UpgradeCalculator()\n",
        "cal.add(10)\n",
        "cal.minus(7)\n",
        "print(cal.value) # 10에서 7을 뺀 3을 출력\n",
        "```\n"
      ]
    },
    {
      "cell_type": "code",
      "metadata": {
        "id": "rUNNaqJPdg7B",
        "colab_type": "code",
        "outputId": "98eb7424-8d79-4250-9c64-d2c85729a55a",
        "colab": {
          "base_uri": "https://localhost:8080/",
          "height": 35
        }
      },
      "source": [
        "# [Q1] Code  \n",
        "class Calculator:  # Calculator 클래스를 생성한다.\n",
        "    def __init__(self): # init 메서드는 클래스 객체 초기화한다. self는 클래식 객체 자신을 의미한다.\n",
        "        self.value = 0  # self의 값을 0으로 초기화한다.\n",
        " \n",
        "    def add(self, val):  # 여기서 val은 더해지는 값을 의미한다.\n",
        "        self.value += val   # # self.value = self.value + val\n",
        "\n",
        "class UpgradeCalculator(Calculator):  # 클래스를 상속하기 위해서는 클래스 이름 뒤 괄호 안에 상속할 클래스 이름을 넣어준다. 여기서는 Calculator를 상속하기 때문에 괄호 안에 Calculator를 넣어준다.\n",
        "    def minus(self, val):  # 여기서 val은 빼지는 값을 의미한다.\n",
        "        self.value -= val   # self.value = self.value - val\n",
        "\n",
        "cal = UpgradeCalculator()   # cal 객체를 이용해 UpgradeCalculator 클래스를 호출한다.\n",
        "cal.add(10)   # UpgradeCalculator의 add 메서드를 호출한다. val은 10.\n",
        "cal.minus(7)  # UpgradeCalculator의 minus 메서드를 호출한다. val은 7.\n",
        "print(cal.value) # 10에서 7을 뺀 3을 출력"
      ],
      "execution_count": 0,
      "outputs": [
        {
          "output_type": "stream",
          "text": [
            "3\n"
          ],
          "name": "stdout"
        }
      ]
    },
    {
      "cell_type": "markdown",
      "metadata": {
        "colab_type": "text",
        "id": "re2-XrUYXF1m"
      },
      "source": [
        "## Q2.\n",
        "> 객체변수 value가 100 이상의 값은 가질 수 없도록 제한하는 MaxLimitCalculator 클래스를 만들어 보자. \n",
        ">> 즉 다음과 같이 동작해야 한다.\n",
        "```\n",
        "cal = MaxLimitCalculator()\n",
        "cal.add(50) # 50 더하기\n",
        "cal.add(60) # 60 더하기\n",
        "print(cal.value) # 100 출력\n",
        "```\n",
        ">> 단 반드시 다음과 같은 Calculator 클래스를 상속해서 만들어야 한다.\n",
        "```\n",
        "class Calculator:\n",
        "    def __init__(self):\n",
        "        self.value = 0\n",
        "    def add(self, val):\n",
        "        self.value += val\n",
        "```"
      ]
    },
    {
      "cell_type": "code",
      "metadata": {
        "colab_type": "code",
        "id": "5MBLUZ5WXF1q",
        "outputId": "995b77f1-5e47-46c1-97de-d66fb77328a4",
        "colab": {
          "base_uri": "https://localhost:8080/",
          "height": 35
        }
      },
      "source": [
        "# [Q2] Code\n",
        "class Calculator:  # Calculator 클래스를 생성한다.\n",
        "    def __init__(self): # init 메서드는 클래스 객체 초기화한다. self는 클래식 객체 자신을 의미한다.\n",
        "        self.value = 0  # self의 값을 0으로 초기화한다.\n",
        " \n",
        "    def add(self, val):  # 여기서 val은 더해지는 값을 의미한다.\n",
        "        self.value += val   # # self.value = self.value + val\n",
        "\n",
        "class MaxLimitCalculator(Calculator):   # MaxLimitCalculator 클래스가 Calculator를 상속하기 때문에 괄호 안에 Calculator를 넣어준다.\n",
        "    def add(self, val):   # 부모 클래스의 있는 메서드와 같은 이름으로 다시 만들어 메서드 오버라이딩을 해준다.\n",
        "        self.value += val\n",
        "        if self.value > 100:  # 더한 값이 100보다 큰 수로 넘어가면 그 값이 아닌 100이 나오도록 조건식을 만든다. \n",
        "            self.value = 100\n",
        "\n",
        "cal = MaxLimitCalculator()  # cal 객체를 이용해 MaxLimitCalculator 클래스를 호출한다.\n",
        "cal.add(50) # 50 더하기, MaxLimitCalculator의 add 메서드를 호출한다. val은 50.\n",
        "cal.add(60) # 60 더하기, MaxLimitCalculator의 add 메서드를 호출한다. val은 60. \n",
        "print(cal.value) # 100 출력"
      ],
      "execution_count": 0,
      "outputs": [
        {
          "output_type": "stream",
          "text": [
            "100\n"
          ],
          "name": "stdout"
        }
      ]
    },
    {
      "cell_type": "markdown",
      "metadata": {
        "colab_type": "text",
        "id": "UZy8lu_BXGnT"
      },
      "source": [
        "## Q3.\n",
        "> 다음 결과를 예측해 보자.\n",
        "\n",
        "- 하나.\n",
        "```\n",
        "all([1, 2, abs(-3)-3])\n",
        "```\n",
        "\n",
        "- 둘.\n",
        "```\n",
        "chr(ord('a')) == 'a'\n",
        "```"
      ]
    },
    {
      "cell_type": "code",
      "metadata": {
        "colab_type": "code",
        "id": "H9T_sXHzXGnW",
        "outputId": "ee5f6cac-cfe9-4ba7-82a6-72089541f493",
        "colab": {
          "base_uri": "https://localhost:8080/",
          "height": 35
        }
      },
      "source": [
        "# [Q3] Code - 1\n",
        "# all(x)는 반복 가능한 자료형 x를 입력 인수로 받으며 이 x가 모두 참이면 True, 거짓이 하나라도 있으면 False를 돌려준다.\n",
        "all([1, 2, abs(-3)-3])  # abs(-3)-3 = 3 - 3 = 0\n",
        "# abs(x)는 어떤 숫자를 입력받았을 때, 그 숫자의 절댓값을 돌려주는 함수이다. 그래서 abs(-3)은 3이다. 하지만 3-3은 0이기 때문에 리스트의 모든 요소가 참은 아니기에 False를 돌려준다."
      ],
      "execution_count": 0,
      "outputs": [
        {
          "output_type": "execute_result",
          "data": {
            "text/plain": [
              "False"
            ]
          },
          "metadata": {
            "tags": []
          },
          "execution_count": 4
        }
      ]
    },
    {
      "cell_type": "code",
      "metadata": {
        "id": "rj0xdnglAG43",
        "colab_type": "code",
        "outputId": "3dd64275-bc4a-4caa-ae00-92edb04390ca",
        "colab": {
          "base_uri": "https://localhost:8080/",
          "height": 35
        }
      },
      "source": [
        "# [Q3] Code - 2\n",
        "# chr(i)는 아스키(ASCII) 코드 값을 입력받아 그 코드에 해당하는 문자를 출력하는 함수이다. 하지만 ord(c)는 문자의 아스키 코드 값을 돌려주는 함수이다.\n",
        "# 따라서 ord 함수는 chr 함수와 반대이다.\n",
        "ord('a')  # 'a' 의 아스키 코드 값은 97이다.\n",
        "chr(97)   # 따라서 chr(ord('a'))는 chr(97)과 같고 결과값은 'a' 가 나온다.\n",
        "chr(ord('a')) == 'a' # 따라서 식이 성립하기 때문에 True를 돌려준다."
      ],
      "execution_count": 0,
      "outputs": [
        {
          "output_type": "execute_result",
          "data": {
            "text/plain": [
              "True"
            ]
          },
          "metadata": {
            "tags": []
          },
          "execution_count": 5
        }
      ]
    },
    {
      "cell_type": "markdown",
      "metadata": {
        "colab_type": "text",
        "id": "fqypxxqTXHY7"
      },
      "source": [
        "## Q4.\n",
        "> filter와 lambda를 사용하여 리스트 [1, -2, 3, -5, 8, -3]에서 음수를 모두 제거해 보자."
      ]
    },
    {
      "cell_type": "code",
      "metadata": {
        "colab_type": "code",
        "id": "oQ5UnmayXHY-",
        "outputId": "9e17aa9a-90c3-4663-fb27-6f770d73cc60",
        "colab": {
          "base_uri": "https://localhost:8080/",
          "height": 35
        }
      },
      "source": [
        "# [Q4] Code - 1\n",
        "# filter 함수에서 조건을 받는 함수를 lambda가 이용 가능하다. 그러므로 lambda를 이용해서 음수를 판별하는 함수를 먼저 만들어보면 lambda x:x>0 가 된다.\n",
        "# 따라서 주어진 리스트에서 음수를 제거하는 식을 만들어보면\n",
        "list(filter(lambda x:x>0, [1, -2, 3, -5, 8, -3])) # 이고 출력하면 [1, 3, 8]이 출력된다."
      ],
      "execution_count": 0,
      "outputs": [
        {
          "output_type": "execute_result",
          "data": {
            "text/plain": [
              "[1, 3, 8]"
            ]
          },
          "metadata": {
            "tags": []
          },
          "execution_count": 6
        }
      ]
    },
    {
      "cell_type": "code",
      "metadata": {
        "id": "Ux4z58uPHqPT",
        "colab_type": "code",
        "outputId": "b304eebc-2c88-4ebb-9e0d-e531cbf1b90e",
        "colab": {
          "base_uri": "https://localhost:8080/",
          "height": 35
        }
      },
      "source": [
        "# [Q4] Code - 2 \n",
        "# No lambda\n",
        "def positive(x):  # 입력된 값이 양수인지 음수인지 판별 후 양수만 출력하는 함수를 만든다.\n",
        "    return x > 0\n",
        "# 따라서 조건에 positive 함수를 넣고 주어진 리스트에서 음수를 제거하는 식을 만들어보면\n",
        "list(filter(positive, [1, -2, 3, -5, 8, -3])) # 이고 출력하면 [1, 3, 8]이 출력된다."
      ],
      "execution_count": 0,
      "outputs": [
        {
          "output_type": "execute_result",
          "data": {
            "text/plain": [
              "[1, 3, 8]"
            ]
          },
          "metadata": {
            "tags": []
          },
          "execution_count": 1
        }
      ]
    },
    {
      "cell_type": "code",
      "metadata": {
        "id": "tOmHsiHaJ1QU",
        "colab_type": "code",
        "outputId": "172b9f41-45b9-4800-be03-cbcb46ddf6c8",
        "colab": {
          "base_uri": "https://localhost:8080/",
          "height": 35
        }
      },
      "source": [
        "# [Q4] Code - 3\n",
        "# No filter\n",
        "def positive(l):  # 입력된 값이 양수인지 음수인지 판별 후 양수만 출력하는 함수를 만든다.\n",
        "    result = []   # result에 빈 리스트를 만들어 준다.\n",
        "    for i in l:   # I에 입력된 리스트의 요소값 하나하나씩 i에 넣고 반복한다.\n",
        "        if i > 0: # I로 부터 받은 리스트 요소값 i가 양수라면\n",
        "            result.append(i)  # 요소값을 빈 리스트인 result의 요소로 추가한다.\n",
        "    return result # 모두 반복 후 최종적으로 남은 result 리스트를 돌려준다.\n",
        "\n",
        "print(positive([1, -2, 3, -5, 8, -3]))  # 출력하면 [1, 3, 8]이 출력된다."
      ],
      "execution_count": 0,
      "outputs": [
        {
          "output_type": "stream",
          "text": [
            "[1, 3, 8]\n"
          ],
          "name": "stdout"
        }
      ]
    },
    {
      "cell_type": "markdown",
      "metadata": {
        "colab_type": "text",
        "id": "NKsvciXZXIL-"
      },
      "source": [
        "## Q5.\n",
        "> 234라는 10진수의 16진수는 다음과 같이 구할 수 있다.\n",
        "```\n",
        "hex(234)\n",
        "'0xea'\n",
        "```\n",
        "> 이번에는 반대로 16진수 문자열 0xea를 10진수로 변경해 보자.\n",
        ">>※ 내장 함수 int를 활용해 보자.\n"
      ]
    },
    {
      "cell_type": "code",
      "metadata": {
        "colab_type": "code",
        "id": "5MZQYOVjXIL_",
        "outputId": "da39bf78-4692-4108-ad20-4badec7a7729",
        "colab": {
          "base_uri": "https://localhost:8080/",
          "height": 35
        }
      },
      "source": [
        "# [Q5] Code\n",
        "# int(x, radix)는 radix 진수로 표현된 문자열 x를 10진수로 변환하여 돌려준다.\n",
        "int('0xea', 16)  # x 위치에 10진수로 알고 싶은 수의 문자열인 '0xea'를 넣고 radix 위치에 0xea의 진수인 16을 입력해주면 0xea의 10진수형이 출력된다."
      ],
      "execution_count": 0,
      "outputs": [
        {
          "output_type": "execute_result",
          "data": {
            "text/plain": [
              "234"
            ]
          },
          "metadata": {
            "tags": []
          },
          "execution_count": 7
        }
      ]
    },
    {
      "cell_type": "markdown",
      "metadata": {
        "colab_type": "text",
        "id": "-3KHtOOoXJBV"
      },
      "source": [
        "## Q6.\n",
        "> map과 lambda를 사용하여 [1, 2, 3, 4] 리스트의 각 요솟값에 3이 곱해진 리스트 [3, 6, 9, 12]를 만들어 보자.\n"
      ]
    },
    {
      "cell_type": "code",
      "metadata": {
        "colab_type": "code",
        "id": "AjYR0lUaXJBa",
        "outputId": "22fc7393-1c46-4c16-8452-12b61c1174a6",
        "colab": {
          "base_uri": "https://localhost:8080/",
          "height": 35
        }
      },
      "source": [
        "# [Q6] Code - 1\n",
        "# map(f, iterable)은 함수(f)와 반복 가능한(iterable) 자료형을 입력으로 받는다. map은 입력받은 자료형의 각 요소를 함수 f가 수행한 결과를 묶어서 돌려주는 함수이다.\n",
        "# map의 함수를 lambda로 3을 곱한 요솟값을 출력되게 만든 lambda x:x*3로 정한다. 따라서 주어진 리스트의 각 요솟값에 3이 곱해진 리스트를 만드는 식을 만들어보면\n",
        "list(map(lambda x:x * 3, [1, 2, 3, 4])) # 이고 출력하면 [3, 6, 9, 12]가 출력된다."
      ],
      "execution_count": 0,
      "outputs": [
        {
          "output_type": "execute_result",
          "data": {
            "text/plain": [
              "[3, 6, 9, 12]"
            ]
          },
          "metadata": {
            "tags": []
          },
          "execution_count": 8
        }
      ]
    },
    {
      "cell_type": "code",
      "metadata": {
        "id": "1GBj_4QOI9rn",
        "colab_type": "code",
        "outputId": "7c599479-5930-455c-a376-d3622d704e52",
        "colab": {
          "base_uri": "https://localhost:8080/",
          "height": 35
        }
      },
      "source": [
        "# [Q6] Code - 2 \n",
        "# No lambda\n",
        "def three_times(x):  # 입력한 값을 세 배 커진 값으로 출력하는 함수를 만든다.\n",
        "    return x * 3\n",
        "# 따라서 조건에 three_times 함수를 넣고 주어진 리스트의 각 요솟값에 3이 곱해진 리스트를 만드는 식을 만들어보면\n",
        "list(map(three_times, [1, 2, 3, 4])) # 이고 출력하면 [3, 6, 9, 12]가 출력된다."
      ],
      "execution_count": 0,
      "outputs": [
        {
          "output_type": "execute_result",
          "data": {
            "text/plain": [
              "[3, 6, 9, 12]"
            ]
          },
          "metadata": {
            "tags": []
          },
          "execution_count": 2
        }
      ]
    },
    {
      "cell_type": "code",
      "metadata": {
        "id": "lKBv44fGLk13",
        "colab_type": "code",
        "colab": {}
      },
      "source": [
        "# [Q6] Code - 3 \n",
        "# No map\n",
        "def three_times(numberList):  # 입력받은 리스트의 요소값을 세 배 커진 값으로 출력하는 함수를 만든다.\n",
        "    result = [ ]  # result에 빈 리스트를 만들어 준다.  \n",
        "    for number in numberList:  # numberList에 입력된 리스트의 요소값 하나하나씩 number에 넣고 반복한다.\n",
        "        result.append(number*3) # numberList로 부터 받은 리스트 요소값 number를 3을 곱한 후 빈 리스트인 result의 요소로 추가한다.\n",
        "    return result # 모두 반복 후 최종적으로 남은 result 리스트를 돌려준다.\n",
        "\n",
        "result = three_times([1, 2, 3, 4])  # 함수 three_times에 [1, 2, 3, 4] 리스트를 입력하고 바뀐 리스트 값을 result에 넣는다.\n",
        "print(result)  # result를 출력하면 함수가 적용되어 [3, 6, 9, 12]가 출력된다."
      ],
      "execution_count": 0,
      "outputs": []
    },
    {
      "cell_type": "markdown",
      "metadata": {
        "colab_type": "text",
        "id": "YrS3b88QbmKo"
      },
      "source": [
        "## Q7.\n",
        "> 다음 리스트의 최댓값과 최솟값의 합을 구해 보자.\n",
        ">> [-8, 2, 7, 5, -3, 5, 0, 1]"
      ]
    },
    {
      "cell_type": "code",
      "metadata": {
        "colab_type": "code",
        "id": "Ll_2InMWbmKq",
        "outputId": "a63c04e1-ed26-4904-9f3e-73d36bd60d16",
        "colab": {
          "base_uri": "https://localhost:8080/",
          "height": 35
        }
      },
      "source": [
        "# [Q7] Code - 1 \n",
        "# No max, min\n",
        "a = [-8, 2, 7, 5, -3, 5, 0, 1]\n",
        "\n",
        "# 처음에는 누가 큰지 모르기 때문에 a[0]를 가장 큰 수라고 생각하고 maxValue에 넣는다. 그리고 a[1]부터 비교해 가면서 maxValue보다 더 큰 수를 만나면 maxValue에 넣는다. \n",
        "# 이렇게 마지막 원소까지 비교하고 나면 maxValue에는 전체에서 가장 큰 수가 남게 된다.\n",
        "maxValue = a[0]\n",
        "for i in range(1, len(a)):  # a[0]은 maxValue에 넣기 때문에, 다음 자리인 1부터 마지막 인덱스인 len(a) -1까지 비교하기 위해 range(1, len(a)로 구간을 정한다.\n",
        "    if maxValue < a[i]:\n",
        "        maxValue = a[i]\n",
        "# 최종적으로 maxValue에는 7이 남게 된다.\n",
        "\n",
        "# 같은 방식으로 처음에는 누가 큰지 모르기 때문에 a[0]를 가장 작은 수라고 생각하고 minValue에 넣는다. 그리고 a[1]부터 비교해 가면서 minValue보다 더 작은 수를 만나면 minValue에 넣는다. \n",
        "# 이렇게 마지막 원소까지 비교하고 나면 minValue에는 전체에서 가장 작은 수가 남게 된다.\n",
        "minValue = a[0]\n",
        "for i in range(1, len(a)):  # a[0]은 minValue에 넣기 때문에, 다음 자리인 1부터 마지막 인덱스인 len(a) -1까지 비교하기 위해 range(1, len(a)로 구간을 정한다.\n",
        "    if minValue > a[i]:\n",
        "        minValue = a[i]\n",
        "# 최종적으로 minValue에는 -8이 남게 된다.\n",
        "\n",
        "print(maxValue + minValue)  # 따라서 최댓값과 최솟값의 합은 -1이 출력된다."
      ],
      "execution_count": 0,
      "outputs": [
        {
          "output_type": "stream",
          "text": [
            "-1\n"
          ],
          "name": "stdout"
        }
      ]
    },
    {
      "cell_type": "code",
      "metadata": {
        "id": "MZ3R5zCAKaOj",
        "colab_type": "code",
        "outputId": "c57046f1-65ca-4e56-d650-7c62f97f2ee9",
        "colab": {
          "base_uri": "https://localhost:8080/",
          "height": 35
        }
      },
      "source": [
        "# [Q7] Code - 2\n",
        "maxValue = max([-8, 2, 7, 5, -3, 5, 0, 1])  # max(iterable)는 인수로 반복 가능한 자료형을 입력받아 그 최댓값을 돌려주는 함수이다. 그러므로 maxValue에는 최댓값인 7이 바로 들어가게 된다.\n",
        "minValue = min([-8, 2, 7, 5, -3, 5, 0, 1])  # min(iterable)은 max 함수와 반대로, 인수로 반복 가능한 자료형을 입력받아 그 최솟값을 돌려주는 함수이다. 그러므로 minValue에는 최솟값인 -8이 바로 들어가게 된다.\n",
        "\n",
        "print(maxValue + minValue)  # 따라서 최댓값과 최솟값의 합은 -1이 출력된다."
      ],
      "execution_count": 0,
      "outputs": [
        {
          "output_type": "stream",
          "text": [
            "-1\n"
          ],
          "name": "stdout"
        }
      ]
    },
    {
      "cell_type": "markdown",
      "metadata": {
        "colab_type": "text",
        "id": "OcSDHHYkK6lZ"
      },
      "source": [
        "## Q8.\n",
        "> 17 / 3의 결과는 다음과 같다.\n",
        "```\n",
        "17 / 3\n",
        "5.666666666666667\n",
        "```\n",
        "> 위와 같은 결괏값 5.666666666666667을 소숫점 4자리까지만 반올림하여 표시해 보자."
      ]
    },
    {
      "cell_type": "code",
      "metadata": {
        "colab_type": "code",
        "id": "GmaaVGqrK6le",
        "outputId": "1515d4bf-092b-46b3-b9cc-8f784a8a6cdc",
        "colab": {
          "base_uri": "https://localhost:8080/",
          "height": 35
        }
      },
      "source": [
        "# [Q8] Code - 1\n",
        "# round(number[, ndigits]) 함수는 숫자를 입력받아 반올림해 주는 함수이다. round 함수의 두 번째 매개변수는 반올림하여 표시하고 싶은 소수점의 자릿수(ndigits)이다.\n",
        "# 따라서  5.666666666666667을 소숫점 4자리까지만 반올림하여 표시하기 위해 round 함수를 이용하면\n",
        "round(17/3, 4) # 가 되고 5.6667이 출력된다."
      ],
      "execution_count": 0,
      "outputs": [
        {
          "output_type": "execute_result",
          "data": {
            "text/plain": [
              "5.6667"
            ]
          },
          "metadata": {
            "tags": []
          },
          "execution_count": 11
        }
      ]
    },
    {
      "cell_type": "code",
      "metadata": {
        "id": "crHUP_WdPLQp",
        "colab_type": "code",
        "outputId": "b0e668d9-60cf-4dd8-b6fc-90acea9910ea",
        "colab": {
          "base_uri": "https://localhost:8080/",
          "height": 35
        }
      },
      "source": [
        "# [Q8] Code - 2\n",
        "# 파이썬은 반올림을 하는 round() 함수를 내장하고 있지만, round() 함수는 끝자리가 0이면 출력을 하지 않는 문제가 있다.\n",
        "# 만약 주어진 조건이 5.666666666666660 이였다면 round를 사용하면 안된다. 이럴 경우엔 format 함수를 이용해준다.\n",
        "a = float(format(5.666666666666660, \".4f\"))  # 먼저 반올림을 할 소수점 자리수가 0이 아니라면 그 자리수 까지만 출력이 되도록 한다.\n",
        "round(a, 4)   # 그런 다음 round 함수를 이용해서 반올림을 해준다. 그럼 5.6667이 출력된다."
      ],
      "execution_count": 0,
      "outputs": [
        {
          "output_type": "execute_result",
          "data": {
            "text/plain": [
              "5.6667"
            ]
          },
          "metadata": {
            "tags": []
          },
          "execution_count": 12
        }
      ]
    },
    {
      "cell_type": "markdown",
      "metadata": {
        "colab_type": "text",
        "id": "anwB_DjuK60j"
      },
      "source": [
        "## Q9.\n",
        "> 다음과 같이 실행할 때 입력값을 모두 더하여 출력하는 스크립트\n",
        "\n",
        "> (C:\\doit\\myargv.py)를 작성해 보자.\n",
        "```\n",
        "C:\\> cd doit\n",
        "C:\\doit> python myargv.py 1 2 3 4 5 6 7 8 9 10\n",
        "55\n",
        "```\n",
        ">> ※ 외장 함수 sys.argv를 사용해 보자."
      ]
    },
    {
      "cell_type": "code",
      "metadata": {
        "colab_type": "code",
        "id": "QJTNoSqtMrIM",
        "colab": {}
      },
      "source": [
        "# [Q9] Code\n",
        "# myargv.py 스크립트\n",
        "import sys # sys 모듈을 불러온다.\n",
        "\n",
        "numbers = sys.argv[1:]  # sys.argv[1:] : 파일 이름을 제외한 명령 행의 모든 입력을 의미한다.\n",
        "\n",
        "result = 0\n",
        "for number in numbers:  # 파일 이름을 제외하고 받은 요소들을 하나씩 number에 넣는다.\n",
        "    result += int(number)  # number를 숫자형으로 바꾼 뒤 result의 합하는 것을 반복한다.\n",
        "print(result)  # 최종적으로 다 합한 값이 출력된다."
      ],
      "execution_count": 0,
      "outputs": []
    },
    {
      "cell_type": "code",
      "metadata": {
        "id": "_2Qp24C4S7o2",
        "colab_type": "code",
        "outputId": "a82ab361-babd-449e-8b6c-cc8a2f979778",
        "colab": {
          "base_uri": "https://localhost:8080/",
          "height": 35
        }
      },
      "source": [
        "%run doit/myargv.py 1 2 3 4 5 6 7 8 9 10"
      ],
      "execution_count": 0,
      "outputs": [
        {
          "output_type": "stream",
          "text": [
            "55\n"
          ],
          "name": "stdout"
        }
      ]
    },
    {
      "cell_type": "markdown",
      "metadata": {
        "colab_type": "text",
        "id": "PVA_-b0TK7Ai"
      },
      "source": [
        "## Q10.\n",
        "> os 모듈을 사용하여 다음과 같이 동작하도록 코드를 작성해 보자.\n",
        "\n",
        "1. ./doit 디렉터리로 이동한다.\n",
        "2. dir 명령을 실행하고 그 결과를 변수에 담는다.\n",
        "3. dir 명령의 결과를 출력한다."
      ]
    },
    {
      "cell_type": "code",
      "metadata": {
        "colab_type": "code",
        "id": "XCnUj3obMr3v",
        "outputId": "1a96e1bf-3dc2-421d-c86f-46b31f980e6d",
        "colab": {
          "base_uri": "https://localhost:8080/",
          "height": 52
        }
      },
      "source": [
        "# [Q10] Code\n",
        "import os  # os 모듈을 불러온다.\n",
        "\n",
        "os.chdir(\"./doit\")  # os 모듈의 함수 chdir을 이용하여 디렉터리 위치를 .\\doit 으로 변경한다.\n",
        "\n",
        "result = os.popen(\"dir\")  # os 모듈의 popen을 사용하여 시스템 명령어 dir을 수행한다,\n",
        "print(result.read())  # popen의 결과를 출력하기 위해 변수를 읽어준다.\n",
        "# doit 폴더 안에 있는 모든 파일이 출력된다."
      ],
      "execution_count": 0,
      "outputs": [
        {
          "output_type": "stream",
          "text": [
            "a.txt  myargv.py  os_dir.py\n",
            "\n"
          ],
          "name": "stdout"
        }
      ]
    },
    {
      "cell_type": "markdown",
      "metadata": {
        "colab_type": "text",
        "id": "8xQf6xJ4K7M_"
      },
      "source": [
        "## Q11.\n",
        "> glob 모듈을 사용하여 ./doit 디렉터리의 파일 중 확장자가 .py인 파일만 출력하는 프로그램을 작성해 보자."
      ]
    },
    {
      "cell_type": "code",
      "metadata": {
        "colab_type": "code",
        "id": "UCO7aRh5Msx6",
        "outputId": "741dea7a-5885-4b21-89d5-6b3d7ed2675f",
        "colab": {
          "base_uri": "https://localhost:8080/",
          "height": 35
        }
      },
      "source": [
        "# [Q11] Code\n",
        "import glob  # glob 모듈을 불러온다.\n",
        "# glob(pathname)을 이용하여 디렉터리 안의 파일들을 읽어서 돌려준다. 메타 문자를 써서 원하는 파일만 읽어 들일 수 있다.\n",
        "# '*'는 임의 길이의 모든 문자열을 의미하고, '?'는 한자리의 문자를 의미한다.\n",
        "glob.glob(\"doit/*.py\")  # 우리가 알고 싶은 파일은 확장자가 .py인 파일이기 때문에 *을 사용한다."
      ],
      "execution_count": 0,
      "outputs": [
        {
          "output_type": "execute_result",
          "data": {
            "text/plain": [
              "['doit/os_dir.py', 'doit/myargv.py']"
            ]
          },
          "metadata": {
            "tags": []
          },
          "execution_count": 1
        }
      ]
    },
    {
      "cell_type": "markdown",
      "metadata": {
        "colab_type": "text",
        "id": "Q6QYCZ9HM3DW"
      },
      "source": [
        "## Q12.\n",
        "> time 모듈을 사용하여 현재 날짜와 시간을 다음과 같은 형식으로 출력해 보자.\n",
        "\n",
        "- 2018/04/03 17:20:32"
      ]
    },
    {
      "cell_type": "code",
      "metadata": {
        "colab_type": "code",
        "id": "80vm6aSMM3gf",
        "outputId": "50c72560-590f-4fc9-fbfc-ca46af68cd13",
        "colab": {
          "base_uri": "https://localhost:8080/",
          "height": 35
        }
      },
      "source": [
        "# [Q12] Code - 1\n",
        "import time  # time 모듈을 불러온다.\n",
        "# strftime를 이용해 년,월,일,시,분,초 하나씩 포맷코드로 출력하는 방법이다. \n",
        "time.strftime(\"%Y/%m/%d %H:%M:%S\")  # %Y:년, %m:월, %d:일, %H:시, %M:분, %S:초"
      ],
      "execution_count": 0,
      "outputs": [
        {
          "output_type": "execute_result",
          "data": {
            "text/plain": [
              "'2020/06/05 13:12:32'"
            ]
          },
          "metadata": {
            "tags": []
          },
          "execution_count": 15
        }
      ]
    },
    {
      "cell_type": "code",
      "metadata": {
        "id": "Oj4p1ZzHe0MN",
        "colab_type": "code",
        "outputId": "b225230a-1d7e-4155-bd5e-547093ac802c",
        "colab": {
          "base_uri": "https://localhost:8080/",
          "height": 35
        }
      },
      "source": [
        "import time  # time 모듈을 불러온다.\n",
        "# strftime를 이용해 날짜와 시간을 한번에 출력해주는 포맷코드로 출력하는 방법이다. \n",
        "time.strftime(\"%x %X\")  # %c:날짜와 시간을 출력함"
      ],
      "execution_count": 0,
      "outputs": [
        {
          "output_type": "execute_result",
          "data": {
            "text/plain": [
              "'06/05/20 13:12:33'"
            ]
          },
          "metadata": {
            "tags": []
          },
          "execution_count": 16
        }
      ]
    },
    {
      "cell_type": "markdown",
      "metadata": {
        "colab_type": "text",
        "id": "x2IYgozSM3gd"
      },
      "source": [
        "## Q13.\n",
        "> random 모듈을 사용하여 로또 번호(1~45 사이의 숫자 6개)를 생성해 보자(단 중복된 숫자가 있으면 안 됨)."
      ]
    },
    {
      "cell_type": "code",
      "metadata": {
        "colab_type": "code",
        "id": "FiKNOu9HM3DX",
        "outputId": "0e44766f-61df-4071-b93a-f24b7e104ca1",
        "colab": {
          "base_uri": "https://localhost:8080/",
          "height": 35
        }
      },
      "source": [
        "# [Q13] Code - 1\n",
        "import random # random 모듈을 불러온다.\n",
        "\n",
        "result = []   # result에 빈 리스트를 지정해준다.\n",
        "while len(result) < 6:  # 파이썬은 숫자가 0부터 시작하므로, 6에서 멈추도록 조건을 건다.\n",
        "    num = random.randint(1, 45)   # num이라는 변수에 0~9사이의 숫자 중 하나를 랜덤으로 할당해준다.\n",
        "    if num not in result:   # 뽑은 숫자가 result 리스트에 없다면 추가하는 코드를 만든다.\n",
        "        result.append(num)\n",
        "\n",
        "result.sort() # 리스트의 요소를 오름차순으로 정렬한다.\n",
        "print(result) # 1에서 45사이에 숫자 중 무작위로 뽑은 6개의 숫자가 출력된다."
      ],
      "execution_count": 0,
      "outputs": [
        {
          "output_type": "stream",
          "text": [
            "[11, 17, 26, 31, 38, 40]\n"
          ],
          "name": "stdout"
        }
      ]
    },
    {
      "cell_type": "code",
      "metadata": {
        "id": "HWJs2Nsqh32A",
        "colab_type": "code",
        "outputId": "7c42d0d8-4151-43db-db8d-69eac837dcb5",
        "colab": {
          "base_uri": "https://localhost:8080/",
          "height": 35
        }
      },
      "source": [
        "# [Q13] Code - 2\n",
        "import random # random 모듈을 불러온다.\n",
        "\n",
        "result = []   # result에 빈 리스트를 지정해준다.\n",
        "num = random.randint(1,45)  # num이라는 변수에 0~9사이의 숫자 중 하나를 랜덤으로 할당해준다.\n",
        "\n",
        "for i in range(6):  # result에 6개의 숫자가 들어가도록 for문으로 6번의 반복을 준다.\n",
        "    while num in result:  # while문은 True일 때 실행되고, 만일 num에서 골라진 임의의 숫자가 이미 result에 있는 숫자라면 다시 한번 뽑는 일을 수행한다. \n",
        "        num = random.randint(1,45)  # result에 없는 숫자가 num에 할당된 상태일 때 while문을 탈출하게 된다.\n",
        "    result.append(num)  # result.append(num)는 result 끝에 해당 숫자를 추가한다.\n",
        "\n",
        "result.sort() # 리스트의 요소를 오름차순으로 정렬한다.\n",
        "print(result) # 1에서 45사이에 숫자 중 무작위로 뽑은 6개의 숫자가 출력된다."
      ],
      "execution_count": 0,
      "outputs": [
        {
          "output_type": "stream",
          "text": [
            "[21, 24, 27, 28, 31, 36]\n"
          ],
          "name": "stdout"
        }
      ]
    },
    {
      "cell_type": "code",
      "metadata": {
        "id": "FTCYzY54ja26",
        "colab_type": "code",
        "outputId": "9ce5445e-e7e4-4bc2-81b8-f390edc3512b",
        "colab": {
          "base_uri": "https://localhost:8080/",
          "height": 35
        }
      },
      "source": [
        "# [Q13] Code - 3\n",
        "import random # random 모듈을 불러온다.\n",
        "\n",
        "num = [1, 2, 3, 4, 5, 6, 7, 8, 9, 10, \n",
        "       11, 12, 13, 14, 15, 16, 17, 18, 19, 20, \n",
        "       21, 22, 23, 24, 25, 26, 27, 28, 29, 30, \n",
        "       31, 32, 33, 34, 35, 36, 37, 38, 39, 40, \n",
        "       41, 42, 43, 44, 45]  # 1부터 45까지 리스트를 만든다.\n",
        "result = random.sample(num, 6)  # random.sample을 이용해 6개의 숫자를 무작위로 뽑는다.\n",
        "result.sort() # 리스트의 요소를 오름차순으로 정렬한다.\n",
        "print(result) # 1에서 45사이에 숫자 중 무작위로 뽑은 6개의 숫자가 출력된다."
      ],
      "execution_count": 0,
      "outputs": [
        {
          "output_type": "stream",
          "text": [
            "[4, 6, 10, 21, 25, 33]\n"
          ],
          "name": "stdout"
        }
      ]
    },
    {
      "cell_type": "markdown",
      "metadata": {
        "id": "2ljBDShkbqZO",
        "colab_type": "text"
      },
      "source": [
        "## 코딩 연습 결과를 github에 올리기\n",
        "> 완성된 ipython 노트북 파일을 각자의 github에 올리시오.\n",
        "\n",
        "- github 계정 만들기 (계정이 없는 학생)\n",
        "    1. github에 sign up (Google gmail 계정을 이용해서 만드시오.)\n",
        "- github에 노트 올리기\n",
        "    2. github에 각자의 id로 repo를 만드시오. (한번 만들면 계속 재사용)\n",
        "    3. github repo에 연습결과 노트를 올리시오.\n",
        "        - 제출노트: ch5_exercises_id.ipynb\n"
      ]
    },
    {
      "cell_type": "code",
      "metadata": {
        "id": "OnCR-YNCc8B6",
        "colab_type": "code",
        "colab": {}
      },
      "source": [
        ""
      ],
      "execution_count": 0,
      "outputs": []
    }
  ]
}