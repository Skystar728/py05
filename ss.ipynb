{
  "nbformat": 4,
  "nbformat_minor": 0,
  "metadata": {
    "colab": {
      "name": "py_exam2020_final_ANSWER",
      "provenance": [],
      "collapsed_sections": [],
      "include_colab_link": true
    },
    "kernelspec": {
      "display_name": "Python 3",
      "language": "python",
      "name": "python3"
    }
  },
  "cells": [
    {
      "cell_type": "markdown",
      "metadata": {
        "id": "view-in-github",
        "colab_type": "text"
      },
      "source": [
        "<a href=\"https://colab.research.google.com/github/Redwoods/Py/blob/master/py2020/Notebook/py_exam2020_final_ANSWER.ipynb\" target=\"_parent\"><img src=\"https://colab.research.google.com/assets/colab-badge.svg\" alt=\"Open In Colab\"/></a>"
      ]
    },
    {
      "cell_type": "markdown",
      "metadata": {
        "colab_type": "text",
        "id": "jXMg8Cv_Q0bM"
      },
      "source": [
        "```\n",
        "\n",
        "```\n",
        "\n",
        "# 기말필기시험: 파이썬활용 (2020.6.22)\n",
        "- 문제에 배점이 표시되어 있음. (총 30점)  \n",
        "```\n",
        "```\n"
      ]
    },
    {
      "cell_type": "markdown",
      "metadata": {
        "id": "Rc8uW2C1MAyp",
        "colab_type": "text"
      },
      "source": [
        "```\n",
        "\n",
        "```\n",
        "\n",
        "***\n",
        "\n",
        "코드에 대한 평가는 다음 기준으로 수행한다.\n",
        "1. 적절한 함수와 로직을 이용하는 능력\n",
        "2. 변수, 함수명을 명확하게 사용해서 코딩하는 능력.\n",
        "3. 코드를 **최소한의 줄로 간결하게 작성**하는 능력.\n",
        "\n",
        "***\n",
        "\n"
      ]
    },
    {
      "cell_type": "markdown",
      "metadata": {
        "id": "ogX2eYe-z78r",
        "colab_type": "text"
      },
      "source": [
        "```\n",
        "\n",
        "\n",
        "\n",
        "\n",
        "\n",
        "\n",
        "\n",
        "```\n"
      ]
    },
    {
      "cell_type": "markdown",
      "metadata": {
        "colab_type": "text",
        "id": "htP5M9O8OkSd"
      },
      "source": [
        "### [1: 4점] 게시판 페이징하기\n",
        "> 게시판 프로그램을 작성하고 있다.\n",
        ">> 그런데 게시물의 총 건수와 한 페이지에 보여 줄 게시물 수를 입력으로 주었을 때 총 페이지 수를 출력하는 함수 (getTotalPageNew)를 만들어보자.   \n",
        ">>> 한 페이지에서 보여 줄 게시물 수가 최대 10  \n",
        "- 프로그램 예시  \n",
        "\n",
        "```\n",
        "def getTotalPage(m, n):\n",
        "    if m % n == 0:\n",
        "        return m // n\n",
        "    else:\n",
        "        return m // n + 1\n",
        "\n",
        "print(getTotalPage(5, 10))  # 1\n",
        "print(getTotalPage(15, 10)) # 2\n",
        "print(getTotalPage(25, 10)) # 3\n",
        "print(getTotalPage(30, 10)) # 3\n",
        "```  \n",
        "> 최소한의 줄로 동작하는 코드로 만드시오.\n",
        "\n",
        "```\n",
        "_________________________________________________________________________________________\n",
        "\n",
        "_________________________________________________________________________________________\n",
        "\n",
        "```"
      ]
    },
    {
      "cell_type": "code",
      "metadata": {
        "id": "80netNRtDX1Z",
        "colab_type": "code",
        "colab": {
          "base_uri": "https://localhost:8080/",
          "height": 53
        },
        "outputId": "5df9f0dd-a104-4f89-fa4e-492492a23fa8"
      },
      "source": [
        "def getTotalPage(m, n):\n",
        "    return (m-1) // n +1\n",
        "\n",
        "print(getTotalPage(25, 10)) # 3\n",
        "print(getTotalPage(30, 10)) # 3"
      ],
      "execution_count": null,
      "outputs": [
        {
          "output_type": "stream",
          "text": [
            "3\n",
            "3\n"
          ],
          "name": "stdout"
        }
      ]
    },
    {
      "cell_type": "markdown",
      "metadata": {
        "colab_type": "text",
        "id": "dXdVRpfERIvx"
      },
      "source": [
        "### [2: 4점] 리스트 총합 구하기  \n",
        "> 다음은 A학급 학생의 점수를 나타내는 리스트이다.  \n",
        "> 다음 리스트에서 60점 이상 점수의 총합을 구하시오.  \n",
        "\n",
        "```\n",
        "A = [20, 55, 67, 82, 45, 33, 90, 87, 100, 25]\n",
        "```\n",
        "\n",
        "- 프로그램 예시\n",
        "\n",
        "```\n",
        "result = 0\n",
        "while A:                # A 리스트에 값이 있는 동안\n",
        "    mark = A.pop()      # A 리스트의 가장 마지막 항목을 하나씩 뽑아냄\n",
        "    if mark >= 60:      # 60점 이상의 점수만 더함\n",
        "        result += mark\n",
        "\n",
        "print(result)           # 결과 출력\n",
        "```  \n",
        "\n",
        "> 최소한의 줄로 동작하는 코드를 만드시오.\n",
        ">> filter, map 등의 함수와 lambda 식을 사용하시오.\n",
        "\n",
        "```\n",
        "\n",
        "_________________________________________________________________________________________\n",
        "\n",
        "_________________________________________________________________________________________\n",
        "\n",
        "_________________________________________________________________________________________\n",
        "\n",
        "\n",
        "```"
      ]
    },
    {
      "cell_type": "code",
      "metadata": {
        "id": "Gf8cCfGMD8vC",
        "colab_type": "code",
        "colab": {}
      },
      "source": [
        "# filter로 60점이상을 판단하여 리스트를 만든 후 총합을 구해준다\n",
        "print(sum(list(filter(lambda x : x >= 60, [20, 55, 67, 82, 45, 33, 90, 87, 100, 25])))) "
      ],
      "execution_count": null,
      "outputs": []
    },
    {
      "cell_type": "markdown",
      "metadata": {
        "id": "6eM2GmYc73y4",
        "colab_type": "text"
      },
      "source": [
        "###[3: 4점] 사칙연산 계산기\n",
        "\n",
        "> 다음과 같이 동작하는 클래스 Calculator를 작성하시오.\n",
        "\n",
        "```\n",
        "\n",
        ">>> cal1 = Calculator([1,2,3,4,5])\n",
        ">>> cal1.sum() # 합계\n",
        "15\n",
        ">>> cal1.avg() # 평균\n",
        "3.0\n",
        "\n",
        ">>> cal2 = Calculator([6,7,8,9,10])\n",
        ">>> cal2.sum() # 합계\n",
        "40\n",
        ">>> cal2.avg() # 평균\n",
        "8.0\n",
        "\n",
        "```\n",
        "\n",
        "```\n",
        "_________________________________________________________________________________________\n",
        "\n",
        "_________________________________________________________________________________________\n",
        "\n",
        "_________________________________________________________________________________________\n",
        "\n",
        "_________________________________________________________________________________________\n",
        "\n",
        "_________________________________________________________________________________________\n",
        "\n",
        "\n",
        "```\n"
      ]
    },
    {
      "cell_type": "code",
      "metadata": {
        "id": "_zn-9ruBF4gL",
        "colab_type": "code",
        "colab": {}
      },
      "source": [
        "class Calculator:\n",
        "    def __init__(self, numberlist):\n",
        "        self.numberlist = numberlist\n",
        "\n",
        "    def sum(self):\n",
        "        result = 0\n",
        "        for num in self.numberlist:\n",
        "            result += num\n",
        "        return result\n",
        "\n",
        "    def avg(self):\n",
        "        total = self.sum()\n",
        "        return total / len(self.numberlist)"
      ],
      "execution_count": null,
      "outputs": []
    },
    {
      "cell_type": "code",
      "metadata": {
        "id": "b-TLTanEEu5b",
        "colab_type": "code",
        "colab": {}
      },
      "source": [
        ""
      ],
      "execution_count": null,
      "outputs": []
    },
    {
      "cell_type": "markdown",
      "metadata": {
        "id": "ezQ7jV0b7wMc",
        "colab_type": "text"
      },
      "source": [
        "### [4: 4점]  오류와 예외 처리\n",
        "> 다음 코드의 실행 결과를 예측하고 그 이유에 대해 설명하시오.\n",
        "\n",
        "```\n",
        "result = 0\n",
        "\n",
        "try:\n",
        "    [1, 2, 3][0]\n",
        "    \"a\"+1\n",
        "    4 / 0\n",
        "except TypeError:\n",
        "    result += 1\n",
        "except ZeroDivisionError:\n",
        "    result += 2\n",
        "except IndexError:\n",
        "    result += 3\n",
        "finally:\n",
        "    result += 4\n",
        "\n",
        "print(result)\n",
        "```\n",
        "```\n",
        "_________________________________________________________________________________________\n",
        "\n",
        "_________________________________________________________________________________________\n",
        "\n",
        "_________________________________________________________________________________________\n",
        "\n",
        "_________________________________________________________________________________________\n",
        "\n",
        "```\n"
      ]
    },
    {
      "cell_type": "code",
      "metadata": {
        "id": "b-DdrrpAGU2J",
        "colab_type": "code",
        "colab": {
          "base_uri": "https://localhost:8080/",
          "height": 35
        },
        "outputId": "84ad76e8-10d8-4945-f443-9c132c9d4cdf"
      },
      "source": [
        "result = 0\n",
        " \n",
        "try:\n",
        "    [1, 2, 3][0]\n",
        "    \"a\"+1\n",
        "    4 / 0\n",
        "except TypeError:\n",
        "    result += 1\n",
        "except ZeroDivisionError:\n",
        "    result += 2\n",
        "except IndexError:\n",
        "    result += 3\n",
        "finally:\n",
        "    result += 4\n",
        " \n",
        "print(result)"
      ],
      "execution_count": null,
      "outputs": [
        {
          "output_type": "stream",
          "text": [
            "5\n"
          ],
          "name": "stdout"
        }
      ]
    },
    {
      "cell_type": "markdown",
      "metadata": {
        "id": "bsr6bY5LGXFp",
        "colab_type": "text"
      },
      "source": [
        "### 위의 예외처리 코드 설명\n",
        "> try  블럭의 두번째 라인인 \"a\"+1 에서 TypeError가 발생\n",
        "- result = 1  \n",
        "\n",
        "> finally 블럭에서,\n",
        "- result = 1 + 4"
      ]
    },
    {
      "cell_type": "markdown",
      "metadata": {
        "colab_type": "text",
        "id": "o9MO9BclZdxy"
      },
      "source": [
        "### [5: 8점] 파일을 읽어서 평균값 구하고, 결과 저장하기\n",
        "\n",
        "> 다음과 같이 총 10줄로 이루어진 sample.txt 파일이 있다.   \n",
        "> sample.txt 파일의 숫자 값을 모두 읽어 총합과 평균 값을 구한 후   \n",
        "> 평균 값을 result.txt 파일에 쓰는 프로그램을 작성하시오.  \n",
        "> sample.txt\n",
        "\n",
        "```\n",
        "70\n",
        "60\n",
        "55\n",
        "75\n",
        "95\n",
        "90\n",
        "80\n",
        "80\n",
        "85\n",
        "100\n",
        "```\n",
        "\n",
        "\n",
        "- 프로그램 예시\n",
        "\n",
        "```\n",
        "\n",
        "f = open(\"sample.txt\")\n",
        "lines = f.readlines( )  # sample.txt를 줄 단위로 모두 읽는다.\n",
        "f.close( )\n",
        "\n",
        "\n",
        "total = 0\n",
        "for line in lines:\n",
        "    score = int(line)  # 줄에 적힌 점수를 숫자형으로 변환한다.\n",
        "    total += score\n",
        "average = total / len(lines)\n",
        "\n",
        "\n",
        "f = open(\"result.txt\", \"w\")\n",
        "f.write(str(average))\n",
        "f.close()\n",
        "\n",
        "```\n",
        "> readlines( )를 **read() 함수로 변경**해서 코드를 만드시오.\n",
        "\n",
        "- 반드시 **with** 를 이용해서 파일을 처리하시오.\n",
        "\n",
        "```\n",
        "_________________________________________________________________________________________\n",
        "\n",
        "_________________________________________________________________________________________\n",
        "\n",
        "_________________________________________________________________________________________\n",
        "\n",
        "_________________________________________________________________________________________\n",
        "\n",
        "_________________________________________________________________________________________\n",
        "\n",
        "_________________________________________________________________________________________\n",
        "\n",
        "_________________________________________________________________________________________\n",
        "\n",
        "_________________________________________________________________________________________\n",
        "\n",
        "_________________________________________________________________________________________\n",
        "\n",
        "```"
      ]
    },
    {
      "cell_type": "code",
      "metadata": {
        "id": "yXl9ePqFFLeM",
        "colab_type": "code",
        "colab": {}
      },
      "source": [
        "with open(\"sample.txt\") as f :\n",
        "    lines = f.read() # 텍스트 안의 글자를 통채로 가져온다\n",
        "    result = lines.split(\"\\n\") # 줄바꿈을 기준으로 자른다\n",
        "\n",
        "with open(\"result.txt\", \"w\") as f:\n",
        "    average = sum(list(map(lambda x : int(x), result)))/len(result) # 문자를 숫자로 변경하고 평균을 구한다\n",
        "    f.write(str(average))"
      ],
      "execution_count": null,
      "outputs": []
    },
    {
      "cell_type": "markdown",
      "metadata": {
        "colab_type": "text",
        "id": "N1IP08zaawBq"
      },
      "source": [
        "```\n",
        "\n",
        "```\n",
        "### [6: 6점] Duplicate Numbers\n",
        "\n",
        "> 0 ~ 9의 문자로 된 숫자를 입력받았을 때, 이 입력값이 0 ~ 9의 모든 숫자를  \n",
        "> 각각 한 번씩만 사용한 것인지 확인하는 함수를 작성하시오.  \n",
        "\n",
        "```\n",
        "입력 예시: 0123456789 01234 01234567890 6789012345 012322456789\n",
        "출력 예시: true false false true false\n",
        "```\n",
        "\n",
        "- 프로그램 예시\n",
        "\n",
        "```\n",
        "def chkDupNum(s):\n",
        "    result = []\n",
        "    for num in s:\n",
        "        if num not in result:\n",
        "            result.append(num)\n",
        "        else:\n",
        "            return False\n",
        "    return len(result) == 10\n",
        "\n",
        "# 실행 예\n",
        "print(chkDupNum(\"0123456789\"))      # True 리턴\n",
        "print(chkDupNum(\"01234\"))           # False 리턴\n",
        "print(chkDupNum(\"01234567890\"))     # False 리턴\n",
        "print(chkDupNum(\"6789012345\"))      # True 리턴\n",
        "print(chkDupNum(\"012322456789\"))    # False 리턴\n",
        "\n",
        "\n",
        "\n",
        "```\n",
        "\n",
        "> 위와 같이 작용하는 코드를 다른 방법으로 최소한의 코드 라인으로 만드시오.\n",
        "\n",
        "```\n",
        "_________________________________________________________________________________________\n",
        "\n",
        "_________________________________________________________________________________________\n",
        "\n",
        "_________________________________________________________________________________________\n",
        "\n",
        "\n",
        "```\n"
      ]
    },
    {
      "cell_type": "code",
      "metadata": {
        "id": "pWMk2jToHPxS",
        "colab_type": "code",
        "colab": {}
      },
      "source": [
        "# set을 이용하여 중복을 제거하고 갯수를 카운트해본다.\n",
        "def chkDupNum(s):\n",
        "    return \"True\" if len(set(s)) == 10 and len(s) == 10 else \"False\"\n",
        "\n",
        "# print(chkDupNum(\"0123456789\")) # True 리턴\n",
        "# print(chkDupNum(\"012322456789\"))  # False 리턴"
      ],
      "execution_count": null,
      "outputs": []
    },
    {
      "cell_type": "markdown",
      "metadata": {
        "id": "WSUz5jUYqnL5",
        "colab_type": "text"
      },
      "source": [
        "### 2020. 1학기 비대면 강의 수강에 고생 많았습니다.\n",
        "\n",
        "- 2020. 여름 방학 동안 다음에서 제공하는 내용으로 복습하고, 데이터코딩을 더 공부하여 한단계 발전할 것을 기대합니다.\n",
        "\n",
        "    - [Youtube: 파이썬을 배워보자, JoCoding 2020 여름 특강](https://www.youtube.com/watch?v=8vjgx7joCqg)\n",
        "    - [파이썬 주요 모듈 소개: numpy, pandas, matplotlib, sklearn, tensorflow](https://github.com/Redwoods/Py/tree/master/py2019/Lec/notebook/py_modules/)\n"
      ]
    }
  ]
} 
